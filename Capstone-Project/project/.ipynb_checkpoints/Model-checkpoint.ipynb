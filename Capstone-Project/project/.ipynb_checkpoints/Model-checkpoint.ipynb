{
 "cells": [
  {
   "cell_type": "markdown",
   "metadata": {},
   "source": [
    "# Model development\n",
    "Notebook overview:\n",
    "- create benchmark model\n",
    "- error metrics\n",
    "- create and test data loader\n",
    "- train\n",
    "- evaluate"
   ]
  },
  {
   "cell_type": "code",
   "execution_count": 1,
   "metadata": {},
   "outputs": [],
   "source": [
    "import os.path\n",
    "import pandas as pd\n",
    "import numpy as np\n",
    "import matplotlib.pyplot as plt\n",
    "import torch\n",
    "import torch.utils.data\n",
    "\n",
    "%matplotlib inline"
   ]
  },
  {
   "cell_type": "code",
   "execution_count": 2,
   "metadata": {},
   "outputs": [],
   "source": [
    "data_dir = '../data/'"
   ]
  },
  {
   "cell_type": "code",
   "execution_count": 3,
   "metadata": {},
   "outputs": [],
   "source": [
    "nasdaq_train = pd.read_csv(os.path.join(data_dir,'nasdaq_1d','train.csv'), index_col=0, header=None)\n",
    "nasdaq_test = pd.read_csv(os.path.join(data_dir,'nasdaq_1d','test.csv'), index_col=0, header=None)"
   ]
  },
  {
   "cell_type": "code",
   "execution_count": 4,
   "metadata": {},
   "outputs": [],
   "source": [
    "eurusd_train = pd.read_csv(os.path.join(data_dir,'eurusd_1d','train.csv'), index_col=0, header=None)\n",
    "eurusd_test = pd.read_csv(os.path.join(data_dir,'eurusd_1d','test.csv'), index_col=0, header=None)"
   ]
  },
  {
   "cell_type": "code",
   "execution_count": 5,
   "metadata": {},
   "outputs": [
    {
     "data": {
      "text/plain": [
       "{'Open': 0,\n",
       " 'High': 1,\n",
       " 'Low': 2,\n",
       " 'Close': 3,\n",
       " 'Gap': 4,\n",
       " 'EMA': 5,\n",
       " 'SMA': 6,\n",
       " 'Momentum': 7,\n",
       " 'RSI': 8}"
      ]
     },
     "execution_count": 5,
     "metadata": {},
     "output_type": "execute_result"
    }
   ],
   "source": [
    "col2int = {k:v for k,v in zip(['Open','High','Low','Close','Gap','EMA','SMA','Momentum','RSI'], range(0,9))}\n",
    "col2int"
   ]
  },
  {
   "cell_type": "markdown",
   "metadata": {},
   "source": [
    "# Benchmark\n",
    "Because the benchmark model is very simple and needed only in this notebook, I will define it here.\n",
    "\n",
    "Simple Moving Average forecasting implementation:"
   ]
  },
  {
   "cell_type": "code",
   "execution_count": 6,
   "metadata": {},
   "outputs": [],
   "source": [
    "class MA_regressor:\n",
    "    def __init__(self, N=5):\n",
    "        self.N = N\n",
    "    \n",
    "    def forward(self, price):\n",
    "        return price[-self.N:].sum() / self.N\n",
    "    \n",
    "    def predict(self, data, steps=10):\n",
    "        predictions = np.zeros((len(data),steps))\n",
    "        for i in range(0,len(data)):\n",
    "            d = data[i][:,col2int[\"Close\"]]\n",
    "            for j in range(0,steps):\n",
    "                predictions[i][j] = self.forward(np.append(d, predictions[i][:j]))\n",
    "        return predictions"
   ]
  },
  {
   "cell_type": "code",
   "execution_count": 7,
   "metadata": {},
   "outputs": [],
   "source": [
    "sample, steps = 30, 3\n",
    "\n",
    "benchmark = MA_regressor(10)\n",
    "y = benchmark.predict([nasdaq_train.iloc[:sample].values], steps)[0]"
   ]
  },
  {
   "cell_type": "code",
   "execution_count": 8,
   "metadata": {},
   "outputs": [
    {
     "data": {
      "text/plain": [
       "[<matplotlib.lines.Line2D at 0x7f0e1caacf60>]"
      ]
     },
     "execution_count": 8,
     "metadata": {},
     "output_type": "execute_result"
    },
    {
     "data": {
      "image/png": "[encoded data removed]",
      "text/plain": [
       "<Figure size 864x432 with 1 Axes>"
      ]
     },
     "metadata": {},
     "output_type": "display_data"
    }
   ],
   "source": [
    "plt.figure(figsize=(12,6))\n",
    "plt.xticks(rotation='vertical')\n",
    "plt.plot(nasdaq_train.iloc[:sample+steps,3])\n",
    "\n",
    "# Reconstruct index\n",
    "y_series = nasdaq_train.iloc[sample-1:sample+steps,3].copy()\n",
    "y_series.iloc[1:] = y\n",
    "\n",
    "plt.plot(y_series)"
   ]
  },
  {
   "cell_type": "markdown",
   "metadata": {},
   "source": [
    "# Metrics\n",
    "The sample prediction is not successfull at all, we need some metric to optimize it.\n",
    "\n",
    "Because this is an regression problem, we need a loss function describing how far we are from the correct answer.\n",
    "I propose an $MSE$ metric with a sum reduction:\n",
    "\n",
    "\\begin{equation}\n",
    "MSE = \\frac{1}{2} \\left( y - \\hat{y} \\right)^2\n",
    "\\end{equation}\n",
    "\n",
    "It will allow us to compute a gradient that moves towards a better solution."
   ]
  },
  {
   "cell_type": "code",
   "execution_count": 9,
   "metadata": {},
   "outputs": [],
   "source": [
    "def loss_mse(y_hat, y):\n",
    "    mse = 0.0\n",
    "    for a,b in zip(y_hat, y):\n",
    "        mse += 0.5 * (a - b)**2\n",
    "    return mse"
   ]
  },
  {
   "cell_type": "markdown",
   "metadata": {},
   "source": [
    "## Optimizing our benchmark\n",
    "We need to find best parameters for our benchmark. Test function will calculate mean error for specific parameter."
   ]
  },
  {
   "cell_type": "code",
   "execution_count": 10,
   "metadata": {},
   "outputs": [
    {
     "data": {
      "text/plain": [
       "515.8219224775455"
      ]
     },
     "execution_count": 10,
     "metadata": {},
     "output_type": "execute_result"
    }
   ],
   "source": [
    "target = nasdaq_train.iloc[sample:sample+steps,3].values\n",
    "loss_mse(target, y)"
   ]
  },
  {
   "cell_type": "code",
   "execution_count": 11,
   "metadata": {},
   "outputs": [],
   "source": [
    "def test(in_data, target, w=1):\n",
    "    loss = [[], []]\n",
    "    for i in range(2, 90):\n",
    "        benchmark = MA_regressor(i)\n",
    "        y = benchmark.predict([in_data.values], steps)[0]\n",
    "        loss[0].append(i)\n",
    "        loss[1].append(loss_mse(target, y) / w)\n",
    "    return np.array(loss)"
   ]
  },
  {
   "cell_type": "code",
   "execution_count": 12,
   "metadata": {},
   "outputs": [
    {
     "data": {
      "text/plain": [
       "[<matplotlib.lines.Line2D at 0x7f0e1ca20c88>]"
      ]
     },
     "execution_count": 12,
     "metadata": {},
     "output_type": "execute_result"
    },
    {
     "data": {
      "image/png": "[encoded data removed]",
      "text/plain": [
       "<Figure size 432x288 with 1 Axes>"
      ]
     },
     "metadata": {},
     "output_type": "display_data"
    }
   ],
   "source": [
    "sample = 100\n",
    "tests = 500\n",
    "\n",
    "loss = test(nasdaq_train.iloc[:sample], nasdaq_train.iloc[sample:sample+steps,3].values, w=tests)\n",
    "for offset in range(1,tests,2):\n",
    "    loss[1] += test(nasdaq_train.iloc[offset:offset+sample],\n",
    "                 nasdaq_train.iloc[offset+sample:offset+sample+steps,3].values, w=tests)[1]\n",
    "\n",
    "plt.plot(*loss, 'x')"
   ]
  },
  {
   "cell_type": "markdown",
   "metadata": {},
   "source": [
    "### Best benchmark model\n",
    "It is clear that the lowest value of `N = 2` gives the best results over half of the NASDAQ train dataset.\n",
    "\n",
    "Let's save it as our final benchmark."
   ]
  },
  {
   "cell_type": "code",
   "execution_count": 13,
   "metadata": {},
   "outputs": [],
   "source": [
    "benchmark = MA_regressor(N=2)"
   ]
  },
  {
   "cell_type": "markdown",
   "metadata": {},
   "source": [
    "# LSTM model\n",
    "Great, now that we know what the performance of our benchmark is, we can start developing a better solution.\n",
    "Inside `model/model.py` there is an LSTMRegressor class, which is the model we will train.\n",
    "\n",
    "I will train both of them and compare the results.\n",
    "\n",
    "## Data Loader\n",
    "Before we start we need to create a data loader for our problem.\n",
    "The best approach is to use a sliding window over the dataset."
   ]
  },
  {
   "cell_type": "code",
   "execution_count": 16,
   "metadata": {},
   "outputs": [],
   "source": [
    "class SlidingWindowDataset(torch.utils.data.Dataset):\n",
    "    def __init__(self, data, window_size):\n",
    "        super().__init__()\n",
    "        self.timeseries = data\n",
    "        self.window = window_size\n",
    "        self.length = len(self.timeseries)\n",
    "    \n",
    "    def __len__(self):\n",
    "        return self.length - self.window + 1\n",
    "        \n",
    "    def __getitem__(self, index):\n",
    "        if type(index) is slice:\n",
    "            start = 0\n",
    "            stop = self.length - self.window\n",
    "            step = 1\n",
    "            if index.start is not None:\n",
    "                start = index.start\n",
    "            if index.stop is not None:\n",
    "                stop = index.stop\n",
    "            if index.step is not None:\n",
    "                step = index.step\n",
    "            return np.array([self.timeseries[i:i+self.window] for i in range(start,stop,step)])\n",
    "        else:\n",
    "            last = index + self.window\n",
    "            if index < 0 or last > self.length:\n",
    "                raise IndexError\n",
    "            return self.timeseries[index:last]"
   ]
  },
  {
   "cell_type": "code",
   "execution_count": 17,
   "metadata": {},
   "outputs": [],
   "source": [
    "ds = SlidingWindowDataset(nasdaq_test.values, 5)\n",
    "ds_loader = torch.utils.data.DataLoader(ds, batch_size=4)"
   ]
  },
  {
   "cell_type": "code",
   "execution_count": 18,
   "metadata": {},
   "outputs": [
    {
     "data": {
      "text/plain": [
       "(torch.Size([4, 5, 9]),\n",
       " tensor([[[ 6.5735e+03,  6.5867e+03,  6.3046e+03,  6.3330e+03,  1.0000e+00,\n",
       "            7.2584e+03,  7.4221e+03, -1.9542e+02,  5.0000e+01],\n",
       "          [ 6.2785e+03,  6.3552e+03,  6.1902e+03,  6.1929e+03,  3.0000e+00,\n",
       "            7.2264e+03,  7.3989e+03, -1.4007e+02,  4.2857e+01],\n",
       "          [ 6.2579e+03,  6.5555e+03,  6.2143e+03,  6.5544e+03,  2.0000e+00,\n",
       "            7.2062e+03,  7.3729e+03,  3.6144e+02,  3.5714e+01],\n",
       "          [ 6.4572e+03,  6.5830e+03,  6.3370e+03,  6.5795e+03,  1.0000e+00,\n",
       "            7.1874e+03,  7.3521e+03,  2.5130e+01,  4.2857e+01],\n",
       "          [ 6.6168e+03,  6.6842e+03,  6.5292e+03,  6.5845e+03,  1.0000e+00,\n",
       "            7.1693e+03,  7.3333e+03,  5.0298e+00,  4.2857e+01]],\n",
       " \n",
       "         [[ 6.2785e+03,  6.3552e+03,  6.1902e+03,  6.1929e+03,  3.0000e+00,\n",
       "            7.2264e+03,  7.3989e+03, -1.4007e+02,  4.2857e+01],\n",
       "          [ 6.2579e+03,  6.5555e+03,  6.2143e+03,  6.5544e+03,  2.0000e+00,\n",
       "            7.2062e+03,  7.3729e+03,  3.6144e+02,  3.5714e+01],\n",
       "          [ 6.4572e+03,  6.5830e+03,  6.3370e+03,  6.5795e+03,  1.0000e+00,\n",
       "            7.1874e+03,  7.3521e+03,  2.5130e+01,  4.2857e+01],\n",
       "          [ 6.6168e+03,  6.6842e+03,  6.5292e+03,  6.5845e+03,  1.0000e+00,\n",
       "            7.1693e+03,  7.3333e+03,  5.0298e+00,  4.2857e+01],\n",
       "          [ 6.6495e+03,  6.6600e+03,  6.5701e+03,  6.6353e+03,  3.0000e+00,\n",
       "            7.1533e+03,  7.3137e+03,  5.0760e+01,  5.0000e+01]],\n",
       " \n",
       "         [[ 6.2579e+03,  6.5555e+03,  6.2143e+03,  6.5544e+03,  2.0000e+00,\n",
       "            7.2062e+03,  7.3729e+03,  3.6144e+02,  3.5714e+01],\n",
       "          [ 6.4572e+03,  6.5830e+03,  6.3370e+03,  6.5795e+03,  1.0000e+00,\n",
       "            7.1874e+03,  7.3521e+03,  2.5130e+01,  4.2857e+01],\n",
       "          [ 6.6168e+03,  6.6842e+03,  6.5292e+03,  6.5845e+03,  1.0000e+00,\n",
       "            7.1693e+03,  7.3333e+03,  5.0298e+00,  4.2857e+01],\n",
       "          [ 6.6495e+03,  6.6600e+03,  6.5701e+03,  6.6353e+03,  3.0000e+00,\n",
       "            7.1533e+03,  7.3137e+03,  5.0760e+01,  5.0000e+01],\n",
       "          [ 6.5069e+03,  6.6937e+03,  6.5069e+03,  6.6659e+03,  2.0000e+00,\n",
       "            7.1387e+03,  7.2950e+03,  3.0660e+01,  5.0000e+01]],\n",
       " \n",
       "         [[ 6.4572e+03,  6.5830e+03,  6.3370e+03,  6.5795e+03,  1.0000e+00,\n",
       "            7.1874e+03,  7.3521e+03,  2.5130e+01,  4.2857e+01],\n",
       "          [ 6.6168e+03,  6.6842e+03,  6.5292e+03,  6.5845e+03,  1.0000e+00,\n",
       "            7.1693e+03,  7.3333e+03,  5.0298e+00,  4.2857e+01],\n",
       "          [ 6.6495e+03,  6.6600e+03,  6.5701e+03,  6.6353e+03,  3.0000e+00,\n",
       "            7.1533e+03,  7.3137e+03,  5.0760e+01,  5.0000e+01],\n",
       "          [ 6.5069e+03,  6.6937e+03,  6.5069e+03,  6.6659e+03,  2.0000e+00,\n",
       "            7.1387e+03,  7.2950e+03,  3.0660e+01,  5.0000e+01],\n",
       "          [ 6.5848e+03,  6.6002e+03,  6.4571e+03,  6.4635e+03,  1.0000e+00,\n",
       "            7.1184e+03,  7.2755e+03, -2.0244e+02,  5.0000e+01]]],\n",
       "        dtype=torch.float64))"
      ]
     },
     "execution_count": 18,
     "metadata": {},
     "output_type": "execute_result"
    }
   ],
   "source": [
    "sample = next(iter(ds_loader))\n",
    "sample.shape, sample"
   ]
  },
  {
   "cell_type": "markdown",
   "metadata": {},
   "source": [
    "## Uploading data\n",
    "We need to store our input files on S3 server."
   ]
  },
  {
   "cell_type": "code",
   "execution_count": 19,
   "metadata": {},
   "outputs": [],
   "source": [
    "import sagemaker\n",
    "\n",
    "sagemaker_session = sagemaker.Session()\n",
    "\n",
    "bucket = sagemaker_session.default_bucket()\n",
    "prefix = 'sagemaker/stock_forecasting'\n",
    "\n",
    "role = sagemaker.get_execution_role()"
   ]
  },
  {
   "cell_type": "code",
   "execution_count": 20,
   "metadata": {},
   "outputs": [
    {
     "data": {
      "text/plain": [
       "{'nasdaq_1d': 's3://sagemaker-us-east-1-236375122127/sagemaker/stock_forecasting/nasdaq_1d',\n",
       " 'eurusd_1d': 's3://sagemaker-us-east-1-236375122127/sagemaker/stock_forecasting/eurusd_1d'}"
      ]
     },
     "execution_count": 20,
     "metadata": {},
     "output_type": "execute_result"
    }
   ],
   "source": [
    "in_data = {}\n",
    "for directory in ['nasdaq_1d', 'eurusd_1d']:\n",
    "    in_data.update({directory: sagemaker_session.upload_data(path=os.path.join(data_dir,directory), bucket=bucket, key_prefix=os.path.join(prefix,directory))})\n",
    "in_data"
   ]
  },
  {
   "cell_type": "markdown",
   "metadata": {},
   "source": [
    "## Training\n",
    "Before we run training job let's make sure that everything works as expected.\n",
    "Here is a good place to test some different parameters as well."
   ]
  },
  {
   "cell_type": "code",
   "execution_count": 21,
   "metadata": {},
   "outputs": [],
   "source": [
    "import model.model as mdl"
   ]
  },
  {
   "cell_type": "code",
   "execution_count": 22,
   "metadata": {},
   "outputs": [],
   "source": [
    "def train(model, outputs, train_loader, use_cols, epochs, optimizer, loss_fn, device):\n",
    "    model.train()\n",
    "    for epoch in range(1, epochs + 1):\n",
    "        total_loss = 0\n",
    "        for batch in train_loader:         \n",
    "            # Slice dataset for input and output\n",
    "            batch_X = batch[:,:batch.shape[1]-outputs].to(device)\n",
    "            batch_Y = batch[:,-outputs:].to(device)\n",
    "            \n",
    "            raw_y = model(batch_X[:,:,use_cols])\n",
    "            y = mdl.denormalize(raw_y, batch_X[:,:,3])\n",
    "            loss = loss_fn(y, batch_Y[:,:,3])\n",
    "            loss.backward()\n",
    "\n",
    "            # Update weights and reset gradients\n",
    "            optimizer.step()\n",
    "            optimizer.zero_grad()\n",
    "\n",
    "            total_loss += loss.data.item()\n",
    "        print(\"Epoch: {}, Loss: {}\".format(epoch, total_loss / len(train_loader)))"
   ]
  },
  {
   "cell_type": "code",
   "execution_count": 23,
   "metadata": {},
   "outputs": [],
   "source": [
    "def get_data_loader(batch_size, sliding_window, dataframe):\n",
    "    train_ds = mdl.SlidingWindowDataset(dataframe.values, sliding_window)\n",
    "    return torch.utils.data.DataLoader(train_ds, batch_size=batch_size)"
   ]
  },
  {
   "cell_type": "code",
   "execution_count": 33,
   "metadata": {},
   "outputs": [],
   "source": [
    "inputs = 60\n",
    "outputs = 1\n",
    "\n",
    "model = mdl.LSTMRegressor(input_size=inputs, input_channels=9, c_filters=5, c_kernel_size=3, lstm_layers=1, lstm_hidden=64, dropout=0.4, output_size=outputs)\n",
    "model = model.double()"
   ]
  },
  {
   "cell_type": "code",
   "execution_count": 34,
   "metadata": {},
   "outputs": [],
   "source": [
    "loss_fn = torch.nn.MSELoss(reduction='sum')\n",
    "device = torch.device(\"cuda\" if torch.cuda.is_available() else \"cpu\")\n",
    "train_loader = get_data_loader(128, inputs+outputs, nasdaq_train)\n",
    "optimizer = torch.optim.Adam(model.parameters())"
   ]
  },
  {
   "cell_type": "code",
   "execution_count": 35,
   "metadata": {},
   "outputs": [
    {
     "name": "stdout",
     "output_type": "stream",
     "text": [
      "Epoch: 1, Loss: 1432149.6936033154\n",
      "Epoch: 2, Loss: 1341118.1728893442\n",
      "Epoch: 3, Loss: 1324339.122321707\n",
      "Epoch: 4, Loss: 1216568.875576734\n",
      "Epoch: 5, Loss: 1191770.6470387464\n",
      "Epoch: 6, Loss: 1164349.328466597\n",
      "Epoch: 7, Loss: 1145690.235794138\n",
      "Epoch: 8, Loss: 1135693.1585118475\n",
      "Epoch: 9, Loss: 1098966.2677148327\n",
      "Epoch: 10, Loss: 1080870.4082366452\n"
     ]
    }
   ],
   "source": [
    "train(model, outputs, train_loader, [0,1,2,3,4,5,6,7,8], 10, optimizer, loss_fn, device)"
   ]
  },
  {
   "cell_type": "markdown",
   "metadata": {},
   "source": [
    "After some testing, I decided to leave all 9 channels enabled.\n",
    "Other params are:\n",
    "- inputs: 60\n",
    "- outputs: 1\n",
    "- c_filters: 5\n",
    "- lstm_layers: 1\n",
    "- lstm_hidden: 64\n",
    "- dropout: 0.4"
   ]
  },
  {
   "cell_type": "markdown",
   "metadata": {},
   "source": [
    "## Perform Training\n",
    "Here we will train a model with 9 channels on EURUSD dataset, then on NASDAQ (with Volume dropped) and finally we will evaluate its performance.\n",
    "\n",
    "Hyperparameters were set manually with some experimentation. Feel free to adjust them yourself."
   ]
  },
  {
   "cell_type": "code",
   "execution_count": 39,
   "metadata": {},
   "outputs": [],
   "source": [
    "from sagemaker.pytorch import PyTorch\n",
    "\n",
    "estimator = PyTorch(entry_point=\"train.py\",\n",
    "                    source_dir=\"model\",\n",
    "                    role=role,\n",
    "                    framework_version='1.2.0',\n",
    "                    train_instance_count=1,\n",
    "                    train_instance_type='ml.p2.xlarge',\n",
    "                    hyperparameters={\n",
    "                        'epochs': 100,\n",
    "                        'batch-size': 128,\n",
    "                        'input-size': 60,\n",
    "                        'input-channels': '0,1,2,3,4,5,6,7,8',\n",
    "                        'c-filters': 5,\n",
    "                        'lstm-hidden': 64,\n",
    "                        'lstm-layers': 1,\n",
    "                        'output-size': 1,\n",
    "                    })"
   ]
  },
  {
   "cell_type": "code",
   "execution_count": 40,
   "metadata": {
    "collapsed": true,
    "jupyter": {
     "outputs_hidden": true
    }
   },
   "outputs": [
    {
     "name": "stdout",
     "output_type": "stream",
     "text": [
      "2020-01-31 15:56:01 Starting - Starting the training job...\n",
      "2020-01-31 15:56:03 Starting - Launching requested ML instances......\n",
      "2020-01-31 15:57:13 Starting - Preparing the instances for training......\n",
      "2020-01-31 15:58:31 Downloading - Downloading input data......\n",
      "2020-01-31 15:59:10 Training - Downloading the training image............\n",
      "2020-01-31 16:01:26 Training - Training image download completed. Training in progress..\u001b[34mbash: cannot set terminal process group (-1): Inappropriate ioctl for device\u001b[0m\n",
      "\u001b[34mbash: no job control in this shell\u001b[0m\n",
      "\u001b[34m2020-01-31 16:01:27,903 sagemaker-containers INFO     Imported framework sagemaker_pytorch_container.training\u001b[0m\n",
      "\u001b[34m2020-01-31 16:01:27,928 sagemaker_pytorch_container.training INFO     Block until all host DNS lookups succeed.\u001b[0m\n",
      "\u001b[34m2020-01-31 16:01:29,344 sagemaker_pytorch_container.training INFO     Invoking user training script.\u001b[0m\n",
      "\u001b[34m2020-01-31 16:01:29,626 sagemaker-containers INFO     Module train does not provide a setup.py. \u001b[0m\n",
      "\u001b[34mGenerating setup.py\u001b[0m\n",
      "\u001b[34m2020-01-31 16:01:29,626 sagemaker-containers INFO     Generating setup.cfg\u001b[0m\n",
      "\u001b[34m2020-01-31 16:01:29,626 sagemaker-containers INFO     Generating MANIFEST.in\u001b[0m\n",
      "\u001b[34m2020-01-31 16:01:29,627 sagemaker-containers INFO     Installing module with the following command:\u001b[0m\n",
      "\u001b[34m/opt/conda/bin/python -m pip install . \u001b[0m\n",
      "\u001b[34mProcessing /opt/ml/code\u001b[0m\n",
      "\u001b[34mBuilding wheels for collected packages: train\n",
      "  Building wheel for train (setup.py): started\n",
      "  Building wheel for train (setup.py): finished with status 'done'\n",
      "  Created wheel for train: filename=train-1.0.0-py2.py3-none-any.whl size=20576 sha256=1e8131e28aa2617c40c6906968a10bb10ce9bbba3390a4b9a00027bb59731bb3\n",
      "  Stored in directory: /tmp/pip-ephem-wheel-cache-idq11d5v/wheels/35/24/16/37574d11bf9bde50616c67372a334f94fa8356bc7164af8ca3\u001b[0m\n",
      "\u001b[34mSuccessfully built train\u001b[0m\n",
      "\u001b[34mInstalling collected packages: train\u001b[0m\n",
      "\u001b[34mSuccessfully installed train-1.0.0\u001b[0m\n",
      "\u001b[34mWARNING: You are using pip version 19.3; however, version 20.0.2 is available.\u001b[0m\n",
      "\u001b[34mYou should consider upgrading via the 'pip install --upgrade pip' command.\u001b[0m\n",
      "\u001b[34m2020-01-31 16:01:31,781 sagemaker-containers INFO     Invoking user script\n",
      "\u001b[0m\n",
      "\u001b[34mTraining Env:\n",
      "\u001b[0m\n",
      "\u001b[34m{\n",
      "    \"additional_framework_parameters\": {},\n",
      "    \"channel_input_dirs\": {\n",
      "        \"training\": \"/opt/ml/input/data/training\"\n",
      "    },\n",
      "    \"current_host\": \"algo-1\",\n",
      "    \"framework_module\": \"sagemaker_pytorch_container.training:main\",\n",
      "    \"hosts\": [\n",
      "        \"algo-1\"\n",
      "    ],\n",
      "    \"hyperparameters\": {\n",
      "        \"input-size\": 60,\n",
      "        \"lstm-layers\": 1,\n",
      "        \"input-channels\": \"0,1,2,3,4,5,6,7,8\",\n",
      "        \"c-filters\": 5,\n",
      "        \"batch-size\": 128,\n",
      "        \"lstm-hidden\": 64,\n",
      "        \"output-size\": 2,\n",
      "        \"epochs\": 100\n",
      "    },\n",
      "    \"input_config_dir\": \"/opt/ml/input/config\",\n",
      "    \"input_data_config\": {\n",
      "        \"training\": {\n",
      "            \"TrainingInputMode\": \"File\",\n",
      "            \"S3DistributionType\": \"FullyReplicated\",\n",
      "            \"RecordWrapperType\": \"None\"\n",
      "        }\n",
      "    },\n",
      "    \"input_dir\": \"/opt/ml/input\",\n",
      "    \"is_master\": true,\n",
      "    \"job_name\": \"pytorch-training-2020-01-31-15-56-00-553\",\n",
      "    \"log_level\": 20,\n",
      "    \"master_hostname\": \"algo-1\",\n",
      "    \"model_dir\": \"/opt/ml/model\",\n",
      "    \"module_dir\": \"s3://sagemaker-us-east-1-236375122127/pytorch-training-2020-01-31-15-56-00-553/source/sourcedir.tar.gz\",\n",
      "    \"module_name\": \"train\",\n",
      "    \"network_interface_name\": \"eth0\",\n",
      "    \"num_cpus\": 4,\n",
      "    \"num_gpus\": 1,\n",
      "    \"output_data_dir\": \"/opt/ml/output/data\",\n",
      "    \"output_dir\": \"/opt/ml/output\",\n",
      "    \"output_intermediate_dir\": \"/opt/ml/output/intermediate\",\n",
      "    \"resource_config\": {\n",
      "        \"current_host\": \"algo-1\",\n",
      "        \"hosts\": [\n",
      "            \"algo-1\"\n",
      "        ],\n",
      "        \"network_interface_name\": \"eth0\"\n",
      "    },\n",
      "    \"user_entry_point\": \"train.py\"\u001b[0m\n",
      "\u001b[34m}\n",
      "\u001b[0m\n",
      "\u001b[34mEnvironment variables:\n",
      "\u001b[0m\n",
      "\u001b[34mSM_HOSTS=[\"algo-1\"]\u001b[0m\n",
      "\u001b[34mSM_NETWORK_INTERFACE_NAME=eth0\u001b[0m\n",
      "\u001b[34mSM_HPS={\"batch-size\":128,\"c-filters\":5,\"epochs\":100,\"input-channels\":\"0,1,2,3,4,5,6,7,8\",\"input-size\":60,\"lstm-hidden\":64,\"lstm-layers\":1,\"output-size\":2}\u001b[0m\n",
      "\u001b[34mSM_USER_ENTRY_POINT=train.py\u001b[0m\n",
      "\u001b[34mSM_FRAMEWORK_PARAMS={}\u001b[0m\n",
      "\u001b[34mSM_RESOURCE_CONFIG={\"current_host\":\"algo-1\",\"hosts\":[\"algo-1\"],\"network_interface_name\":\"eth0\"}\u001b[0m\n",
      "\u001b[34mSM_INPUT_DATA_CONFIG={\"training\":{\"RecordWrapperType\":\"None\",\"S3DistributionType\":\"FullyReplicated\",\"TrainingInputMode\":\"File\"}}\u001b[0m\n",
      "\u001b[34mSM_OUTPUT_DATA_DIR=/opt/ml/output/data\u001b[0m\n",
      "\u001b[34mSM_CHANNELS=[\"training\"]\u001b[0m\n",
      "\u001b[34mSM_CURRENT_HOST=algo-1\u001b[0m\n",
      "\u001b[34mSM_MODULE_NAME=train\u001b[0m\n",
      "\u001b[34mSM_LOG_LEVEL=20\u001b[0m\n",
      "\u001b[34mSM_FRAMEWORK_MODULE=sagemaker_pytorch_container.training:main\u001b[0m\n",
      "\u001b[34mSM_INPUT_DIR=/opt/ml/input\u001b[0m\n",
      "\u001b[34mSM_INPUT_CONFIG_DIR=/opt/ml/input/config\u001b[0m\n",
      "\u001b[34mSM_OUTPUT_DIR=/opt/ml/output\u001b[0m\n",
      "\u001b[34mSM_NUM_CPUS=4\u001b[0m\n",
      "\u001b[34mSM_NUM_GPUS=1\u001b[0m\n",
      "\u001b[34mSM_MODEL_DIR=/opt/ml/model\u001b[0m\n",
      "\u001b[34mSM_MODULE_DIR=s3://sagemaker-us-east-1-236375122127/pytorch-training-2020-01-31-15-56-00-553/source/sourcedir.tar.gz\u001b[0m\n",
      "\u001b[34mSM_TRAINING_ENV={\"additional_framework_parameters\":{},\"channel_input_dirs\":{\"training\":\"/opt/ml/input/data/training\"},\"current_host\":\"algo-1\",\"framework_module\":\"sagemaker_pytorch_container.training:main\",\"hosts\":[\"algo-1\"],\"hyperparameters\":{\"batch-size\":128,\"c-filters\":5,\"epochs\":100,\"input-channels\":\"0,1,2,3,4,5,6,7,8\",\"input-size\":60,\"lstm-hidden\":64,\"lstm-layers\":1,\"output-size\":2},\"input_config_dir\":\"/opt/ml/input/config\",\"input_data_config\":{\"training\":{\"RecordWrapperType\":\"None\",\"S3DistributionType\":\"FullyReplicated\",\"TrainingInputMode\":\"File\"}},\"input_dir\":\"/opt/ml/input\",\"is_master\":true,\"job_name\":\"pytorch-training-2020-01-31-15-56-00-553\",\"log_level\":20,\"master_hostname\":\"algo-1\",\"model_dir\":\"/opt/ml/model\",\"module_dir\":\"s3://sagemaker-us-east-1-236375122127/pytorch-training-2020-01-31-15-56-00-553/source/sourcedir.tar.gz\",\"module_name\":\"train\",\"network_interface_name\":\"eth0\",\"num_cpus\":4,\"num_gpus\":1,\"output_data_dir\":\"/opt/ml/output/data\",\"output_dir\":\"/opt/ml/output\",\"output_intermediate_dir\":\"/opt/ml/output/intermediate\",\"resource_config\":{\"current_host\":\"algo-1\",\"hosts\":[\"algo-1\"],\"network_interface_name\":\"eth0\"},\"user_entry_point\":\"train.py\"}\u001b[0m\n",
      "\u001b[34mSM_USER_ARGS=[\"--batch-size\",\"128\",\"--c-filters\",\"5\",\"--epochs\",\"100\",\"--input-channels\",\"0,1,2,3,4,5,6,7,8\",\"--input-size\",\"60\",\"--lstm-hidden\",\"64\",\"--lstm-layers\",\"1\",\"--output-size\",\"2\"]\u001b[0m\n",
      "\u001b[34mSM_OUTPUT_INTERMEDIATE_DIR=/opt/ml/output/intermediate\u001b[0m\n",
      "\u001b[34mSM_CHANNEL_TRAINING=/opt/ml/input/data/training\u001b[0m\n",
      "\u001b[34mSM_HP_INPUT-SIZE=60\u001b[0m\n",
      "\u001b[34mSM_HP_LSTM-LAYERS=1\u001b[0m\n",
      "\u001b[34mSM_HP_INPUT-CHANNELS=0,1,2,3,4,5,6,7,8\u001b[0m\n",
      "\u001b[34mSM_HP_C-FILTERS=5\u001b[0m\n",
      "\u001b[34mSM_HP_BATCH-SIZE=128\u001b[0m\n",
      "\u001b[34mSM_HP_LSTM-HIDDEN=64\u001b[0m\n",
      "\u001b[34mSM_HP_OUTPUT-SIZE=2\u001b[0m\n",
      "\u001b[34mSM_HP_EPOCHS=100\u001b[0m\n",
      "\u001b[34mPYTHONPATH=/opt/conda/bin:/opt/conda/lib/python36.zip:/opt/conda/lib/python3.6:/opt/conda/lib/python3.6/lib-dynload:/opt/conda/lib/python3.6/site-packages\n",
      "\u001b[0m\n",
      "\u001b[34mInvoking script with the following command:\n",
      "\u001b[0m\n",
      "\u001b[34m/opt/conda/bin/python -m train --batch-size 128 --c-filters 5 --epochs 100 --input-channels 0,1,2,3,4,5,6,7,8 --input-size 60 --lstm-hidden 64 --lstm-layers 1 --output-size 2\n",
      "\n",
      "\u001b[0m\n",
      "\u001b[34mUsing device cuda.\u001b[0m\n",
      "\u001b[34mEpoch: 1, Loss: 1399709.4223260633\u001b[0m\n",
      "\u001b[34mEpoch: 2, Loss: 1325958.2058666009\u001b[0m\n",
      "\u001b[34mEpoch: 3, Loss: 1286217.193136534\u001b[0m\n",
      "\u001b[34mEpoch: 4, Loss: 1214085.955117664\u001b[0m\n",
      "\u001b[34mEpoch: 5, Loss: 1178146.8434426633\u001b[0m\n",
      "\u001b[34mEpoch: 6, Loss: 1151265.4819274223\u001b[0m\n",
      "\u001b[34mEpoch: 7, Loss: 1112941.0476645085\u001b[0m\n",
      "\u001b[34mEpoch: 8, Loss: 1086735.152486879\u001b[0m\n",
      "\u001b[34mEpoch: 9, Loss: 1053800.1120332773\u001b[0m\n",
      "\u001b[34mEpoch: 10, Loss: 1015739.8089853058\u001b[0m\n",
      "\u001b[34mEpoch: 11, Loss: 998395.958953903\u001b[0m\n",
      "\u001b[34mEpoch: 12, Loss: 967929.3356441199\u001b[0m\n",
      "\u001b[34mEpoch: 13, Loss: 1038632.6466169534\u001b[0m\n",
      "\u001b[34mEpoch: 14, Loss: 1146583.054932995\u001b[0m\n",
      "\u001b[34mEpoch: 15, Loss: 1079631.1850486717\u001b[0m\n",
      "\u001b[34mEpoch: 16, Loss: 992888.284313408\u001b[0m\n",
      "\u001b[34mEpoch: 17, Loss: 876263.813030959\u001b[0m\n",
      "\u001b[34mEpoch: 18, Loss: 841122.8070036771\u001b[0m\n",
      "\u001b[34mEpoch: 19, Loss: 785184.5026677493\u001b[0m\n",
      "\u001b[34mEpoch: 20, Loss: 749446.734563344\u001b[0m\n",
      "\u001b[34mEpoch: 21, Loss: 727597.8949714879\u001b[0m\n",
      "\u001b[34mEpoch: 22, Loss: 711498.1574790346\u001b[0m\n",
      "\u001b[34mEpoch: 23, Loss: 667978.7511560211\u001b[0m\n",
      "\u001b[34mEpoch: 24, Loss: 651016.2416563734\u001b[0m\n",
      "\u001b[34mEpoch: 25, Loss: 605364.2949492955\u001b[0m\n",
      "\u001b[34mEpoch: 26, Loss: 611494.7238837056\u001b[0m\n",
      "\u001b[34mEpoch: 27, Loss: 582219.0665695516\u001b[0m\n",
      "\u001b[34mEpoch: 28, Loss: 570043.017780471\u001b[0m\n",
      "\u001b[34mEpoch: 29, Loss: 595076.5006609538\u001b[0m\n",
      "\u001b[34mEpoch: 30, Loss: 654979.1071310412\u001b[0m\n",
      "\u001b[34mEpoch: 31, Loss: 684025.6846573344\u001b[0m\n",
      "\u001b[34mEpoch: 32, Loss: 651625.01497405\u001b[0m\n",
      "\u001b[34mEpoch: 33, Loss: 540949.9421925974\u001b[0m\n",
      "\u001b[34mEpoch: 34, Loss: 487901.7014186354\u001b[0m\n",
      "\u001b[34mEpoch: 35, Loss: 477329.93366575235\u001b[0m\n",
      "\u001b[34mEpoch: 36, Loss: 462864.85018573405\u001b[0m\n",
      "\u001b[34mEpoch: 37, Loss: 426634.11425576254\u001b[0m\n",
      "\u001b[34mEpoch: 38, Loss: 415554.7673727205\u001b[0m\n",
      "\u001b[34mEpoch: 39, Loss: 393462.82742964046\u001b[0m\n",
      "\u001b[34mEpoch: 40, Loss: 396081.94796213845\u001b[0m\n",
      "\u001b[34mEpoch: 41, Loss: 390389.71977842215\u001b[0m\n",
      "\u001b[34mEpoch: 42, Loss: 376754.40281990153\u001b[0m\n",
      "\u001b[34mEpoch: 43, Loss: 382081.24921773584\u001b[0m\n",
      "\u001b[34mEpoch: 44, Loss: 358863.3271967944\u001b[0m\n",
      "\u001b[34mEpoch: 45, Loss: 347269.9779567133\u001b[0m\n",
      "\u001b[34mEpoch: 46, Loss: 350165.0766866085\u001b[0m\n",
      "\u001b[34mEpoch: 47, Loss: 346930.5003094827\u001b[0m\n",
      "\u001b[34mEpoch: 48, Loss: 348945.1550921282\u001b[0m\n",
      "\u001b[34mEpoch: 49, Loss: 325723.1894257245\u001b[0m\n",
      "\u001b[34mEpoch: 50, Loss: 310149.79954011814\u001b[0m\n",
      "\u001b[34mEpoch: 51, Loss: 319430.7718155272\u001b[0m\n",
      "\u001b[34mEpoch: 52, Loss: 350546.0774979299\u001b[0m\n",
      "\u001b[34mEpoch: 53, Loss: 397924.3035048665\u001b[0m\n",
      "\u001b[34mEpoch: 54, Loss: 367624.36701246875\u001b[0m\n",
      "\u001b[34mEpoch: 55, Loss: 316553.6179722924\u001b[0m\n",
      "\u001b[34mEpoch: 56, Loss: 295443.9501003361\u001b[0m\n",
      "\u001b[34mEpoch: 57, Loss: 274082.37602134014\u001b[0m\n",
      "\u001b[34mEpoch: 58, Loss: 252113.17576723668\u001b[0m\n",
      "\n",
      "2020-01-31 16:01:57 Uploading - Uploading generated training model\u001b[34mEpoch: 59, Loss: 266263.62956570653\u001b[0m\n",
      "\u001b[34mEpoch: 60, Loss: 255267.94297078962\u001b[0m\n",
      "\u001b[34mEpoch: 61, Loss: 252267.2248357974\u001b[0m\n",
      "\u001b[34mEpoch: 62, Loss: 254734.43259282617\u001b[0m\n",
      "\u001b[34mEpoch: 63, Loss: 261578.35596710118\u001b[0m\n",
      "\u001b[34mEpoch: 64, Loss: 242664.5918891029\u001b[0m\n",
      "\u001b[34mEpoch: 65, Loss: 238173.3401462602\u001b[0m\n",
      "\u001b[34mEpoch: 66, Loss: 224512.4937695765\u001b[0m\n",
      "\u001b[34mEpoch: 67, Loss: 224944.12045869904\u001b[0m\n",
      "\u001b[34mEpoch: 68, Loss: 216578.82399255654\u001b[0m\n",
      "\u001b[34mEpoch: 69, Loss: 211171.8952368402\u001b[0m\n",
      "\u001b[34mEpoch: 70, Loss: 212396.52813291372\u001b[0m\n",
      "\u001b[34mEpoch: 71, Loss: 212987.53379753768\u001b[0m\n",
      "\u001b[34mEpoch: 72, Loss: 220314.22206518485\u001b[0m\n",
      "\u001b[34mEpoch: 73, Loss: 228381.7286421062\u001b[0m\n",
      "\u001b[34mEpoch: 74, Loss: 223305.92229638656\u001b[0m\n",
      "\u001b[34mEpoch: 75, Loss: 204375.79664879723\u001b[0m\n",
      "\u001b[34mEpoch: 76, Loss: 193439.81914480316\u001b[0m\n",
      "\u001b[34mEpoch: 77, Loss: 191607.34171359747\u001b[0m\n",
      "\u001b[34mEpoch: 78, Loss: 189780.11423537513\u001b[0m\n",
      "\u001b[34mEpoch: 79, Loss: 186111.20451466087\u001b[0m\n",
      "\u001b[34mEpoch: 80, Loss: 192400.07608530013\u001b[0m\n",
      "\u001b[34mEpoch: 81, Loss: 184232.6559129323\u001b[0m\n",
      "\u001b[34mEpoch: 82, Loss: 193971.6887108976\u001b[0m\n",
      "\u001b[34mEpoch: 83, Loss: 192488.1365252003\u001b[0m\n",
      "\u001b[34mEpoch: 84, Loss: 192208.42334991842\u001b[0m\n",
      "\u001b[34mEpoch: 85, Loss: 188505.956552608\u001b[0m\n",
      "\u001b[34mEpoch: 86, Loss: 180667.4415886729\u001b[0m\n",
      "\u001b[34mEpoch: 87, Loss: 176292.0772050526\u001b[0m\n",
      "\u001b[34mEpoch: 88, Loss: 175402.40538853794\u001b[0m\n",
      "\u001b[34mEpoch: 89, Loss: 192238.5775496267\u001b[0m\n",
      "\u001b[34mEpoch: 90, Loss: 182436.2015913683\u001b[0m\n",
      "\u001b[34mEpoch: 91, Loss: 197986.8836494494\u001b[0m\n",
      "\u001b[34mEpoch: 92, Loss: 183960.01585657152\u001b[0m\n",
      "\u001b[34mEpoch: 93, Loss: 176861.5996199111\u001b[0m\n",
      "\u001b[34mEpoch: 94, Loss: 161490.1950385949\u001b[0m\n",
      "\u001b[34mEpoch: 95, Loss: 159787.11728276228\u001b[0m\n",
      "\u001b[34mEpoch: 96, Loss: 151512.93345761904\u001b[0m\n",
      "\u001b[34mEpoch: 97, Loss: 141684.35845519206\u001b[0m\n",
      "\u001b[34mEpoch: 98, Loss: 145157.29884172673\u001b[0m\n",
      "\u001b[34mEpoch: 99, Loss: 144932.76519365035\u001b[0m\n",
      "\u001b[34mEpoch: 100, Loss: 148679.04598657435\u001b[0m\n",
      "\u001b[34m2020-01-31 16:01:56,545 sagemaker-containers INFO     Reporting training SUCCESS\u001b[0m\n",
      "\n",
      "2020-01-31 16:02:04 Completed - Training job completed\n",
      "Training seconds: 213\n",
      "Billable seconds: 213\n"
     ]
    }
   ],
   "source": [
    "estimator.fit({'training': in_data['nasdaq_1d']})"
   ]
  },
  {
   "cell_type": "code",
   "execution_count": 41,
   "metadata": {
    "collapsed": true,
    "jupyter": {
     "outputs_hidden": true
    }
   },
   "outputs": [
    {
     "name": "stdout",
     "output_type": "stream",
     "text": [
      "2020-01-31 16:02:44 Starting - Starting the training job...\n",
      "2020-01-31 16:02:46 Starting - Launching requested ML instances......\n",
      "2020-01-31 16:03:55 Starting - Preparing the instances for training............\n",
      "2020-01-31 16:06:05 Downloading - Downloading input data...\n",
      "2020-01-31 16:06:28 Training - Downloading the training image............\n",
      "2020-01-31 16:08:30 Training - Training image download completed. Training in progress.\u001b[34mbash: cannot set terminal process group (-1): Inappropriate ioctl for device\u001b[0m\n",
      "\u001b[34mbash: no job control in this shell\u001b[0m\n",
      "\u001b[34m2020-01-31 16:08:31,934 sagemaker-containers INFO     Imported framework sagemaker_pytorch_container.training\u001b[0m\n",
      "\u001b[34m2020-01-31 16:08:31,958 sagemaker_pytorch_container.training INFO     Block until all host DNS lookups succeed.\u001b[0m\n",
      "\u001b[34m2020-01-31 16:08:31,959 sagemaker_pytorch_container.training INFO     Invoking user training script.\u001b[0m\n",
      "\u001b[34m2020-01-31 16:08:32,271 sagemaker-containers INFO     Module train does not provide a setup.py. \u001b[0m\n",
      "\u001b[34mGenerating setup.py\u001b[0m\n",
      "\u001b[34m2020-01-31 16:08:32,271 sagemaker-containers INFO     Generating setup.cfg\u001b[0m\n",
      "\u001b[34m2020-01-31 16:08:32,272 sagemaker-containers INFO     Generating MANIFEST.in\u001b[0m\n",
      "\u001b[34m2020-01-31 16:08:32,272 sagemaker-containers INFO     Installing module with the following command:\u001b[0m\n",
      "\u001b[34m/opt/conda/bin/python -m pip install . \u001b[0m\n",
      "\u001b[34mProcessing /opt/ml/code\u001b[0m\n",
      "\u001b[34mBuilding wheels for collected packages: train\n",
      "  Building wheel for train (setup.py): started\n",
      "  Building wheel for train (setup.py): finished with status 'done'\n",
      "  Created wheel for train: filename=train-1.0.0-py2.py3-none-any.whl size=20574 sha256=1dfde8ecfa802421525179135800e9f2fcafd574441ad393d20c25ab05b2d82e\n",
      "  Stored in directory: /tmp/pip-ephem-wheel-cache-o_4vjxvs/wheels/35/24/16/37574d11bf9bde50616c67372a334f94fa8356bc7164af8ca3\u001b[0m\n",
      "\u001b[34mSuccessfully built train\u001b[0m\n",
      "\u001b[34mInstalling collected packages: train\u001b[0m\n",
      "\u001b[34mSuccessfully installed train-1.0.0\u001b[0m\n",
      "\u001b[34mWARNING: You are using pip version 19.3; however, version 20.0.2 is available.\u001b[0m\n",
      "\u001b[34mYou should consider upgrading via the 'pip install --upgrade pip' command.\u001b[0m\n",
      "\u001b[34m2020-01-31 16:08:34,455 sagemaker-containers INFO     Invoking user script\n",
      "\u001b[0m\n",
      "\u001b[34mTraining Env:\n",
      "\u001b[0m\n",
      "\u001b[34m{\n",
      "    \"additional_framework_parameters\": {},\n",
      "    \"channel_input_dirs\": {\n",
      "        \"training\": \"/opt/ml/input/data/training\"\n",
      "    },\n",
      "    \"current_host\": \"algo-1\",\n",
      "    \"framework_module\": \"sagemaker_pytorch_container.training:main\",\n",
      "    \"hosts\": [\n",
      "        \"algo-1\"\n",
      "    ],\n",
      "    \"hyperparameters\": {\n",
      "        \"input-size\": 60,\n",
      "        \"lstm-layers\": 1,\n",
      "        \"input-channels\": \"0,1,2,3,4,5,6,7,8\",\n",
      "        \"c-filters\": 5,\n",
      "        \"batch-size\": 128,\n",
      "        \"lstm-hidden\": 64,\n",
      "        \"output-size\": 2,\n",
      "        \"epochs\": 100\n",
      "    },\n",
      "    \"input_config_dir\": \"/opt/ml/input/config\",\n",
      "    \"input_data_config\": {\n",
      "        \"training\": {\n",
      "            \"TrainingInputMode\": \"File\",\n",
      "            \"S3DistributionType\": \"FullyReplicated\",\n",
      "            \"RecordWrapperType\": \"None\"\n",
      "        }\n",
      "    },\n",
      "    \"input_dir\": \"/opt/ml/input\",\n",
      "    \"is_master\": true,\n",
      "    \"job_name\": \"pytorch-training-2020-01-31-16-02-44-220\",\n",
      "    \"log_level\": 20,\n",
      "    \"master_hostname\": \"algo-1\",\n",
      "    \"model_dir\": \"/opt/ml/model\",\n",
      "    \"module_dir\": \"s3://sagemaker-us-east-1-236375122127/pytorch-training-2020-01-31-16-02-44-220/source/sourcedir.tar.gz\",\n",
      "    \"module_name\": \"train\",\n",
      "    \"network_interface_name\": \"eth0\",\n",
      "    \"num_cpus\": 4,\n",
      "    \"num_gpus\": 1,\n",
      "    \"output_data_dir\": \"/opt/ml/output/data\",\n",
      "    \"output_dir\": \"/opt/ml/output\",\n",
      "    \"output_intermediate_dir\": \"/opt/ml/output/intermediate\",\n",
      "    \"resource_config\": {\n",
      "        \"current_host\": \"algo-1\",\n",
      "        \"hosts\": [\n",
      "            \"algo-1\"\n",
      "        ],\n",
      "        \"network_interface_name\": \"eth0\"\n",
      "    },\n",
      "    \"user_entry_point\": \"train.py\"\u001b[0m\n",
      "\u001b[34m}\n",
      "\u001b[0m\n",
      "\u001b[34mEnvironment variables:\n",
      "\u001b[0m\n",
      "\u001b[34mSM_HOSTS=[\"algo-1\"]\u001b[0m\n",
      "\u001b[34mSM_NETWORK_INTERFACE_NAME=eth0\u001b[0m\n",
      "\u001b[34mSM_HPS={\"batch-size\":128,\"c-filters\":5,\"epochs\":100,\"input-channels\":\"0,1,2,3,4,5,6,7,8\",\"input-size\":60,\"lstm-hidden\":64,\"lstm-layers\":1,\"output-size\":2}\u001b[0m\n",
      "\u001b[34mSM_USER_ENTRY_POINT=train.py\u001b[0m\n",
      "\u001b[34mSM_FRAMEWORK_PARAMS={}\u001b[0m\n",
      "\u001b[34mSM_RESOURCE_CONFIG={\"current_host\":\"algo-1\",\"hosts\":[\"algo-1\"],\"network_interface_name\":\"eth0\"}\u001b[0m\n",
      "\u001b[34mSM_INPUT_DATA_CONFIG={\"training\":{\"RecordWrapperType\":\"None\",\"S3DistributionType\":\"FullyReplicated\",\"TrainingInputMode\":\"File\"}}\u001b[0m\n",
      "\u001b[34mSM_OUTPUT_DATA_DIR=/opt/ml/output/data\u001b[0m\n",
      "\u001b[34mSM_CHANNELS=[\"training\"]\u001b[0m\n",
      "\u001b[34mSM_CURRENT_HOST=algo-1\u001b[0m\n",
      "\u001b[34mSM_MODULE_NAME=train\u001b[0m\n",
      "\u001b[34mSM_LOG_LEVEL=20\u001b[0m\n",
      "\u001b[34mSM_FRAMEWORK_MODULE=sagemaker_pytorch_container.training:main\u001b[0m\n",
      "\u001b[34mSM_INPUT_DIR=/opt/ml/input\u001b[0m\n",
      "\u001b[34mSM_INPUT_CONFIG_DIR=/opt/ml/input/config\u001b[0m\n",
      "\u001b[34mSM_OUTPUT_DIR=/opt/ml/output\u001b[0m\n",
      "\u001b[34mSM_NUM_CPUS=4\u001b[0m\n",
      "\u001b[34mSM_NUM_GPUS=1\u001b[0m\n",
      "\u001b[34mSM_MODEL_DIR=/opt/ml/model\u001b[0m\n",
      "\u001b[34mSM_MODULE_DIR=s3://sagemaker-us-east-1-236375122127/pytorch-training-2020-01-31-16-02-44-220/source/sourcedir.tar.gz\u001b[0m\n",
      "\u001b[34mSM_TRAINING_ENV={\"additional_framework_parameters\":{},\"channel_input_dirs\":{\"training\":\"/opt/ml/input/data/training\"},\"current_host\":\"algo-1\",\"framework_module\":\"sagemaker_pytorch_container.training:main\",\"hosts\":[\"algo-1\"],\"hyperparameters\":{\"batch-size\":128,\"c-filters\":5,\"epochs\":100,\"input-channels\":\"0,1,2,3,4,5,6,7,8\",\"input-size\":60,\"lstm-hidden\":64,\"lstm-layers\":1,\"output-size\":2},\"input_config_dir\":\"/opt/ml/input/config\",\"input_data_config\":{\"training\":{\"RecordWrapperType\":\"None\",\"S3DistributionType\":\"FullyReplicated\",\"TrainingInputMode\":\"File\"}},\"input_dir\":\"/opt/ml/input\",\"is_master\":true,\"job_name\":\"pytorch-training-2020-01-31-16-02-44-220\",\"log_level\":20,\"master_hostname\":\"algo-1\",\"model_dir\":\"/opt/ml/model\",\"module_dir\":\"s3://sagemaker-us-east-1-236375122127/pytorch-training-2020-01-31-16-02-44-220/source/sourcedir.tar.gz\",\"module_name\":\"train\",\"network_interface_name\":\"eth0\",\"num_cpus\":4,\"num_gpus\":1,\"output_data_dir\":\"/opt/ml/output/data\",\"output_dir\":\"/opt/ml/output\",\"output_intermediate_dir\":\"/opt/ml/output/intermediate\",\"resource_config\":{\"current_host\":\"algo-1\",\"hosts\":[\"algo-1\"],\"network_interface_name\":\"eth0\"},\"user_entry_point\":\"train.py\"}\u001b[0m\n",
      "\u001b[34mSM_USER_ARGS=[\"--batch-size\",\"128\",\"--c-filters\",\"5\",\"--epochs\",\"100\",\"--input-channels\",\"0,1,2,3,4,5,6,7,8\",\"--input-size\",\"60\",\"--lstm-hidden\",\"64\",\"--lstm-layers\",\"1\",\"--output-size\",\"2\"]\u001b[0m\n",
      "\u001b[34mSM_OUTPUT_INTERMEDIATE_DIR=/opt/ml/output/intermediate\u001b[0m\n",
      "\u001b[34mSM_CHANNEL_TRAINING=/opt/ml/input/data/training\u001b[0m\n",
      "\u001b[34mSM_HP_INPUT-SIZE=60\u001b[0m\n",
      "\u001b[34mSM_HP_LSTM-LAYERS=1\u001b[0m\n",
      "\u001b[34mSM_HP_INPUT-CHANNELS=0,1,2,3,4,5,6,7,8\u001b[0m\n",
      "\u001b[34mSM_HP_C-FILTERS=5\u001b[0m\n",
      "\u001b[34mSM_HP_BATCH-SIZE=128\u001b[0m\n",
      "\u001b[34mSM_HP_LSTM-HIDDEN=64\u001b[0m\n",
      "\u001b[34mSM_HP_OUTPUT-SIZE=2\u001b[0m\n",
      "\u001b[34mSM_HP_EPOCHS=100\u001b[0m\n",
      "\u001b[34mPYTHONPATH=/opt/conda/bin:/opt/conda/lib/python36.zip:/opt/conda/lib/python3.6:/opt/conda/lib/python3.6/lib-dynload:/opt/conda/lib/python3.6/site-packages\n",
      "\u001b[0m\n",
      "\u001b[34mInvoking script with the following command:\n",
      "\u001b[0m\n",
      "\u001b[34m/opt/conda/bin/python -m train --batch-size 128 --c-filters 5 --epochs 100 --input-channels 0,1,2,3,4,5,6,7,8 --input-size 60 --lstm-hidden 64 --lstm-layers 1 --output-size 2\n",
      "\n",
      "\u001b[0m\n",
      "\u001b[34mUsing device cuda.\u001b[0m\n",
      "\u001b[34mEpoch: 1, Loss: 0.011106846722126066\u001b[0m\n",
      "\u001b[34mEpoch: 2, Loss: 0.010463836216937096\u001b[0m\n",
      "\u001b[34mEpoch: 3, Loss: 0.010054292652988933\u001b[0m\n",
      "\u001b[34mEpoch: 4, Loss: 0.00959491504174844\u001b[0m\n",
      "\u001b[34mEpoch: 5, Loss: 0.009277943117441982\u001b[0m\n",
      "\u001b[34mEpoch: 6, Loss: 0.009163951196178232\u001b[0m\n",
      "\u001b[34mEpoch: 7, Loss: 0.008996281061956803\u001b[0m\n",
      "\u001b[34mEpoch: 8, Loss: 0.008854855097650301\u001b[0m\n",
      "\u001b[34mEpoch: 9, Loss: 0.008681093414157038\u001b[0m\n",
      "\u001b[34mEpoch: 10, Loss: 0.00844088979751092\u001b[0m\n",
      "\u001b[34mEpoch: 11, Loss: 0.008298083692458361\u001b[0m\n",
      "\u001b[34mEpoch: 12, Loss: 0.00823870714932167\u001b[0m\n",
      "\u001b[34mEpoch: 13, Loss: 0.007947565530575375\u001b[0m\n",
      "\u001b[34mEpoch: 14, Loss: 0.00772201897973408\u001b[0m\n",
      "\u001b[34mEpoch: 15, Loss: 0.007463894318831574\u001b[0m\n",
      "\u001b[34mEpoch: 16, Loss: 0.007500669193493276\u001b[0m\n",
      "\u001b[34mEpoch: 17, Loss: 0.007718869177127143\u001b[0m\n",
      "\u001b[34mEpoch: 18, Loss: 0.008109595900878463\u001b[0m\n",
      "\u001b[34mEpoch: 19, Loss: 0.008434687321121638\u001b[0m\n",
      "\u001b[34mEpoch: 20, Loss: 0.007608682100153606\u001b[0m\n",
      "\u001b[34mEpoch: 21, Loss: 0.006873749667699214\u001b[0m\n",
      "\u001b[34mEpoch: 22, Loss: 0.0067213984280392715\u001b[0m\n",
      "\u001b[34mEpoch: 23, Loss: 0.006344222224227101\u001b[0m\n",
      "\u001b[34mEpoch: 24, Loss: 0.006017665351717359\u001b[0m\n",
      "\u001b[34mEpoch: 25, Loss: 0.005815482345486658\u001b[0m\n",
      "\u001b[34mEpoch: 26, Loss: 0.005620859369529736\u001b[0m\n",
      "\u001b[34mEpoch: 27, Loss: 0.005275028199715198\u001b[0m\n",
      "\u001b[34mEpoch: 28, Loss: 0.00515386469821886\u001b[0m\n",
      "\u001b[34mEpoch: 29, Loss: 0.004991365225429764\u001b[0m\n",
      "\u001b[34mEpoch: 30, Loss: 0.004960943400590436\u001b[0m\n",
      "\u001b[34mEpoch: 31, Loss: 0.00526628856830202\u001b[0m\n",
      "\u001b[34mEpoch: 32, Loss: 0.0058129455196232254\u001b[0m\n",
      "\u001b[34mEpoch: 33, Loss: 0.006160827295653796\u001b[0m\n",
      "\u001b[34mEpoch: 34, Loss: 0.005121656921105341\u001b[0m\n",
      "\u001b[34mEpoch: 35, Loss: 0.004370873825965617\u001b[0m\n",
      "\u001b[34mEpoch: 36, Loss: 0.0042151783728830525\u001b[0m\n",
      "\u001b[34mEpoch: 37, Loss: 0.004028944513517307\u001b[0m\n",
      "\u001b[34mEpoch: 38, Loss: 0.003907979395383674\u001b[0m\n",
      "\u001b[34mEpoch: 39, Loss: 0.003995507901165399\u001b[0m\n",
      "\u001b[34mEpoch: 40, Loss: 0.0038935438778278154\u001b[0m\n",
      "\u001b[34mEpoch: 41, Loss: 0.004039110736636509\u001b[0m\n",
      "\u001b[34mEpoch: 42, Loss: 0.004091971942702438\u001b[0m\n",
      "\u001b[34mEpoch: 43, Loss: 0.003912212257013437\u001b[0m\n",
      "\u001b[34mEpoch: 44, Loss: 0.0037954158831883552\u001b[0m\n",
      "\u001b[34mEpoch: 45, Loss: 0.00346850317718835\u001b[0m\n",
      "\u001b[34mEpoch: 46, Loss: 0.0032913484998841488\u001b[0m\n",
      "\u001b[34mEpoch: 47, Loss: 0.0032669398230274933\u001b[0m\n",
      "\u001b[34mEpoch: 48, Loss: 0.0031171831598521735\u001b[0m\n",
      "\u001b[34mEpoch: 49, Loss: 0.0029372697631235636\u001b[0m\n",
      "\u001b[34mEpoch: 50, Loss: 0.0029151583724981237\u001b[0m\n",
      "\u001b[34mEpoch: 51, Loss: 0.0027738705479464086\u001b[0m\n",
      "\u001b[34mEpoch: 52, Loss: 0.0027062517508263297\u001b[0m\n",
      "\u001b[34mEpoch: 53, Loss: 0.0026612765063471315\u001b[0m\n",
      "\u001b[34mEpoch: 54, Loss: 0.0027314263641122897\u001b[0m\n",
      "\u001b[34mEpoch: 55, Loss: 0.002619876341149338\u001b[0m\n",
      "\u001b[34mEpoch: 56, Loss: 0.0025959436829891386\u001b[0m\n",
      "\u001b[34mEpoch: 57, Loss: 0.002580710714275647\u001b[0m\n",
      "\u001b[34mEpoch: 58, Loss: 0.0025411073386037535\u001b[0m\n",
      "\u001b[34mEpoch: 59, Loss: 0.0025585276779224826\u001b[0m\n",
      "\u001b[34mEpoch: 60, Loss: 0.0023916143065952885\u001b[0m\n",
      "\u001b[34mEpoch: 61, Loss: 0.0024109363530959416\u001b[0m\n",
      "\u001b[34mEpoch: 62, Loss: 0.002583785609044161\u001b[0m\n",
      "\u001b[34mEpoch: 63, Loss: 0.0026917169631928534\u001b[0m\n",
      "\u001b[34mEpoch: 64, Loss: 0.0027376707556556207\u001b[0m\n",
      "\u001b[34mEpoch: 65, Loss: 0.002763521019710524\u001b[0m\n",
      "\u001b[34mEpoch: 66, Loss: 0.0026120983417713055\u001b[0m\n",
      "\u001b[34mEpoch: 67, Loss: 0.002447390389793397\u001b[0m\n",
      "\u001b[34mEpoch: 68, Loss: 0.0022838219974425345\u001b[0m\n",
      "\u001b[34mEpoch: 69, Loss: 0.002167552168636193\u001b[0m\n",
      "\u001b[34mEpoch: 70, Loss: 0.002330687602068846\u001b[0m\n",
      "\u001b[34mEpoch: 71, Loss: 0.002224847916244195\u001b[0m\n",
      "\u001b[34mEpoch: 72, Loss: 0.00226945561110691\u001b[0m\n",
      "\u001b[34mEpoch: 73, Loss: 0.0021614795687979068\u001b[0m\n",
      "\u001b[34mEpoch: 74, Loss: 0.00202639394898029\u001b[0m\n",
      "\u001b[34mEpoch: 75, Loss: 0.0018876227411081133\u001b[0m\n",
      "\u001b[34mEpoch: 76, Loss: 0.0019284171894661036\u001b[0m\n",
      "\u001b[34mEpoch: 77, Loss: 0.0019334891738528844\u001b[0m\n",
      "\u001b[34mEpoch: 78, Loss: 0.001940040350929864\u001b[0m\n",
      "\u001b[34mEpoch: 79, Loss: 0.001967958242230656\u001b[0m\n",
      "\u001b[34mEpoch: 80, Loss: 0.0019122933018719224\u001b[0m\n",
      "\u001b[34mEpoch: 81, Loss: 0.0017314456853569744\u001b[0m\n",
      "\u001b[34mEpoch: 82, Loss: 0.0017792461435906122\u001b[0m\n",
      "\u001b[34mEpoch: 83, Loss: 0.0018059522277150623\u001b[0m\n",
      "\u001b[34mEpoch: 84, Loss: 0.0016730708844468513\u001b[0m\n",
      "\u001b[34mEpoch: 85, Loss: 0.0017817706125570008\u001b[0m\n",
      "\u001b[34mEpoch: 86, Loss: 0.0017699454680891293\u001b[0m\n",
      "\u001b[34mEpoch: 87, Loss: 0.0018308720626049376\u001b[0m\n",
      "\u001b[34mEpoch: 88, Loss: 0.00181506749507822\u001b[0m\n",
      "\u001b[34mEpoch: 89, Loss: 0.0016163624405833262\u001b[0m\n",
      "\u001b[34mEpoch: 90, Loss: 0.0017011995189689067\u001b[0m\n",
      "\u001b[34mEpoch: 91, Loss: 0.001537220647366221\u001b[0m\n",
      "\u001b[34mEpoch: 92, Loss: 0.0015471523947327766\u001b[0m\n",
      "\u001b[34mEpoch: 93, Loss: 0.0014995033862513218\u001b[0m\n",
      "\u001b[34mEpoch: 94, Loss: 0.0014790611552353203\u001b[0m\n",
      "\u001b[34mEpoch: 95, Loss: 0.0014898369839108155\u001b[0m\n",
      "\u001b[34mEpoch: 96, Loss: 0.0015398191209718053\u001b[0m\n",
      "\u001b[34mEpoch: 97, Loss: 0.0014764893952851136\u001b[0m\n",
      "\u001b[34mEpoch: 98, Loss: 0.0014643368219322058\u001b[0m\n",
      "\u001b[34mEpoch: 99, Loss: 0.0014919719977915266\u001b[0m\n",
      "\u001b[34mEpoch: 100, Loss: 0.0014696242111044136\u001b[0m\n",
      "\u001b[34m2020-01-31 16:08:54,453 sagemaker-containers INFO     Reporting training SUCCESS\u001b[0m\n",
      "\n",
      "2020-01-31 16:09:03 Uploading - Uploading generated training model\n",
      "2020-01-31 16:09:03 Completed - Training job completed\n",
      "Training seconds: 178\n",
      "Billable seconds: 178\n"
     ]
    }
   ],
   "source": [
    "estimator.fit({'training': in_data['eurusd_1d']})"
   ]
  },
  {
   "cell_type": "markdown",
   "metadata": {},
   "source": [
    "### Model S3 Location\n",
    "For our web application deployment we will use S3 location of our estimator:\n",
    "\n",
    "**Copy result of the cell below - it is required in the next notebook!**"
   ]
  },
  {
   "cell_type": "code",
   "execution_count": 42,
   "metadata": {},
   "outputs": [
    {
     "data": {
      "text/plain": [
       "'s3://sagemaker-us-east-1-236375122127/pytorch-training-2020-01-31-16-02-44-220/output/model.tar.gz'"
      ]
     },
     "execution_count": 42,
     "metadata": {},
     "output_type": "execute_result"
    }
   ],
   "source": [
    "estimator.model_data"
   ]
  },
  {
   "cell_type": "markdown",
   "metadata": {},
   "source": [
    "## Evaluating\n",
    "Here we deploy our estimator, test how does it perform on both NASDAQ and EURUSD. After everything runs without errors, we will compare the result against our benchmark."
   ]
  },
  {
   "cell_type": "code",
   "execution_count": 43,
   "metadata": {},
   "outputs": [
    {
     "name": "stdout",
     "output_type": "stream",
     "text": [
      "---------------------!"
     ]
    }
   ],
   "source": [
    "predictor = estimator.deploy(instance_type='ml.p2.xlarge', initial_instance_count=1)"
   ]
  },
  {
   "cell_type": "code",
   "execution_count": 47,
   "metadata": {},
   "outputs": [],
   "source": [
    "# Should match input + output size\n",
    "ds_eurusd = SlidingWindowDataset(eurusd_test.values, 62)\n",
    "ds_nasdaq = SlidingWindowDataset(nasdaq_test.values, 62)"
   ]
  },
  {
   "cell_type": "code",
   "execution_count": 49,
   "metadata": {},
   "outputs": [
    {
     "data": {
      "text/plain": [
       "array([[ 0.16714808,  0.2868967 ],\n",
       "       [ 0.59538161,  0.08096727],\n",
       "       [ 0.05563164, -0.16255054]])"
      ]
     },
     "execution_count": 49,
     "metadata": {},
     "output_type": "execute_result"
    }
   ],
   "source": [
    "predictor.predict(ds_eurusd[:3][:,:60])"
   ]
  },
  {
   "cell_type": "code",
   "execution_count": 50,
   "metadata": {},
   "outputs": [
    {
     "data": {
      "text/plain": [
       "array([[-0.13839194, -0.97926498],\n",
       "       [-0.06289508, -1.77585176],\n",
       "       [-0.10114934, -1.91983414]])"
      ]
     },
     "execution_count": 50,
     "metadata": {},
     "output_type": "execute_result"
    }
   ],
   "source": [
    "predictor.predict(ds_nasdaq[:3][:,:60])"
   ]
  },
  {
   "cell_type": "markdown",
   "metadata": {},
   "source": [
    "## Benchmark vs LSTM Solution"
   ]
  },
  {
   "cell_type": "code",
   "execution_count": 54,
   "metadata": {},
   "outputs": [],
   "source": [
    "def test(ds, in_len=100, out_len=1):\n",
    "    test_y = ds\n",
    "    x = test_y[:,:in_len]\n",
    "    test_y = test_y[:,:,col2int['Close']]\n",
    "    \n",
    "    ma_y = benchmark.predict(x, out_len)\n",
    "    model_y = predictor.predict(x)\n",
    "    model_y = mdl.denormalize(torch.from_numpy(model_y), torch.from_numpy(x[:,:,3]))\n",
    "    \n",
    "    ax = np.arange(sum(test_y.shape) - 1)\n",
    "    y = test_y[0]\n",
    "    y = np.append(y, [test_y[i,-1] for i in range(1,test_y.shape[0])])\n",
    "    return ax, y, ma_y.squeeze(), model_y.squeeze().numpy()"
   ]
  },
  {
   "cell_type": "code",
   "execution_count": 55,
   "metadata": {},
   "outputs": [],
   "source": [
    "ax, y, ma_y, model_y = test(ds_eurusd[:20], in_len=60, out_len=2)"
   ]
  },
  {
   "cell_type": "code",
   "execution_count": 59,
   "metadata": {},
   "outputs": [
    {
     "data": {
      "text/plain": [
       "[<matplotlib.lines.Line2D at 0x7feae7484438>]"
      ]
     },
     "execution_count": 59,
     "metadata": {},
     "output_type": "execute_result"
    },
    {
     "data": {
      "image/png": "[encoded data removed]",
      "text/plain": [
       "<Figure size 576x432 with 1 Axes>"
      ]
     },
     "metadata": {},
     "output_type": "display_data"
    }
   ],
   "source": [
    "plt.figure(figsize=(8,6))\n",
    "plt.plot(ax[-20:], y[-20:], '-x')\n",
    "plt.plot(ax[-20:], ma_y, 'r-x')\n",
    "plt.plot(ax[-20:], model_y, 'g-x')"
   ]
  },
  {
   "cell_type": "code",
   "execution_count": 61,
   "metadata": {},
   "outputs": [
    {
     "data": {
      "text/plain": [
       "(array([0.00028644, 0.00026656]), array([0.00021349, 0.00024811]))"
      ]
     },
     "execution_count": 61,
     "metadata": {},
     "output_type": "execute_result"
    }
   ],
   "source": [
    "loss_mse(y[-20:], ma_y), loss_mse(y[-20:], model_y.numpy())"
   ]
  },
  {
   "cell_type": "code",
   "execution_count": 63,
   "metadata": {},
   "outputs": [],
   "source": [
    "ax, y, ma_y, model_y = test(ds_nasdaq[10:50], in_len=60, out_len=2)"
   ]
  },
  {
   "cell_type": "code",
   "execution_count": 64,
   "metadata": {},
   "outputs": [
    {
     "data": {
      "text/plain": [
       "[<matplotlib.lines.Line2D at 0x7feae72c3f98>,\n",
       " <matplotlib.lines.Line2D at 0x7feae72b7da0>]"
      ]
     },
     "execution_count": 64,
     "metadata": {},
     "output_type": "execute_result"
    },
    {
     "data": {
      "image/png": "[encoded data removed]",
      "text/plain": [
       "<Figure size 576x432 with 1 Axes>"
      ]
     },
     "metadata": {},
     "output_type": "display_data"
    }
   ],
   "source": [
    "plt.figure(figsize=(8,6))\n",
    "plt.plot(ax[-40:], y[-40:], '-x')\n",
    "plt.plot(ax[-40:], ma_y, 'r-x')\n",
    "plt.plot(ax[-40:], model_y, 'g-x')"
   ]
  },
  {
   "cell_type": "code",
   "execution_count": 65,
   "metadata": {},
   "outputs": [
    {
     "data": {
      "text/plain": [
       "(array([228682.72592094, 223908.56506181]),\n",
       " array([ 600561.95109644, 2672929.79234258]))"
      ]
     },
     "execution_count": 65,
     "metadata": {},
     "output_type": "execute_result"
    }
   ],
   "source": [
    "loss_mse(y[-40:], ma_y), loss_mse(y[-40:], model_y.numpy())"
   ]
  },
  {
   "cell_type": "markdown",
   "metadata": {},
   "source": [
    "## Clean-up\n",
    "We will not need this endpoint anymore, so let's remove it."
   ]
  },
  {
   "cell_type": "code",
   "execution_count": 66,
   "metadata": {},
   "outputs": [],
   "source": [
    "estimator.delete_endpoint()"
   ]
  },
  {
   "cell_type": "markdown",
   "metadata": {},
   "source": [
    "# Summary\n",
    "Model is ready to deploy. Final deployment steps will be performed in the `WebApp.ipynb` notebook."
   ]
  },
  {
   "cell_type": "code",
   "execution_count": null,
   "metadata": {},
   "outputs": [],
   "source": []
  }
 ],
 "metadata": {
  "kernelspec": {
   "display_name": "conda_pytorch_p36",
   "language": "python",
   "name": "conda_pytorch_p36"
  },
  "language_info": {
   "codemirror_mode": {
    "name": "ipython",
    "version": 3
   },
   "file_extension": ".py",
   "mimetype": "text/x-python",
   "name": "python",
   "nbconvert_exporter": "python",
   "pygments_lexer": "ipython3",
   "version": "3.6.5"
  }
 },
 "nbformat": 4,
 "nbformat_minor": 4
}
