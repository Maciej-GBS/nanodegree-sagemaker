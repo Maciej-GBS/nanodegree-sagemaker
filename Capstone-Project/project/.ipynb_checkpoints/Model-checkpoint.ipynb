{
 "cells": [
  {
   "cell_type": "markdown",
   "metadata": {},
   "source": [
    "# Model development\n",
    "Notebook overview:\n",
    "- create benchmark model\n",
    "- error metrics\n",
    "- create and test data loader\n",
    "- train\n",
    "- evaluate"
   ]
  },
  {
   "cell_type": "code",
   "execution_count": 1,
   "metadata": {},
   "outputs": [],
   "source": [
    "import os.path\n",
    "import pandas as pd\n",
    "import numpy as np\n",
    "import matplotlib.pyplot as plt\n",
    "import torch\n",
    "import torch.utils.data\n",
    "\n",
    "%matplotlib inline"
   ]
  },
  {
   "cell_type": "code",
   "execution_count": 2,
   "metadata": {},
   "outputs": [],
   "source": [
    "data_dir = '../data/'"
   ]
  },
  {
   "cell_type": "code",
   "execution_count": 3,
   "metadata": {},
   "outputs": [],
   "source": [
    "nasdaq_train = pd.read_csv(os.path.join(data_dir,'nasdaq_1d','train.csv'), index_col=0, header=None)\n",
    "nasdaq_test = pd.read_csv(os.path.join(data_dir,'nasdaq_1d','test.csv'), index_col=0, header=None)"
   ]
  },
  {
   "cell_type": "code",
   "execution_count": 4,
   "metadata": {},
   "outputs": [],
   "source": [
    "eurusd_train = pd.read_csv(os.path.join(data_dir,'eurusd_1d','train.csv'), index_col=0, header=None)\n",
    "eurusd_test = pd.read_csv(os.path.join(data_dir,'eurusd_1d','test.csv'), index_col=0, header=None)"
   ]
  },
  {
   "cell_type": "code",
   "execution_count": 5,
   "metadata": {},
   "outputs": [
    {
     "data": {
      "text/plain": [
       "{'Open': 0,\n",
       " 'High': 1,\n",
       " 'Low': 2,\n",
       " 'Close': 3,\n",
       " 'Gap': 4,\n",
       " 'EMA': 5,\n",
       " 'SMA': 6,\n",
       " 'Momentum': 7,\n",
       " 'RSI': 8}"
      ]
     },
     "execution_count": 5,
     "metadata": {},
     "output_type": "execute_result"
    }
   ],
   "source": [
    "col2int = {k:v for k,v in zip(['Open','High','Low','Close','Gap','EMA','SMA','Momentum','RSI'], range(0,9))}\n",
    "col2int"
   ]
  },
  {
   "cell_type": "markdown",
   "metadata": {},
   "source": [
    "# Benchmark\n",
    "Because the benchmark model is very simple and needed only in this notebook, I will define it here.\n",
    "\n",
    "Simple Moving Average forecasting implementation:"
   ]
  },
  {
   "cell_type": "code",
   "execution_count": 6,
   "metadata": {},
   "outputs": [],
   "source": [
    "class MA_regressor:\n",
    "    def __init__(self, N=5):\n",
    "        self.N = N\n",
    "    \n",
    "    def forward(self, price):\n",
    "        return price[-self.N:].sum() / self.N\n",
    "    \n",
    "    def predict(self, data, steps=10):\n",
    "        predictions = np.zeros((len(data),steps))\n",
    "        for i in range(0,len(data)):\n",
    "            d = data[i][:,col2int[\"Close\"]]\n",
    "            for j in range(0,steps):\n",
    "                predictions[i][j] = self.forward(np.append(d, predictions[i][:j]))\n",
    "        return predictions"
   ]
  },
  {
   "cell_type": "code",
   "execution_count": 10,
   "metadata": {},
   "outputs": [],
   "source": [
    "sample, steps = 30, 3\n",
    "\n",
    "benchmark = MA_regressor(10)\n",
    "y = benchmark.predict([nasdaq_train.iloc[:sample].values], steps)[0]"
   ]
  },
  {
   "cell_type": "code",
   "execution_count": 8,
   "metadata": {},
   "outputs": [
    {
     "data": {
      "text/plain": [
       "[<matplotlib.lines.Line2D at 0x7f0e1caacf60>]"
      ]
     },
     "execution_count": 8,
     "metadata": {},
     "output_type": "execute_result"
    },
    {
     "data": {
      "image/png": "[encoded data removed]",
      "text/plain": [
       "<Figure size 864x432 with 1 Axes>"
      ]
     },
     "metadata": {},
     "output_type": "display_data"
    }
   ],
   "source": [
    "plt.figure(figsize=(12,6))\n",
    "plt.xticks(rotation='vertical')\n",
    "plt.plot(nasdaq_train.iloc[:sample+steps,3])\n",
    "\n",
    "# Reconstruct index\n",
    "y_series = nasdaq_train.iloc[sample-1:sample+steps,3].copy()\n",
    "y_series.iloc[1:] = y\n",
    "\n",
    "plt.plot(y_series)"
   ]
  },
  {
   "cell_type": "markdown",
   "metadata": {},
   "source": [
    "# Metrics\n",
    "The sample prediction is not successfull at all, we need some metric to optimize it.\n",
    "\n",
    "Because this is an regression problem, we need a loss function describing how far we are from the correct answer.\n",
    "I propose an $MSE$ metric with a sum reduction:\n",
    "\n",
    "\\begin{equation}\n",
    "MSE = \\frac{1}{2} \\left( y - \\hat{y} \\right)^2\n",
    "\\end{equation}\n",
    "\n",
    "It will allow us to compute a gradient that moves towards a better solution."
   ]
  },
  {
   "cell_type": "code",
   "execution_count": 11,
   "metadata": {},
   "outputs": [],
   "source": [
    "def loss_mse(y_hat, y):\n",
    "    mse = 0.0\n",
    "    for a,b in zip(y_hat, y):\n",
    "        mse += 0.5 * (a - b)**2\n",
    "    return mse"
   ]
  },
  {
   "cell_type": "markdown",
   "metadata": {},
   "source": [
    "## Optimizing our benchmark\n",
    "We need to find best parameters for our benchmark. Test function will calculate mean error for specific parameter."
   ]
  },
  {
   "cell_type": "code",
   "execution_count": 12,
   "metadata": {},
   "outputs": [
    {
     "data": {
      "text/plain": [
       "515.8219224775455"
      ]
     },
     "execution_count": 12,
     "metadata": {},
     "output_type": "execute_result"
    }
   ],
   "source": [
    "target = nasdaq_train.iloc[sample:sample+steps,3].values\n",
    "loss_mse(target, y)"
   ]
  },
  {
   "cell_type": "code",
   "execution_count": 13,
   "metadata": {},
   "outputs": [],
   "source": [
    "def test(in_data, target, w=1):\n",
    "    loss = [[], []]\n",
    "    for i in range(2, 90):\n",
    "        benchmark = MA_regressor(i)\n",
    "        y = benchmark.predict([in_data.values], steps)[0]\n",
    "        loss[0].append(i)\n",
    "        loss[1].append(loss_mse(target, y) / w)\n",
    "    return np.array(loss)"
   ]
  },
  {
   "cell_type": "code",
   "execution_count": 14,
   "metadata": {},
   "outputs": [
    {
     "data": {
      "text/plain": [
       "[<matplotlib.lines.Line2D at 0x7f9c75c061d0>]"
      ]
     },
     "execution_count": 14,
     "metadata": {},
     "output_type": "execute_result"
    },
    {
     "data": {
      "image/png": "[encoded data removed]",
      "text/plain": [
       "<Figure size 432x288 with 1 Axes>"
      ]
     },
     "metadata": {},
     "output_type": "display_data"
    }
   ],
   "source": [
    "sample = 100\n",
    "tests = 500\n",
    "\n",
    "loss = test(nasdaq_train.iloc[:sample], nasdaq_train.iloc[sample:sample+steps,3].values, w=tests)\n",
    "for offset in range(1,tests,2):\n",
    "    loss[1] += test(nasdaq_train.iloc[offset:offset+sample],\n",
    "                 nasdaq_train.iloc[offset+sample:offset+sample+steps,3].values, w=tests)[1]\n",
    "\n",
    "plt.plot(*loss, 'x')"
   ]
  },
  {
   "cell_type": "markdown",
   "metadata": {},
   "source": [
    "### Best benchmark model\n",
    "It is clear that the lowest value of `N = 2` gives the best results over half of the NASDAQ train dataset.\n",
    "\n",
    "Let's save it as our final benchmark."
   ]
  },
  {
   "cell_type": "code",
   "execution_count": 15,
   "metadata": {},
   "outputs": [],
   "source": [
    "benchmark = MA_regressor(N=2)"
   ]
  },
  {
   "cell_type": "markdown",
   "metadata": {},
   "source": [
    "# LSTM model\n",
    "Great, now that we know what the performance of our benchmark is, we can start developing a better solution.\n",
    "Inside `model/model.py` there is an LSTMRegressor class, which is the model we will train.\n",
    "\n",
    "I will train both of them and compare the results.\n",
    "\n",
    "## Data Loader\n",
    "Before we start we need to create a data loader for our problem.\n",
    "The best approach is to use a sliding window over the dataset."
   ]
  },
  {
   "cell_type": "code",
   "execution_count": 16,
   "metadata": {},
   "outputs": [],
   "source": [
    "# A working copy from model/model.py\n",
    "class SlidingWindowDataset(torch.utils.data.Dataset):\n",
    "    def __init__(self, data, window_size):\n",
    "        super().__init__()\n",
    "        self.timeseries = data\n",
    "        self.window = window_size\n",
    "        self.length = len(self.timeseries)\n",
    "    \n",
    "    def __len__(self):\n",
    "        return self.length - self.window + 1\n",
    "        \n",
    "    def __getitem__(self, index):\n",
    "        if type(index) is slice:\n",
    "            start = 0\n",
    "            stop = self.length - self.window\n",
    "            step = 1\n",
    "            if index.start is not None:\n",
    "                start = index.start\n",
    "            if index.stop is not None:\n",
    "                stop = index.stop\n",
    "            if index.step is not None:\n",
    "                step = index.step\n",
    "            return np.array([self.timeseries[i:i+self.window] for i in range(start,stop,step)])\n",
    "        else:\n",
    "            last = index + self.window\n",
    "            if index < 0 or last > self.length:\n",
    "                raise IndexError\n",
    "            return self.timeseries[index:last]"
   ]
  },
  {
   "cell_type": "code",
   "execution_count": 17,
   "metadata": {},
   "outputs": [],
   "source": [
    "ds = SlidingWindowDataset(nasdaq_test.values, 5)\n",
    "ds_loader = torch.utils.data.DataLoader(ds, batch_size=4)"
   ]
  },
  {
   "cell_type": "code",
   "execution_count": 18,
   "metadata": {},
   "outputs": [
    {
     "data": {
      "text/plain": [
       "(torch.Size([4, 5, 9]),\n",
       " tensor([[[ 6.5735e+03,  6.5867e+03,  6.3046e+03,  6.3330e+03,  1.0000e+00,\n",
       "            7.2584e+03,  7.4221e+03, -1.9542e+02,  5.0000e+01],\n",
       "          [ 6.2785e+03,  6.3552e+03,  6.1902e+03,  6.1929e+03,  3.0000e+00,\n",
       "            7.2264e+03,  7.3989e+03, -1.4007e+02,  4.2857e+01],\n",
       "          [ 6.2579e+03,  6.5555e+03,  6.2143e+03,  6.5544e+03,  2.0000e+00,\n",
       "            7.2062e+03,  7.3729e+03,  3.6144e+02,  3.5714e+01],\n",
       "          [ 6.4572e+03,  6.5830e+03,  6.3370e+03,  6.5795e+03,  1.0000e+00,\n",
       "            7.1874e+03,  7.3521e+03,  2.5130e+01,  4.2857e+01],\n",
       "          [ 6.6168e+03,  6.6842e+03,  6.5292e+03,  6.5845e+03,  1.0000e+00,\n",
       "            7.1693e+03,  7.3333e+03,  5.0298e+00,  4.2857e+01]],\n",
       " \n",
       "         [[ 6.2785e+03,  6.3552e+03,  6.1902e+03,  6.1929e+03,  3.0000e+00,\n",
       "            7.2264e+03,  7.3989e+03, -1.4007e+02,  4.2857e+01],\n",
       "          [ 6.2579e+03,  6.5555e+03,  6.2143e+03,  6.5544e+03,  2.0000e+00,\n",
       "            7.2062e+03,  7.3729e+03,  3.6144e+02,  3.5714e+01],\n",
       "          [ 6.4572e+03,  6.5830e+03,  6.3370e+03,  6.5795e+03,  1.0000e+00,\n",
       "            7.1874e+03,  7.3521e+03,  2.5130e+01,  4.2857e+01],\n",
       "          [ 6.6168e+03,  6.6842e+03,  6.5292e+03,  6.5845e+03,  1.0000e+00,\n",
       "            7.1693e+03,  7.3333e+03,  5.0298e+00,  4.2857e+01],\n",
       "          [ 6.6495e+03,  6.6600e+03,  6.5701e+03,  6.6353e+03,  3.0000e+00,\n",
       "            7.1533e+03,  7.3137e+03,  5.0760e+01,  5.0000e+01]],\n",
       " \n",
       "         [[ 6.2579e+03,  6.5555e+03,  6.2143e+03,  6.5544e+03,  2.0000e+00,\n",
       "            7.2062e+03,  7.3729e+03,  3.6144e+02,  3.5714e+01],\n",
       "          [ 6.4572e+03,  6.5830e+03,  6.3370e+03,  6.5795e+03,  1.0000e+00,\n",
       "            7.1874e+03,  7.3521e+03,  2.5130e+01,  4.2857e+01],\n",
       "          [ 6.6168e+03,  6.6842e+03,  6.5292e+03,  6.5845e+03,  1.0000e+00,\n",
       "            7.1693e+03,  7.3333e+03,  5.0298e+00,  4.2857e+01],\n",
       "          [ 6.6495e+03,  6.6600e+03,  6.5701e+03,  6.6353e+03,  3.0000e+00,\n",
       "            7.1533e+03,  7.3137e+03,  5.0760e+01,  5.0000e+01],\n",
       "          [ 6.5069e+03,  6.6937e+03,  6.5069e+03,  6.6659e+03,  2.0000e+00,\n",
       "            7.1387e+03,  7.2950e+03,  3.0660e+01,  5.0000e+01]],\n",
       " \n",
       "         [[ 6.4572e+03,  6.5830e+03,  6.3370e+03,  6.5795e+03,  1.0000e+00,\n",
       "            7.1874e+03,  7.3521e+03,  2.5130e+01,  4.2857e+01],\n",
       "          [ 6.6168e+03,  6.6842e+03,  6.5292e+03,  6.5845e+03,  1.0000e+00,\n",
       "            7.1693e+03,  7.3333e+03,  5.0298e+00,  4.2857e+01],\n",
       "          [ 6.6495e+03,  6.6600e+03,  6.5701e+03,  6.6353e+03,  3.0000e+00,\n",
       "            7.1533e+03,  7.3137e+03,  5.0760e+01,  5.0000e+01],\n",
       "          [ 6.5069e+03,  6.6937e+03,  6.5069e+03,  6.6659e+03,  2.0000e+00,\n",
       "            7.1387e+03,  7.2950e+03,  3.0660e+01,  5.0000e+01],\n",
       "          [ 6.5848e+03,  6.6002e+03,  6.4571e+03,  6.4635e+03,  1.0000e+00,\n",
       "            7.1184e+03,  7.2755e+03, -2.0244e+02,  5.0000e+01]]],\n",
       "        dtype=torch.float64))"
      ]
     },
     "execution_count": 18,
     "metadata": {},
     "output_type": "execute_result"
    }
   ],
   "source": [
    "sample = next(iter(ds_loader))\n",
    "sample.shape, sample"
   ]
  },
  {
   "cell_type": "markdown",
   "metadata": {},
   "source": [
    "## Uploading data\n",
    "We need to store our input files on S3 server."
   ]
  },
  {
   "cell_type": "code",
   "execution_count": 7,
   "metadata": {},
   "outputs": [],
   "source": [
    "import sagemaker\n",
    "\n",
    "sagemaker_session = sagemaker.Session()\n",
    "\n",
    "bucket = sagemaker_session.default_bucket()\n",
    "prefix = 'sagemaker/stock_forecasting'\n",
    "\n",
    "role = sagemaker.get_execution_role()"
   ]
  },
  {
   "cell_type": "code",
   "execution_count": 8,
   "metadata": {},
   "outputs": [
    {
     "data": {
      "text/plain": [
       "{'nasdaq_1d': 's3://sagemaker-us-east-1-236375122127/sagemaker/stock_forecasting/nasdaq_1d',\n",
       " 'eurusd_1d': 's3://sagemaker-us-east-1-236375122127/sagemaker/stock_forecasting/eurusd_1d'}"
      ]
     },
     "execution_count": 8,
     "metadata": {},
     "output_type": "execute_result"
    }
   ],
   "source": [
    "in_data = {}\n",
    "for directory in ['nasdaq_1d', 'eurusd_1d']:\n",
    "    in_data.update({directory: sagemaker_session.upload_data(path=os.path.join(data_dir,directory), bucket=bucket, key_prefix=os.path.join(prefix,directory))})\n",
    "in_data"
   ]
  },
  {
   "cell_type": "markdown",
   "metadata": {},
   "source": [
    "## Training\n",
    "Before we run training job let's make sure that everything works as expected.\n",
    "Here is a good place to test some different parameters as well."
   ]
  },
  {
   "cell_type": "code",
   "execution_count": 17,
   "metadata": {},
   "outputs": [],
   "source": [
    "import model.model as mdl"
   ]
  },
  {
   "cell_type": "code",
   "execution_count": 18,
   "metadata": {},
   "outputs": [],
   "source": [
    "def train(model, outputs, train_loader, test_loader, use_cols, epochs, optimizer, loss_fn, device):\n",
    "    model.train()\n",
    "    for epoch in range(1, epochs + 1):\n",
    "        total_loss = 0\n",
    "        for batch in train_loader:         \n",
    "            # Slice dataset for input and output\n",
    "            batch_X = batch[:,:batch.shape[1]-outputs].to(device)\n",
    "            batch_Y = batch[:,-outputs:].to(device)\n",
    "            \n",
    "            raw_y = model(batch_X[:,:,use_cols])\n",
    "            y = mdl.denormalize(raw_y, batch_X[:,:,3])\n",
    "            loss = loss_fn(y, batch_Y[:,:,3])\n",
    "            loss.backward()\n",
    "            \n",
    "            # Update weights and reset gradients\n",
    "            optimizer.step()\n",
    "            optimizer.zero_grad()\n",
    "\n",
    "            total_loss += loss.data.item()\n",
    "            \n",
    "        # Validation\n",
    "        test_loss = 0\n",
    "        with torch.no_grad():\n",
    "            for test in test_loader:\n",
    "                test_X = test[:,:test.shape[1]-outputs].to(device)\n",
    "                test_Y = test[:,-outputs:].to(device)\n",
    "                raw_y = model(test_X[:,:,use_cols])\n",
    "                y = mdl.denormalize(raw_y, test_X[:,:,3])\n",
    "                test_loss += loss_fn(y, test_Y[:,:,3]).data.item()\n",
    "        print(\"Epoch: {},\\tLoss: {},\\tVal: {}\".format(epoch, total_loss / len(train_loader), test_loss / len(test_loader)))"
   ]
  },
  {
   "cell_type": "code",
   "execution_count": 19,
   "metadata": {},
   "outputs": [],
   "source": [
    "def get_data_loader(batch_size, sliding_window, dataframe):\n",
    "    train_ds = mdl.SlidingWindowDataset(dataframe.values, sliding_window)\n",
    "    return torch.utils.data.DataLoader(train_ds, batch_size=batch_size)"
   ]
  },
  {
   "cell_type": "code",
   "execution_count": 47,
   "metadata": {},
   "outputs": [],
   "source": [
    "inputs = 100\n",
    "outputs = 1\n",
    "channels = [0,1,2,3,4,5,6,7,8]\n",
    "\n",
    "model = mdl.LSTMRegressor(input_size=inputs,\n",
    "                          input_channels=channels,\n",
    "                          c_filters=5, c_kernel_size=3, lstm_layers=1, lstm_hidden=64, dropout=0.4,\n",
    "                          output_size=outputs)\n",
    "model = model.double()"
   ]
  },
  {
   "cell_type": "code",
   "execution_count": 45,
   "metadata": {},
   "outputs": [],
   "source": [
    "loss_fn = torch.nn.MSELoss(reduction='sum')\n",
    "device = torch.device(\"cuda\" if torch.cuda.is_available() else \"cpu\")\n",
    "train_loader = get_data_loader(128, inputs+outputs, nasdaq_train)\n",
    "test_loader = get_data_loader(128, inputs+outputs, nasdaq_test)\n",
    "optimizer = torch.optim.Adam(model.parameters())"
   ]
  },
  {
   "cell_type": "code",
   "execution_count": 46,
   "metadata": {},
   "outputs": [
    {
     "name": "stdout",
     "output_type": "stream",
     "text": [
      "Epoch: 1,\tLoss: 3555723.5169448117,\tVal: 3101648.323734283\n",
      "Epoch: 2,\tLoss: 2108670.9985451987,\tVal: 2787136.757923468\n",
      "Epoch: 3,\tLoss: 2044266.9525721301,\tVal: 1881752.521310689\n",
      "Epoch: 4,\tLoss: 1607470.0808124642,\tVal: 1585523.8601833247\n",
      "Epoch: 5,\tLoss: 1321962.5365359704,\tVal: 1445157.9704693893\n",
      "Epoch: 6,\tLoss: 1234570.421785911,\tVal: 1315298.9634101535\n",
      "Epoch: 7,\tLoss: 1060292.9790295456,\tVal: 1269164.4133332039\n",
      "Epoch: 8,\tLoss: 954861.1432290438,\tVal: 1246452.2161831472\n",
      "Epoch: 9,\tLoss: 846431.9941260559,\tVal: 1210335.961664441\n",
      "Epoch: 10,\tLoss: 816016.7197172884,\tVal: 1242989.3393979042\n"
     ]
    }
   ],
   "source": [
    "train(model, outputs, train_loader, test_loader, channels, 10, optimizer, loss_fn, device)"
   ]
  },
  {
   "cell_type": "markdown",
   "metadata": {},
   "source": [
    "After some testing, I decided to leave all 9 channels enabled.\n",
    "Other params are:\n",
    "- inputs: 100\n",
    "- outputs: 1\n",
    "- c_filters: 5\n",
    "- lstm_layers: 1\n",
    "- lstm_hidden: 64\n",
    "- dropout: 0.4"
   ]
  },
  {
   "cell_type": "markdown",
   "metadata": {},
   "source": [
    "## Perform Training\n",
    "Here we will train a model with 9 channels on EURUSD dataset, then on NASDAQ (with Volume dropped) and finally we will evaluate its performance.\n",
    "\n",
    "Hyperparameters were set manually with some experimentation. Feel free to adjust them yourself."
   ]
  },
  {
   "cell_type": "code",
   "execution_count": 52,
   "metadata": {},
   "outputs": [],
   "source": [
    "from sagemaker.pytorch import PyTorch\n",
    "\n",
    "estimator = PyTorch(entry_point=\"train.py\",\n",
    "                    source_dir=\"model\",\n",
    "                    role=role,\n",
    "                    framework_version='1.2.0',\n",
    "                    train_instance_count=1,\n",
    "                    train_instance_type='ml.p2.xlarge',\n",
    "                    hyperparameters={\n",
    "                        'epochs': 40,\n",
    "                        'batch-size': 128,\n",
    "                        'input-size': 100,\n",
    "                        'input-channels': '0,1,2,3,4,5,6,7,8',\n",
    "                        'c-filters': 5,\n",
    "                        'lstm-hidden': 64,\n",
    "                        'lstm-layers': 1,\n",
    "                        'output-size': 1,\n",
    "                    })"
   ]
  },
  {
   "cell_type": "code",
   "execution_count": 53,
   "metadata": {
    "collapsed": true,
    "jupyter": {
     "outputs_hidden": true
    }
   },
   "outputs": [
    {
     "name": "stdout",
     "output_type": "stream",
     "text": [
      "2020-01-31 22:24:37 Starting - Starting the training job...\n",
      "2020-01-31 22:24:39 Starting - Launching requested ML instances......\n",
      "2020-01-31 22:25:47 Starting - Preparing the instances for training.........\n",
      "2020-01-31 22:27:18 Downloading - Downloading input data......\n",
      "2020-01-31 22:28:16 Training - Downloading the training image............\n",
      "2020-01-31 22:30:21 Training - Training image download completed. Training in progress.\u001b[34mbash: cannot set terminal process group (-1): Inappropriate ioctl for device\u001b[0m\n",
      "\u001b[34mbash: no job control in this shell\u001b[0m\n",
      "\u001b[34m2020-01-31 22:30:23,357 sagemaker-containers INFO     Imported framework sagemaker_pytorch_container.training\u001b[0m\n",
      "\u001b[34m2020-01-31 22:30:23,388 sagemaker_pytorch_container.training INFO     Block until all host DNS lookups succeed.\u001b[0m\n",
      "\u001b[34m2020-01-31 22:30:23,390 sagemaker_pytorch_container.training INFO     Invoking user training script.\u001b[0m\n",
      "\u001b[34m2020-01-31 22:30:23,747 sagemaker-containers INFO     Module train does not provide a setup.py. \u001b[0m\n",
      "\u001b[34mGenerating setup.py\u001b[0m\n",
      "\u001b[34m2020-01-31 22:30:23,747 sagemaker-containers INFO     Generating setup.cfg\u001b[0m\n",
      "\u001b[34m2020-01-31 22:30:23,747 sagemaker-containers INFO     Generating MANIFEST.in\u001b[0m\n",
      "\u001b[34m2020-01-31 22:30:23,747 sagemaker-containers INFO     Installing module with the following command:\u001b[0m\n",
      "\u001b[34m/opt/conda/bin/python -m pip install . \u001b[0m\n",
      "\u001b[34mProcessing /opt/ml/code\u001b[0m\n",
      "\u001b[34mBuilding wheels for collected packages: train\n",
      "  Building wheel for train (setup.py): started\n",
      "  Building wheel for train (setup.py): finished with status 'done'\n",
      "  Created wheel for train: filename=train-1.0.0-py2.py3-none-any.whl size=42358 sha256=517e46d4ea1a7405c608988787472d8837f7e4eac498c40ef1996fc331233951\n",
      "  Stored in directory: /tmp/pip-ephem-wheel-cache-enljhsyj/wheels/35/24/16/37574d11bf9bde50616c67372a334f94fa8356bc7164af8ca3\u001b[0m\n",
      "\u001b[34mSuccessfully built train\u001b[0m\n",
      "\u001b[34mInstalling collected packages: train\u001b[0m\n",
      "\u001b[34mSuccessfully installed train-1.0.0\u001b[0m\n",
      "\u001b[34mWARNING: You are using pip version 19.3; however, version 20.0.2 is available.\u001b[0m\n",
      "\u001b[34mYou should consider upgrading via the 'pip install --upgrade pip' command.\u001b[0m\n",
      "\u001b[34m2020-01-31 22:30:26,085 sagemaker-containers INFO     Invoking user script\n",
      "\u001b[0m\n",
      "\u001b[34mTraining Env:\n",
      "\u001b[0m\n",
      "\u001b[34m{\n",
      "    \"additional_framework_parameters\": {},\n",
      "    \"channel_input_dirs\": {\n",
      "        \"training\": \"/opt/ml/input/data/training\"\n",
      "    },\n",
      "    \"current_host\": \"algo-1\",\n",
      "    \"framework_module\": \"sagemaker_pytorch_container.training:main\",\n",
      "    \"hosts\": [\n",
      "        \"algo-1\"\n",
      "    ],\n",
      "    \"hyperparameters\": {\n",
      "        \"input-size\": 100,\n",
      "        \"lstm-layers\": 1,\n",
      "        \"input-channels\": \"0,1,2,3,4,5,6,7,8\",\n",
      "        \"c-filters\": 5,\n",
      "        \"batch-size\": 128,\n",
      "        \"lstm-hidden\": 64,\n",
      "        \"output-size\": 1,\n",
      "        \"epochs\": 40\n",
      "    },\n",
      "    \"input_config_dir\": \"/opt/ml/input/config\",\n",
      "    \"input_data_config\": {\n",
      "        \"training\": {\n",
      "            \"TrainingInputMode\": \"File\",\n",
      "            \"S3DistributionType\": \"FullyReplicated\",\n",
      "            \"RecordWrapperType\": \"None\"\n",
      "        }\n",
      "    },\n",
      "    \"input_dir\": \"/opt/ml/input\",\n",
      "    \"is_master\": true,\n",
      "    \"job_name\": \"pytorch-training-2020-01-31-22-24-36-872\",\n",
      "    \"log_level\": 20,\n",
      "    \"master_hostname\": \"algo-1\",\n",
      "    \"model_dir\": \"/opt/ml/model\",\n",
      "    \"module_dir\": \"s3://sagemaker-us-east-1-236375122127/pytorch-training-2020-01-31-22-24-36-872/source/sourcedir.tar.gz\",\n",
      "    \"module_name\": \"train\",\n",
      "    \"network_interface_name\": \"eth0\",\n",
      "    \"num_cpus\": 4,\n",
      "    \"num_gpus\": 1,\n",
      "    \"output_data_dir\": \"/opt/ml/output/data\",\n",
      "    \"output_dir\": \"/opt/ml/output\",\n",
      "    \"output_intermediate_dir\": \"/opt/ml/output/intermediate\",\n",
      "    \"resource_config\": {\n",
      "        \"current_host\": \"algo-1\",\n",
      "        \"hosts\": [\n",
      "            \"algo-1\"\n",
      "        ],\n",
      "        \"network_interface_name\": \"eth0\"\n",
      "    },\n",
      "    \"user_entry_point\": \"train.py\"\u001b[0m\n",
      "\u001b[34m}\n",
      "\u001b[0m\n",
      "\u001b[34mEnvironment variables:\n",
      "\u001b[0m\n",
      "\u001b[34mSM_HOSTS=[\"algo-1\"]\u001b[0m\n",
      "\u001b[34mSM_NETWORK_INTERFACE_NAME=eth0\u001b[0m\n",
      "\u001b[34mSM_HPS={\"batch-size\":128,\"c-filters\":5,\"epochs\":40,\"input-channels\":\"0,1,2,3,4,5,6,7,8\",\"input-size\":100,\"lstm-hidden\":64,\"lstm-layers\":1,\"output-size\":1}\u001b[0m\n",
      "\u001b[34mSM_USER_ENTRY_POINT=train.py\u001b[0m\n",
      "\u001b[34mSM_FRAMEWORK_PARAMS={}\u001b[0m\n",
      "\u001b[34mSM_RESOURCE_CONFIG={\"current_host\":\"algo-1\",\"hosts\":[\"algo-1\"],\"network_interface_name\":\"eth0\"}\u001b[0m\n",
      "\u001b[34mSM_INPUT_DATA_CONFIG={\"training\":{\"RecordWrapperType\":\"None\",\"S3DistributionType\":\"FullyReplicated\",\"TrainingInputMode\":\"File\"}}\u001b[0m\n",
      "\u001b[34mSM_OUTPUT_DATA_DIR=/opt/ml/output/data\u001b[0m\n",
      "\u001b[34mSM_CHANNELS=[\"training\"]\u001b[0m\n",
      "\u001b[34mSM_CURRENT_HOST=algo-1\u001b[0m\n",
      "\u001b[34mSM_MODULE_NAME=train\u001b[0m\n",
      "\u001b[34mSM_LOG_LEVEL=20\u001b[0m\n",
      "\u001b[34mSM_FRAMEWORK_MODULE=sagemaker_pytorch_container.training:main\u001b[0m\n",
      "\u001b[34mSM_INPUT_DIR=/opt/ml/input\u001b[0m\n",
      "\u001b[34mSM_INPUT_CONFIG_DIR=/opt/ml/input/config\u001b[0m\n",
      "\u001b[34mSM_OUTPUT_DIR=/opt/ml/output\u001b[0m\n",
      "\u001b[34mSM_NUM_CPUS=4\u001b[0m\n",
      "\u001b[34mSM_NUM_GPUS=1\u001b[0m\n",
      "\u001b[34mSM_MODEL_DIR=/opt/ml/model\u001b[0m\n",
      "\u001b[34mSM_MODULE_DIR=s3://sagemaker-us-east-1-236375122127/pytorch-training-2020-01-31-22-24-36-872/source/sourcedir.tar.gz\u001b[0m\n",
      "\u001b[34mSM_TRAINING_ENV={\"additional_framework_parameters\":{},\"channel_input_dirs\":{\"training\":\"/opt/ml/input/data/training\"},\"current_host\":\"algo-1\",\"framework_module\":\"sagemaker_pytorch_container.training:main\",\"hosts\":[\"algo-1\"],\"hyperparameters\":{\"batch-size\":128,\"c-filters\":5,\"epochs\":40,\"input-channels\":\"0,1,2,3,4,5,6,7,8\",\"input-size\":100,\"lstm-hidden\":64,\"lstm-layers\":1,\"output-size\":1},\"input_config_dir\":\"/opt/ml/input/config\",\"input_data_config\":{\"training\":{\"RecordWrapperType\":\"None\",\"S3DistributionType\":\"FullyReplicated\",\"TrainingInputMode\":\"File\"}},\"input_dir\":\"/opt/ml/input\",\"is_master\":true,\"job_name\":\"pytorch-training-2020-01-31-22-24-36-872\",\"log_level\":20,\"master_hostname\":\"algo-1\",\"model_dir\":\"/opt/ml/model\",\"module_dir\":\"s3://sagemaker-us-east-1-236375122127/pytorch-training-2020-01-31-22-24-36-872/source/sourcedir.tar.gz\",\"module_name\":\"train\",\"network_interface_name\":\"eth0\",\"num_cpus\":4,\"num_gpus\":1,\"output_data_dir\":\"/opt/ml/output/data\",\"output_dir\":\"/opt/ml/output\",\"output_intermediate_dir\":\"/opt/ml/output/intermediate\",\"resource_config\":{\"current_host\":\"algo-1\",\"hosts\":[\"algo-1\"],\"network_interface_name\":\"eth0\"},\"user_entry_point\":\"train.py\"}\u001b[0m\n",
      "\u001b[34mSM_USER_ARGS=[\"--batch-size\",\"128\",\"--c-filters\",\"5\",\"--epochs\",\"40\",\"--input-channels\",\"0,1,2,3,4,5,6,7,8\",\"--input-size\",\"100\",\"--lstm-hidden\",\"64\",\"--lstm-layers\",\"1\",\"--output-size\",\"1\"]\u001b[0m\n",
      "\u001b[34mSM_OUTPUT_INTERMEDIATE_DIR=/opt/ml/output/intermediate\u001b[0m\n",
      "\u001b[34mSM_CHANNEL_TRAINING=/opt/ml/input/data/training\u001b[0m\n",
      "\u001b[34mSM_HP_INPUT-SIZE=100\u001b[0m\n",
      "\u001b[34mSM_HP_LSTM-LAYERS=1\u001b[0m\n",
      "\u001b[34mSM_HP_INPUT-CHANNELS=0,1,2,3,4,5,6,7,8\u001b[0m\n",
      "\u001b[34mSM_HP_C-FILTERS=5\u001b[0m\n",
      "\u001b[34mSM_HP_BATCH-SIZE=128\u001b[0m\n",
      "\u001b[34mSM_HP_LSTM-HIDDEN=64\u001b[0m\n",
      "\u001b[34mSM_HP_OUTPUT-SIZE=1\u001b[0m\n",
      "\u001b[34mSM_HP_EPOCHS=40\u001b[0m\n",
      "\u001b[34mPYTHONPATH=/opt/conda/bin:/opt/conda/lib/python36.zip:/opt/conda/lib/python3.6:/opt/conda/lib/python3.6/lib-dynload:/opt/conda/lib/python3.6/site-packages\n",
      "\u001b[0m\n",
      "\u001b[34mInvoking script with the following command:\n",
      "\u001b[0m\n",
      "\u001b[34m/opt/conda/bin/python -m train --batch-size 128 --c-filters 5 --epochs 40 --input-channels 0,1,2,3,4,5,6,7,8 --input-size 100 --lstm-hidden 64 --lstm-layers 1 --output-size 1\n",
      "\n",
      "\u001b[0m\n",
      "\u001b[34mUsing device cuda.\u001b[0m\n",
      "\u001b[34mEpoch: 1,#011Loss: 6629562.998865813,#011Val: 5904962.457210303\u001b[0m\n",
      "\u001b[34mEpoch: 2,#011Loss: 4240259.503822771,#011Val: 4255516.266070864\u001b[0m\n",
      "\u001b[34mEpoch: 3,#011Loss: 3353170.238878099,#011Val: 2736038.1798768556\u001b[0m\n",
      "\u001b[34mEpoch: 4,#011Loss: 2381582.259546353,#011Val: 3077078.788989899\u001b[0m\n",
      "\u001b[34mEpoch: 5,#011Loss: 2041330.55820545,#011Val: 2490148.1299525723\u001b[0m\n",
      "\u001b[34mEpoch: 6,#011Loss: 1688217.1499512226,#011Val: 2025804.6944819554\u001b[0m\n",
      "\u001b[34mEpoch: 7,#011Loss: 1448400.8618717748,#011Val: 1875637.7939494513\u001b[0m\n",
      "\u001b[34mEpoch: 8,#011Loss: 1228468.9630699817,#011Val: 1576964.293844849\u001b[0m\n",
      "\u001b[34mEpoch: 9,#011Loss: 1117961.605868434,#011Val: 1579752.8179520133\u001b[0m\n",
      "\u001b[34mEpoch: 10,#011Loss: 972248.2372468088,#011Val: 1505408.6650935973\u001b[0m\n",
      "\u001b[34mEpoch: 11,#011Loss: 908528.9836549567,#011Val: 1430175.9713841467\u001b[0m\n",
      "\u001b[34mEpoch: 12,#011Loss: 856138.3136868564,#011Val: 1365060.2462140163\u001b[0m\n",
      "\u001b[34mEpoch: 13,#011Loss: 787817.7546720763,#011Val: 1239996.5291854085\u001b[0m\n",
      "\u001b[34mEpoch: 14,#011Loss: 832356.8688990345,#011Val: 1317561.2642566743\u001b[0m\n",
      "\u001b[34mEpoch: 15,#011Loss: 710986.4577691725,#011Val: 1149524.5186682083\u001b[0m\n",
      "\u001b[34mEpoch: 16,#011Loss: 721749.8049033693,#011Val: 1177534.062583925\u001b[0m\n",
      "\u001b[34mEpoch: 17,#011Loss: 615305.1226209232,#011Val: 1125777.898023016\u001b[0m\n",
      "\u001b[34mEpoch: 18,#011Loss: 611697.4755231595,#011Val: 1131535.6410803236\u001b[0m\n",
      "\u001b[34mEpoch: 19,#011Loss: 565581.3911538061,#011Val: 1117090.7003629734\u001b[0m\n",
      "\u001b[34mEpoch: 20,#011Loss: 528646.1352591775,#011Val: 1097348.8284677716\u001b[0m\n",
      "\u001b[34mEpoch: 21,#011Loss: 504647.76266631327,#011Val: 1121146.0331140037\u001b[0m\n",
      "\u001b[34mEpoch: 22,#011Loss: 491322.6975850794,#011Val: 1035460.3867764841\u001b[0m\n",
      "\u001b[34mEpoch: 23,#011Loss: 490955.66736973176,#011Val: 1130493.5825619623\u001b[0m\n",
      "\u001b[34mEpoch: 24,#011Loss: 472924.11675929377,#011Val: 1114425.5421992494\u001b[0m\n",
      "\u001b[34mEpoch: 25,#011Loss: 496038.7247047595,#011Val: 1112415.2386402914\u001b[0m\n",
      "\u001b[34mEpoch: 26,#011Loss: 500236.2447141153,#011Val: 1188109.4065578138\u001b[0m\n",
      "\u001b[34mEpoch: 27,#011Loss: 565220.4165351876,#011Val: 1004625.4208647085\u001b[0m\n",
      "\u001b[34mEpoch: 28,#011Loss: 680604.4592317276,#011Val: 1265691.8679982235\u001b[0m\n",
      "\u001b[34mEpoch: 29,#011Loss: 647279.495245354,#011Val: 1089532.3072746685\u001b[0m\n",
      "\u001b[34mEpoch: 30,#011Loss: 711536.8706567598,#011Val: 1233786.438094495\u001b[0m\n",
      "\u001b[34mEpoch: 31,#011Loss: 553207.251426017,#011Val: 1027671.3612523725\u001b[0m\n",
      "\u001b[34mEpoch: 32,#011Loss: 548864.0749547444,#011Val: 1130967.3570935023\u001b[0m\n",
      "\u001b[34mEpoch: 33,#011Loss: 476674.2641255047,#011Val: 1070947.7192109528\u001b[0m\n",
      "\u001b[34mEpoch: 34,#011Loss: 454072.8009316969,#011Val: 1216789.701074909\u001b[0m\n",
      "\u001b[34mEpoch: 35,#011Loss: 481544.0706592231,#011Val: 1028205.7959253489\u001b[0m\n",
      "\u001b[34mEpoch: 36,#011Loss: 499897.9581973794,#011Val: 1146833.7205679482\u001b[0m\n",
      "\u001b[34mEpoch: 37,#011Loss: 557440.0763806754,#011Val: 1041737.9986815953\u001b[0m\n",
      "\u001b[34mEpoch: 38,#011Loss: 532750.9982401284,#011Val: 1094914.0264453178\u001b[0m\n",
      "\u001b[34mEpoch: 39,#011Loss: 562194.6563490274,#011Val: 1095597.3944616998\u001b[0m\n",
      "\u001b[34mEpoch: 40,#011Loss: 529202.9943421514,#011Val: 1133107.000669525\u001b[0m\n",
      "\u001b[34m2020-01-31 22:30:40,794 sagemaker-containers INFO     Reporting training SUCCESS\u001b[0m\n",
      "\n",
      "2020-01-31 22:30:49 Uploading - Uploading generated training model\n",
      "2020-01-31 22:30:49 Completed - Training job completed\n",
      "Training seconds: 211\n",
      "Billable seconds: 211\n"
     ]
    }
   ],
   "source": [
    "estimator.fit({'training': in_data['nasdaq_1d']})"
   ]
  },
  {
   "cell_type": "code",
   "execution_count": 54,
   "metadata": {
    "collapsed": true,
    "jupyter": {
     "outputs_hidden": true
    }
   },
   "outputs": [
    {
     "name": "stdout",
     "output_type": "stream",
     "text": [
      "2020-01-31 22:31:20 Starting - Starting the training job...\n",
      "2020-01-31 22:31:22 Starting - Launching requested ML instances......\n",
      "2020-01-31 22:32:25 Starting - Preparing the instances for training.........\n",
      "2020-01-31 22:33:52 Downloading - Downloading input data...\n",
      "2020-01-31 22:34:47 Training - Downloading the training image............\n",
      "2020-01-31 22:36:52 Training - Training image download completed. Training in progress..\u001b[34mbash: cannot set terminal process group (-1): Inappropriate ioctl for device\u001b[0m\n",
      "\u001b[34mbash: no job control in this shell\u001b[0m\n",
      "\u001b[34m2020-01-31 22:36:53,432 sagemaker-containers INFO     Imported framework sagemaker_pytorch_container.training\u001b[0m\n",
      "\u001b[34m2020-01-31 22:36:53,459 sagemaker_pytorch_container.training INFO     Block until all host DNS lookups succeed.\u001b[0m\n",
      "\u001b[34m2020-01-31 22:36:53,461 sagemaker_pytorch_container.training INFO     Invoking user training script.\u001b[0m\n",
      "\u001b[34m2020-01-31 22:36:53,767 sagemaker-containers INFO     Module train does not provide a setup.py. \u001b[0m\n",
      "\u001b[34mGenerating setup.py\u001b[0m\n",
      "\u001b[34m2020-01-31 22:36:53,768 sagemaker-containers INFO     Generating setup.cfg\u001b[0m\n",
      "\u001b[34m2020-01-31 22:36:53,768 sagemaker-containers INFO     Generating MANIFEST.in\u001b[0m\n",
      "\u001b[34m2020-01-31 22:36:53,768 sagemaker-containers INFO     Installing module with the following command:\u001b[0m\n",
      "\u001b[34m/opt/conda/bin/python -m pip install . \u001b[0m\n",
      "\u001b[34mProcessing /opt/ml/code\u001b[0m\n",
      "\u001b[34mBuilding wheels for collected packages: train\n",
      "  Building wheel for train (setup.py): started\n",
      "  Building wheel for train (setup.py): finished with status 'done'\n",
      "  Created wheel for train: filename=train-1.0.0-py2.py3-none-any.whl size=42359 sha256=5c0a8644d9a130763cc8a3b8a419f21e60fb57c9b4e4cc21bc07654309467413\n",
      "  Stored in directory: /tmp/pip-ephem-wheel-cache-v9op2aos/wheels/35/24/16/37574d11bf9bde50616c67372a334f94fa8356bc7164af8ca3\u001b[0m\n",
      "\u001b[34mSuccessfully built train\u001b[0m\n",
      "\u001b[34mInstalling collected packages: train\u001b[0m\n",
      "\u001b[34mSuccessfully installed train-1.0.0\u001b[0m\n",
      "\u001b[34mWARNING: You are using pip version 19.3; however, version 20.0.2 is available.\u001b[0m\n",
      "\u001b[34mYou should consider upgrading via the 'pip install --upgrade pip' command.\u001b[0m\n",
      "\u001b[34m2020-01-31 22:36:55,977 sagemaker-containers INFO     Invoking user script\n",
      "\u001b[0m\n",
      "\u001b[34mTraining Env:\n",
      "\u001b[0m\n",
      "\u001b[34m{\n",
      "    \"additional_framework_parameters\": {},\n",
      "    \"channel_input_dirs\": {\n",
      "        \"training\": \"/opt/ml/input/data/training\"\n",
      "    },\n",
      "    \"current_host\": \"algo-1\",\n",
      "    \"framework_module\": \"sagemaker_pytorch_container.training:main\",\n",
      "    \"hosts\": [\n",
      "        \"algo-1\"\n",
      "    ],\n",
      "    \"hyperparameters\": {\n",
      "        \"input-size\": 100,\n",
      "        \"lstm-layers\": 1,\n",
      "        \"input-channels\": \"0,1,2,3,4,5,6,7,8\",\n",
      "        \"c-filters\": 5,\n",
      "        \"batch-size\": 128,\n",
      "        \"lstm-hidden\": 64,\n",
      "        \"output-size\": 1,\n",
      "        \"epochs\": 40\n",
      "    },\n",
      "    \"input_config_dir\": \"/opt/ml/input/config\",\n",
      "    \"input_data_config\": {\n",
      "        \"training\": {\n",
      "            \"TrainingInputMode\": \"File\",\n",
      "            \"S3DistributionType\": \"FullyReplicated\",\n",
      "            \"RecordWrapperType\": \"None\"\n",
      "        }\n",
      "    },\n",
      "    \"input_dir\": \"/opt/ml/input\",\n",
      "    \"is_master\": true,\n",
      "    \"job_name\": \"pytorch-training-2020-01-31-22-31-20-594\",\n",
      "    \"log_level\": 20,\n",
      "    \"master_hostname\": \"algo-1\",\n",
      "    \"model_dir\": \"/opt/ml/model\",\n",
      "    \"module_dir\": \"s3://sagemaker-us-east-1-236375122127/pytorch-training-2020-01-31-22-31-20-594/source/sourcedir.tar.gz\",\n",
      "    \"module_name\": \"train\",\n",
      "    \"network_interface_name\": \"eth0\",\n",
      "    \"num_cpus\": 4,\n",
      "    \"num_gpus\": 1,\n",
      "    \"output_data_dir\": \"/opt/ml/output/data\",\n",
      "    \"output_dir\": \"/opt/ml/output\",\n",
      "    \"output_intermediate_dir\": \"/opt/ml/output/intermediate\",\n",
      "    \"resource_config\": {\n",
      "        \"current_host\": \"algo-1\",\n",
      "        \"hosts\": [\n",
      "            \"algo-1\"\n",
      "        ],\n",
      "        \"network_interface_name\": \"eth0\"\n",
      "    },\n",
      "    \"user_entry_point\": \"train.py\"\u001b[0m\n",
      "\u001b[34m}\n",
      "\u001b[0m\n",
      "\u001b[34mEnvironment variables:\n",
      "\u001b[0m\n",
      "\u001b[34mSM_HOSTS=[\"algo-1\"]\u001b[0m\n",
      "\u001b[34mSM_NETWORK_INTERFACE_NAME=eth0\u001b[0m\n",
      "\u001b[34mSM_HPS={\"batch-size\":128,\"c-filters\":5,\"epochs\":40,\"input-channels\":\"0,1,2,3,4,5,6,7,8\",\"input-size\":100,\"lstm-hidden\":64,\"lstm-layers\":1,\"output-size\":1}\u001b[0m\n",
      "\u001b[34mSM_USER_ENTRY_POINT=train.py\u001b[0m\n",
      "\u001b[34mSM_FRAMEWORK_PARAMS={}\u001b[0m\n",
      "\u001b[34mSM_RESOURCE_CONFIG={\"current_host\":\"algo-1\",\"hosts\":[\"algo-1\"],\"network_interface_name\":\"eth0\"}\u001b[0m\n",
      "\u001b[34mSM_INPUT_DATA_CONFIG={\"training\":{\"RecordWrapperType\":\"None\",\"S3DistributionType\":\"FullyReplicated\",\"TrainingInputMode\":\"File\"}}\u001b[0m\n",
      "\u001b[34mSM_OUTPUT_DATA_DIR=/opt/ml/output/data\u001b[0m\n",
      "\u001b[34mSM_CHANNELS=[\"training\"]\u001b[0m\n",
      "\u001b[34mSM_CURRENT_HOST=algo-1\u001b[0m\n",
      "\u001b[34mSM_MODULE_NAME=train\u001b[0m\n",
      "\u001b[34mSM_LOG_LEVEL=20\u001b[0m\n",
      "\u001b[34mSM_FRAMEWORK_MODULE=sagemaker_pytorch_container.training:main\u001b[0m\n",
      "\u001b[34mSM_INPUT_DIR=/opt/ml/input\u001b[0m\n",
      "\u001b[34mSM_INPUT_CONFIG_DIR=/opt/ml/input/config\u001b[0m\n",
      "\u001b[34mSM_OUTPUT_DIR=/opt/ml/output\u001b[0m\n",
      "\u001b[34mSM_NUM_CPUS=4\u001b[0m\n",
      "\u001b[34mSM_NUM_GPUS=1\u001b[0m\n",
      "\u001b[34mSM_MODEL_DIR=/opt/ml/model\u001b[0m\n",
      "\u001b[34mSM_MODULE_DIR=s3://sagemaker-us-east-1-236375122127/pytorch-training-2020-01-31-22-31-20-594/source/sourcedir.tar.gz\u001b[0m\n",
      "\u001b[34mSM_TRAINING_ENV={\"additional_framework_parameters\":{},\"channel_input_dirs\":{\"training\":\"/opt/ml/input/data/training\"},\"current_host\":\"algo-1\",\"framework_module\":\"sagemaker_pytorch_container.training:main\",\"hosts\":[\"algo-1\"],\"hyperparameters\":{\"batch-size\":128,\"c-filters\":5,\"epochs\":40,\"input-channels\":\"0,1,2,3,4,5,6,7,8\",\"input-size\":100,\"lstm-hidden\":64,\"lstm-layers\":1,\"output-size\":1},\"input_config_dir\":\"/opt/ml/input/config\",\"input_data_config\":{\"training\":{\"RecordWrapperType\":\"None\",\"S3DistributionType\":\"FullyReplicated\",\"TrainingInputMode\":\"File\"}},\"input_dir\":\"/opt/ml/input\",\"is_master\":true,\"job_name\":\"pytorch-training-2020-01-31-22-31-20-594\",\"log_level\":20,\"master_hostname\":\"algo-1\",\"model_dir\":\"/opt/ml/model\",\"module_dir\":\"s3://sagemaker-us-east-1-236375122127/pytorch-training-2020-01-31-22-31-20-594/source/sourcedir.tar.gz\",\"module_name\":\"train\",\"network_interface_name\":\"eth0\",\"num_cpus\":4,\"num_gpus\":1,\"output_data_dir\":\"/opt/ml/output/data\",\"output_dir\":\"/opt/ml/output\",\"output_intermediate_dir\":\"/opt/ml/output/intermediate\",\"resource_config\":{\"current_host\":\"algo-1\",\"hosts\":[\"algo-1\"],\"network_interface_name\":\"eth0\"},\"user_entry_point\":\"train.py\"}\u001b[0m\n",
      "\u001b[34mSM_USER_ARGS=[\"--batch-size\",\"128\",\"--c-filters\",\"5\",\"--epochs\",\"40\",\"--input-channels\",\"0,1,2,3,4,5,6,7,8\",\"--input-size\",\"100\",\"--lstm-hidden\",\"64\",\"--lstm-layers\",\"1\",\"--output-size\",\"1\"]\u001b[0m\n",
      "\u001b[34mSM_OUTPUT_INTERMEDIATE_DIR=/opt/ml/output/intermediate\u001b[0m\n",
      "\u001b[34mSM_CHANNEL_TRAINING=/opt/ml/input/data/training\u001b[0m\n",
      "\u001b[34mSM_HP_INPUT-SIZE=100\u001b[0m\n",
      "\u001b[34mSM_HP_LSTM-LAYERS=1\u001b[0m\n",
      "\u001b[34mSM_HP_INPUT-CHANNELS=0,1,2,3,4,5,6,7,8\u001b[0m\n",
      "\u001b[34mSM_HP_C-FILTERS=5\u001b[0m\n",
      "\u001b[34mSM_HP_BATCH-SIZE=128\u001b[0m\n",
      "\u001b[34mSM_HP_LSTM-HIDDEN=64\u001b[0m\n",
      "\u001b[34mSM_HP_OUTPUT-SIZE=1\u001b[0m\n",
      "\u001b[34mSM_HP_EPOCHS=40\u001b[0m\n",
      "\u001b[34mPYTHONPATH=/opt/conda/bin:/opt/conda/lib/python36.zip:/opt/conda/lib/python3.6:/opt/conda/lib/python3.6/lib-dynload:/opt/conda/lib/python3.6/site-packages\n",
      "\u001b[0m\n",
      "\u001b[34mInvoking script with the following command:\n",
      "\u001b[0m\n",
      "\u001b[34m/opt/conda/bin/python -m train --batch-size 128 --c-filters 5 --epochs 40 --input-channels 0,1,2,3,4,5,6,7,8 --input-size 100 --lstm-hidden 64 --lstm-layers 1 --output-size 1\n",
      "\n",
      "\u001b[0m\n",
      "\u001b[34mUsing device cuda.\u001b[0m\n",
      "\u001b[34mEpoch: 1,#011Loss: 0.08707336124844924,#011Val: 0.0065452641830547305\u001b[0m\n",
      "\u001b[34mEpoch: 2,#011Loss: 0.03174264182000434,#011Val: 0.0059025373454393995\u001b[0m\n",
      "\u001b[34mEpoch: 3,#011Loss: 0.02795653255107046,#011Val: 0.007065794650641122\u001b[0m\n",
      "\u001b[34mEpoch: 4,#011Loss: 0.02252085176562449,#011Val: 0.00585032573929222\u001b[0m\n",
      "\u001b[34mEpoch: 5,#011Loss: 0.01745128189827096,#011Val: 0.00426976270352245\u001b[0m\n",
      "\u001b[34mEpoch: 6,#011Loss: 0.015768610536278208,#011Val: 0.004142761704969334\u001b[0m\n",
      "\u001b[34mEpoch: 7,#011Loss: 0.013727702350969135,#011Val: 0.003571943665432173\u001b[0m\n",
      "\u001b[34mEpoch: 8,#011Loss: 0.011881553191289728,#011Val: 0.003896036917699307\u001b[0m\n",
      "\u001b[34mEpoch: 9,#011Loss: 0.01134677591684304,#011Val: 0.0033766806576191327\u001b[0m\n",
      "\u001b[34mEpoch: 10,#011Loss: 0.01034488145096449,#011Val: 0.0032351084092020407\u001b[0m\n",
      "\u001b[34mEpoch: 11,#011Loss: 0.009590516036784002,#011Val: 0.0033673240492093043\u001b[0m\n",
      "\u001b[34mEpoch: 12,#011Loss: 0.008988542803953486,#011Val: 0.003115382686621198\u001b[0m\n",
      "\u001b[34mEpoch: 13,#011Loss: 0.008154035843023237,#011Val: 0.003202615017788204\u001b[0m\n",
      "\u001b[34mEpoch: 14,#011Loss: 0.007667197728889571,#011Val: 0.0030186598095598817\u001b[0m\n",
      "\u001b[34mEpoch: 15,#011Loss: 0.006977720123166172,#011Val: 0.0029283785812735633\u001b[0m\n",
      "\u001b[34mEpoch: 16,#011Loss: 0.006658266772388782,#011Val: 0.0025883443004246403\u001b[0m\n",
      "\u001b[34mEpoch: 17,#011Loss: 0.006475772420497507,#011Val: 0.00306990420407577\u001b[0m\n",
      "\u001b[34mEpoch: 18,#011Loss: 0.006404024152327077,#011Val: 0.0025735087282925152\u001b[0m\n",
      "\u001b[34mEpoch: 19,#011Loss: 0.005901901775032009,#011Val: 0.0029524379611112032\u001b[0m\n",
      "\u001b[34mEpoch: 20,#011Loss: 0.0069281606910216705,#011Val: 0.0022317018012412357\u001b[0m\n",
      "\u001b[34mEpoch: 21,#011Loss: 0.0072453762512727235,#011Val: 0.0030034696463473952\u001b[0m\n",
      "\u001b[34mEpoch: 22,#011Loss: 0.007718464090489387,#011Val: 0.002195060127283743\u001b[0m\n",
      "\u001b[34mEpoch: 23,#011Loss: 0.0082079726897977,#011Val: 0.002553712184199728\u001b[0m\n",
      "\u001b[34mEpoch: 24,#011Loss: 0.007001581374558428,#011Val: 0.0024028367780703076\u001b[0m\n",
      "\u001b[34mEpoch: 25,#011Loss: 0.005765079413563741,#011Val: 0.002229724594365496\u001b[0m\n",
      "\u001b[34mEpoch: 26,#011Loss: 0.0044902500318845144,#011Val: 0.002434960263374305\u001b[0m\n",
      "\u001b[34mEpoch: 27,#011Loss: 0.004120003872234484,#011Val: 0.0020671979354126317\u001b[0m\n",
      "\u001b[34mEpoch: 28,#011Loss: 0.004154614841543928,#011Val: 0.0023372984756143854\u001b[0m\n",
      "\u001b[34mEpoch: 29,#011Loss: 0.0040388549995808015,#011Val: 0.001976658080688926\u001b[0m\n",
      "\u001b[34mEpoch: 30,#011Loss: 0.003760436985569708,#011Val: 0.0019384719905187256\u001b[0m\n",
      "\u001b[34mEpoch: 31,#011Loss: 0.0035578580921584255,#011Val: 0.0020269420490981725\u001b[0m\n",
      "\u001b[34mEpoch: 32,#011Loss: 0.0035341866070944506,#011Val: 0.0018797969984632383\u001b[0m\n",
      "\u001b[34mEpoch: 33,#011Loss: 0.003293750063675532,#011Val: 0.0018886995294864967\u001b[0m\n",
      "\u001b[34mEpoch: 34,#011Loss: 0.003233958424576147,#011Val: 0.0018779647437919388\u001b[0m\n",
      "\n",
      "2020-01-31 22:37:20 Uploading - Uploading generated training model\n",
      "2020-01-31 22:37:20 Completed - Training job completed\n",
      "\u001b[34mEpoch: 35,#011Loss: 0.003123801746446268,#011Val: 0.0020542733454584554\u001b[0m\n",
      "\u001b[34mEpoch: 36,#011Loss: 0.0030155643508770094,#011Val: 0.001915508363682535\u001b[0m\n",
      "\u001b[34mEpoch: 37,#011Loss: 0.003053262919028565,#011Val: 0.001913579930839101\u001b[0m\n",
      "\u001b[34mEpoch: 38,#011Loss: 0.0028109306904750557,#011Val: 0.001862680296343649\u001b[0m\n",
      "\u001b[34mEpoch: 39,#011Loss: 0.0027739006445801,#011Val: 0.001870090880639613\u001b[0m\n",
      "\u001b[34mEpoch: 40,#011Loss: 0.0028568973300076472,#011Val: 0.0018057080160827953\u001b[0m\n",
      "\u001b[34m2020-01-31 22:37:11,468 sagemaker-containers INFO     Reporting training SUCCESS\u001b[0m\n",
      "Training seconds: 208\n",
      "Billable seconds: 208\n"
     ]
    }
   ],
   "source": [
    "estimator.fit({'training': in_data['eurusd_1d']})"
   ]
  },
  {
   "cell_type": "markdown",
   "metadata": {},
   "source": [
    "### Model S3 Location\n",
    "For our web application deployment we will use S3 location of our estimator:\n",
    "\n",
    "**Copy result of the cell below - it is required in the next notebook!**"
   ]
  },
  {
   "cell_type": "code",
   "execution_count": 55,
   "metadata": {},
   "outputs": [
    {
     "data": {
      "text/plain": [
       "'s3://sagemaker-us-east-1-236375122127/pytorch-training-2020-01-31-22-31-20-594/output/model.tar.gz'"
      ]
     },
     "execution_count": 55,
     "metadata": {},
     "output_type": "execute_result"
    }
   ],
   "source": [
    "estimator.model_data"
   ]
  },
  {
   "cell_type": "markdown",
   "metadata": {},
   "source": [
    "## Evaluation\n",
    "Here we deploy our estimator, test how does it perform on both NASDAQ and EURUSD. After everything runs without errors, we will compare the result against our benchmark."
   ]
  },
  {
   "cell_type": "code",
   "execution_count": 56,
   "metadata": {},
   "outputs": [
    {
     "name": "stdout",
     "output_type": "stream",
     "text": [
      "---------------------!"
     ]
    }
   ],
   "source": [
    "predictor = estimator.deploy(instance_type='ml.p2.xlarge', initial_instance_count=1)"
   ]
  },
  {
   "cell_type": "code",
   "execution_count": 57,
   "metadata": {},
   "outputs": [],
   "source": [
    "# Should match input + output size\n",
    "ds_eurusd = SlidingWindowDataset(eurusd_test.values, 101)\n",
    "ds_nasdaq = SlidingWindowDataset(nasdaq_test.values, 101)"
   ]
  },
  {
   "cell_type": "code",
   "execution_count": 59,
   "metadata": {},
   "outputs": [
    {
     "data": {
      "text/plain": [
       "array([[0.18912772],\n",
       "       [0.45490125],\n",
       "       [0.50761064]])"
      ]
     },
     "execution_count": 59,
     "metadata": {},
     "output_type": "execute_result"
    }
   ],
   "source": [
    "predictor.predict(ds_eurusd[:3][:,:100])"
   ]
  },
  {
   "cell_type": "code",
   "execution_count": 60,
   "metadata": {},
   "outputs": [
    {
     "data": {
      "text/plain": [
       "array([[-0.98744065],\n",
       "       [-1.25032393],\n",
       "       [-1.39002417]])"
      ]
     },
     "execution_count": 60,
     "metadata": {},
     "output_type": "execute_result"
    }
   ],
   "source": [
    "predictor.predict(ds_nasdaq[:3][:,:100])"
   ]
  },
  {
   "cell_type": "markdown",
   "metadata": {},
   "source": [
    "## Benchmark vs LSTM Solution"
   ]
  },
  {
   "cell_type": "code",
   "execution_count": 61,
   "metadata": {},
   "outputs": [],
   "source": [
    "def test(ds, in_len=100, out_len=1):\n",
    "    test_y = ds\n",
    "    x = test_y[:,:in_len]\n",
    "    test_y = test_y[:,:,col2int['Close']]\n",
    "    \n",
    "    ma_y = benchmark.predict(x, out_len)\n",
    "    model_y = predictor.predict(x)\n",
    "    model_y = mdl.denormalize(torch.from_numpy(model_y), torch.from_numpy(x[:,:,3]))\n",
    "    \n",
    "    ax = np.arange(sum(test_y.shape) - 1)\n",
    "    y = test_y[0]\n",
    "    y = np.append(y, [test_y[i,-1] for i in range(1,test_y.shape[0])])\n",
    "    return ax, y, ma_y.squeeze(), model_y.squeeze().numpy()"
   ]
  },
  {
   "cell_type": "code",
   "execution_count": 63,
   "metadata": {},
   "outputs": [],
   "source": [
    "ax, y, ma_y, model_y = test(ds_eurusd[:20], in_len=100, out_len=1)"
   ]
  },
  {
   "cell_type": "code",
   "execution_count": 64,
   "metadata": {},
   "outputs": [
    {
     "data": {
      "text/plain": [
       "[<matplotlib.lines.Line2D at 0x7f9c6c335d68>]"
      ]
     },
     "execution_count": 64,
     "metadata": {},
     "output_type": "execute_result"
    },
    {
     "data": {
      "image/png": "[encoded data removed]",
      "text/plain": [
       "<Figure size 576x432 with 1 Axes>"
      ]
     },
     "metadata": {},
     "output_type": "display_data"
    }
   ],
   "source": [
    "plt.figure(figsize=(8,6))\n",
    "plt.plot(ax[-20:], y[-20:], '-x')\n",
    "plt.plot(ax[-20:], ma_y, 'r-x')\n",
    "plt.plot(ax[-20:], model_y, 'g-x')"
   ]
  },
  {
   "cell_type": "code",
   "execution_count": 67,
   "metadata": {},
   "outputs": [
    {
     "data": {
      "text/plain": [
       "(1936889.9546831888, 8608888.91211852)"
      ]
     },
     "execution_count": 67,
     "metadata": {},
     "output_type": "execute_result"
    }
   ],
   "source": [
    "loss_mse(y[-20:], ma_y), loss_mse(y[-20:], model_y)"
   ]
  },
  {
   "cell_type": "code",
   "execution_count": 69,
   "metadata": {},
   "outputs": [],
   "source": [
    "ax, y, ma_y, model_y = test(ds_nasdaq[10:50], in_len=100, out_len=1)"
   ]
  },
  {
   "cell_type": "code",
   "execution_count": 70,
   "metadata": {},
   "outputs": [
    {
     "data": {
      "text/plain": [
       "[<matplotlib.lines.Line2D at 0x7f9c6c229b38>]"
      ]
     },
     "execution_count": 70,
     "metadata": {},
     "output_type": "execute_result"
    },
    {
     "data": {
      "image/png": "[encoded data removed]",
      "text/plain": [
       "<Figure size 576x432 with 1 Axes>"
      ]
     },
     "metadata": {},
     "output_type": "display_data"
    }
   ],
   "source": [
    "plt.figure(figsize=(8,6))\n",
    "plt.plot(ax[-40:], y[-40:], '-x')\n",
    "plt.plot(ax[-40:], ma_y, 'r-x')\n",
    "plt.plot(ax[-40:], model_y, 'g-x')"
   ]
  },
  {
   "cell_type": "code",
   "execution_count": 71,
   "metadata": {},
   "outputs": [
    {
     "data": {
      "text/plain": [
       "(120268.06980236899, 7972754.094499213)"
      ]
     },
     "execution_count": 71,
     "metadata": {},
     "output_type": "execute_result"
    }
   ],
   "source": [
    "loss_mse(y[-40:], ma_y), loss_mse(y[-40:], model_y)"
   ]
  },
  {
   "cell_type": "markdown",
   "metadata": {},
   "source": [
    "## Clean-up\n",
    "We will not need this endpoint anymore, so let's remove it."
   ]
  },
  {
   "cell_type": "code",
   "execution_count": 72,
   "metadata": {},
   "outputs": [],
   "source": [
    "estimator.delete_endpoint()"
   ]
  },
  {
   "cell_type": "markdown",
   "metadata": {},
   "source": [
    "# Summary\n",
    "Model is ready to deploy. Final deployment steps will be performed in the `WebApp.ipynb` notebook."
   ]
  },
  {
   "cell_type": "code",
   "execution_count": null,
   "metadata": {},
   "outputs": [],
   "source": []
  }
 ],
 "metadata": {
  "kernelspec": {
   "display_name": "conda_pytorch_p36",
   "language": "python",
   "name": "conda_pytorch_p36"
  },
  "language_info": {
   "codemirror_mode": {
    "name": "ipython",
    "version": 3
   },
   "file_extension": ".py",
   "mimetype": "text/x-python",
   "name": "python",
   "nbconvert_exporter": "python",
   "pygments_lexer": "ipython3",
   "version": "3.6.5"
  }
 },
 "nbformat": 4,
 "nbformat_minor": 4
}
