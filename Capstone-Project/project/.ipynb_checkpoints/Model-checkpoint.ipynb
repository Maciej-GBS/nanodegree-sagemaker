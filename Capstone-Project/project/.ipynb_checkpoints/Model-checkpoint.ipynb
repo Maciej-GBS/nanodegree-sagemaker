{
 "cells": [
  {
   "cell_type": "markdown",
   "metadata": {},
   "source": [
    "# Model development\n",
    "Notebook overview:\n",
    "- create benchmark model\n",
    "- error metrics\n",
    "- create and test data loader\n",
    "- train\n",
    "- evaluate"
   ]
  },
  {
   "cell_type": "code",
   "execution_count": 1,
   "metadata": {},
   "outputs": [],
   "source": [
    "import os.path\n",
    "import pandas as pd\n",
    "import numpy as np\n",
    "import matplotlib.pyplot as plt\n",
    "import torch\n",
    "import torch.utils.data\n",
    "\n",
    "%matplotlib inline"
   ]
  },
  {
   "cell_type": "code",
   "execution_count": 2,
   "metadata": {},
   "outputs": [],
   "source": [
    "data_dir = '../data/'"
   ]
  },
  {
   "cell_type": "code",
   "execution_count": 3,
   "metadata": {},
   "outputs": [],
   "source": [
    "nasdaq_train = pd.read_csv(os.path.join(data_dir,'nasdaq_1d','train.csv'), index_col=0, header=None)\n",
    "nasdaq_test = pd.read_csv(os.path.join(data_dir,'nasdaq_1d','test.csv'), index_col=0, header=None)"
   ]
  },
  {
   "cell_type": "code",
   "execution_count": 4,
   "metadata": {},
   "outputs": [],
   "source": [
    "eurusd_train = pd.read_csv(os.path.join(data_dir,'eurusd_1d','train.csv'), index_col=0, header=None)\n",
    "eurusd_test = pd.read_csv(os.path.join(data_dir,'eurusd_1d','test.csv'), index_col=0, header=None)"
   ]
  },
  {
   "cell_type": "code",
   "execution_count": 5,
   "metadata": {},
   "outputs": [
    {
     "data": {
      "text/plain": [
       "{'Open': 0,\n",
       " 'High': 1,\n",
       " 'Low': 2,\n",
       " 'Close': 3,\n",
       " 'Gap': 4,\n",
       " 'EMA': 5,\n",
       " 'SMA': 6,\n",
       " 'Momentum': 7,\n",
       " 'RSI': 8}"
      ]
     },
     "execution_count": 5,
     "metadata": {},
     "output_type": "execute_result"
    }
   ],
   "source": [
    "col2int = {k:v for k,v in zip(['Open','High','Low','Close','Gap','EMA','SMA','Momentum','RSI'], range(0,9))}\n",
    "col2int"
   ]
  },
  {
   "cell_type": "markdown",
   "metadata": {},
   "source": [
    "# Benchmark\n",
    "Because the benchmark model is very simple and needed only in this notebook, I will define it here.\n",
    "\n",
    "Simple Moving Average forecasting implementation:"
   ]
  },
  {
   "cell_type": "code",
   "execution_count": 6,
   "metadata": {},
   "outputs": [],
   "source": [
    "class MA_regressor:\n",
    "    def __init__(self, N=5):\n",
    "        self.N = N\n",
    "    \n",
    "    def forward(self, price):\n",
    "        return price[-self.N:].sum() / self.N\n",
    "    \n",
    "    def predict(self, data, steps=10):\n",
    "        predictions = np.zeros((len(data),steps))\n",
    "        for i in range(0,len(data)):\n",
    "            d = data[i][:,col2int[\"Close\"]]\n",
    "            for j in range(0,steps):\n",
    "                predictions[i][j] = self.forward(np.append(d, predictions[i][:j]))\n",
    "        return predictions"
   ]
  },
  {
   "cell_type": "code",
   "execution_count": 7,
   "metadata": {},
   "outputs": [],
   "source": [
    "sample, steps = 30, 1\n",
    "benchmark = MA_regressor(10)\n",
    "y = benchmark.predict([nasdaq_train.iloc[:sample].values], steps)[0]"
   ]
  },
  {
   "cell_type": "code",
   "execution_count": 8,
   "metadata": {},
   "outputs": [
    {
     "data": {
      "text/plain": [
       "[<matplotlib.lines.Line2D at 0x7f087c73ef60>]"
      ]
     },
     "execution_count": 8,
     "metadata": {},
     "output_type": "execute_result"
    },
    {
     "data": {
      "image/png": "[encoded data removed]",
      "text/plain": [
       "<Figure size 864x432 with 1 Axes>"
      ]
     },
     "metadata": {},
     "output_type": "display_data"
    }
   ],
   "source": [
    "plt.figure(figsize=(12,6))\n",
    "plt.xticks(rotation='vertical')\n",
    "plt.plot(nasdaq_train.iloc[:sample+steps,3])\n",
    "# Reconstruct index\n",
    "y_series = nasdaq_train.iloc[sample-1:sample+steps,3].copy()\n",
    "y_series.iloc[1:] = y\n",
    "plt.plot(y_series)"
   ]
  },
  {
   "cell_type": "markdown",
   "metadata": {},
   "source": [
    "# Metrics\n",
    "The sample prediction is not successfull at all, we need some metric to optimize it.\n",
    "\n",
    "Because this is an regression problem, we need a loss function describing how far we are from the correct answer.\n",
    "I propose an $MSE$ metric with a sum reduction:\n",
    "\n",
    "\\begin{equation}\n",
    "MSE = \\frac{1}{2} \\left( y - \\hat{y} \\right)^2\n",
    "\\end{equation}\n",
    "\n",
    "It will allow us to compute a gradient that moves towards a better solution."
   ]
  },
  {
   "cell_type": "code",
   "execution_count": 9,
   "metadata": {},
   "outputs": [],
   "source": [
    "def loss_mse(y_hat, y):\n",
    "    mse = 0.0\n",
    "    for a,b in zip(y_hat, y):\n",
    "        mse += 0.5 * (a - b)**2\n",
    "    return mse"
   ]
  },
  {
   "cell_type": "markdown",
   "metadata": {},
   "source": [
    "## Optimizing our benchmark\n",
    "We need to find best parameters for our benchmark. Test function will calculate mean error for specific parameter."
   ]
  },
  {
   "cell_type": "code",
   "execution_count": 10,
   "metadata": {},
   "outputs": [
    {
     "data": {
      "text/plain": [
       "330.11198505653476"
      ]
     },
     "execution_count": 10,
     "metadata": {},
     "output_type": "execute_result"
    }
   ],
   "source": [
    "target = nasdaq_train.iloc[sample:sample+steps,3].values\n",
    "loss_mse(target, y)"
   ]
  },
  {
   "cell_type": "code",
   "execution_count": 11,
   "metadata": {},
   "outputs": [],
   "source": [
    "def test(in_data, target, w=1):\n",
    "    loss = [[], []]\n",
    "    for i in range(2, 90):\n",
    "        benchmark = MA_regressor(i)\n",
    "        y = benchmark.predict([in_data.values], 10)[0]\n",
    "        loss[0].append(i)\n",
    "        loss[1].append(loss_mse(target, y) / w)\n",
    "    return np.array(loss)"
   ]
  },
  {
   "cell_type": "code",
   "execution_count": 12,
   "metadata": {},
   "outputs": [
    {
     "data": {
      "text/plain": [
       "[<matplotlib.lines.Line2D at 0x7f087c6b0358>]"
      ]
     },
     "execution_count": 12,
     "metadata": {},
     "output_type": "execute_result"
    },
    {
     "data": {
      "image/png": "[encoded data removed]",
      "text/plain": [
       "<Figure size 432x288 with 1 Axes>"
      ]
     },
     "metadata": {},
     "output_type": "display_data"
    }
   ],
   "source": [
    "sample = 100\n",
    "tests = 500\n",
    "\n",
    "loss = test(nasdaq_train.iloc[:sample], nasdaq_train.iloc[sample:sample+steps,3].values, w=tests)\n",
    "for offset in range(1,tests,2):\n",
    "    loss[1] += test(nasdaq_train.iloc[offset:offset+sample],\n",
    "                 nasdaq_train.iloc[offset+sample:offset+sample+steps,3].values, w=tests)[1]\n",
    "\n",
    "plt.plot(*loss, 'x')"
   ]
  },
  {
   "cell_type": "markdown",
   "metadata": {},
   "source": [
    "### Best benchmark model\n",
    "It is clear that the lowest value of `N = 2` gives the best results over half of the NASDAQ train dataset.\n",
    "\n",
    "Let's save it as our final benchmark."
   ]
  },
  {
   "cell_type": "code",
   "execution_count": 13,
   "metadata": {},
   "outputs": [],
   "source": [
    "benchmark = MA_regressor(N=2)"
   ]
  },
  {
   "cell_type": "markdown",
   "metadata": {},
   "source": [
    "# LSTM model\n",
    "Great, now that we know what the performance of our benchmark is, we can start developing a better solution.\n",
    "Inside `model/model.py` there is an LSTMRegressor class, which is the model we will train.\n",
    "\n",
    "I will train both of them and compare the results.\n",
    "\n",
    "## Data Loader\n",
    "Before we start we need to create a data loader for our problem.\n",
    "The best approach is to use a sliding window over the dataset."
   ]
  },
  {
   "cell_type": "code",
   "execution_count": 14,
   "metadata": {},
   "outputs": [],
   "source": [
    "class SlidingWindowDataset(torch.utils.data.Dataset):\n",
    "    def __init__(self, data, window_size):\n",
    "        super().__init__()\n",
    "        self.timeseries = data\n",
    "        self.window = window_size\n",
    "        self.length = len(self.timeseries)\n",
    "    \n",
    "    def __len__(self):\n",
    "        return self.length - self.window + 1\n",
    "        \n",
    "    def __getitem__(self, index):\n",
    "        if type(index) is slice:\n",
    "            start = 0\n",
    "            stop = self.length - self.window\n",
    "            step = 1\n",
    "            if index.start is not None:\n",
    "                start = index.start\n",
    "            if index.stop is not None:\n",
    "                stop = index.stop\n",
    "            if index.step is not None:\n",
    "                step = index.step\n",
    "            return np.array([self.timeseries[i:i+self.window] for i in range(start,stop,step)])\n",
    "        else:\n",
    "            last = index + self.window\n",
    "            if index < 0 or last > self.length:\n",
    "                raise IndexError\n",
    "            return self.timeseries[index:last]"
   ]
  },
  {
   "cell_type": "code",
   "execution_count": 15,
   "metadata": {},
   "outputs": [],
   "source": [
    "ds = SlidingWindowDataset(nasdaq_test.values, 5)\n",
    "ds_loader = torch.utils.data.DataLoader(ds, batch_size=4)"
   ]
  },
  {
   "cell_type": "code",
   "execution_count": 16,
   "metadata": {},
   "outputs": [
    {
     "data": {
      "text/plain": [
       "(torch.Size([4, 5, 9]),\n",
       " tensor([[[ 6.5735e+03,  6.5867e+03,  6.3046e+03,  6.3330e+03,  1.0000e+00,\n",
       "            7.2584e+03,  7.4221e+03, -1.9542e+02,  5.0000e+01],\n",
       "          [ 6.2785e+03,  6.3552e+03,  6.1902e+03,  6.1929e+03,  3.0000e+00,\n",
       "            7.2264e+03,  7.3989e+03, -1.4007e+02,  4.2857e+01],\n",
       "          [ 6.2579e+03,  6.5555e+03,  6.2143e+03,  6.5544e+03,  2.0000e+00,\n",
       "            7.2062e+03,  7.3729e+03,  3.6144e+02,  3.5714e+01],\n",
       "          [ 6.4572e+03,  6.5830e+03,  6.3370e+03,  6.5795e+03,  1.0000e+00,\n",
       "            7.1874e+03,  7.3521e+03,  2.5130e+01,  4.2857e+01],\n",
       "          [ 6.6168e+03,  6.6842e+03,  6.5292e+03,  6.5845e+03,  1.0000e+00,\n",
       "            7.1693e+03,  7.3333e+03,  5.0298e+00,  4.2857e+01]],\n",
       " \n",
       "         [[ 6.2785e+03,  6.3552e+03,  6.1902e+03,  6.1929e+03,  3.0000e+00,\n",
       "            7.2264e+03,  7.3989e+03, -1.4007e+02,  4.2857e+01],\n",
       "          [ 6.2579e+03,  6.5555e+03,  6.2143e+03,  6.5544e+03,  2.0000e+00,\n",
       "            7.2062e+03,  7.3729e+03,  3.6144e+02,  3.5714e+01],\n",
       "          [ 6.4572e+03,  6.5830e+03,  6.3370e+03,  6.5795e+03,  1.0000e+00,\n",
       "            7.1874e+03,  7.3521e+03,  2.5130e+01,  4.2857e+01],\n",
       "          [ 6.6168e+03,  6.6842e+03,  6.5292e+03,  6.5845e+03,  1.0000e+00,\n",
       "            7.1693e+03,  7.3333e+03,  5.0298e+00,  4.2857e+01],\n",
       "          [ 6.6495e+03,  6.6600e+03,  6.5701e+03,  6.6353e+03,  3.0000e+00,\n",
       "            7.1533e+03,  7.3137e+03,  5.0760e+01,  5.0000e+01]],\n",
       " \n",
       "         [[ 6.2579e+03,  6.5555e+03,  6.2143e+03,  6.5544e+03,  2.0000e+00,\n",
       "            7.2062e+03,  7.3729e+03,  3.6144e+02,  3.5714e+01],\n",
       "          [ 6.4572e+03,  6.5830e+03,  6.3370e+03,  6.5795e+03,  1.0000e+00,\n",
       "            7.1874e+03,  7.3521e+03,  2.5130e+01,  4.2857e+01],\n",
       "          [ 6.6168e+03,  6.6842e+03,  6.5292e+03,  6.5845e+03,  1.0000e+00,\n",
       "            7.1693e+03,  7.3333e+03,  5.0298e+00,  4.2857e+01],\n",
       "          [ 6.6495e+03,  6.6600e+03,  6.5701e+03,  6.6353e+03,  3.0000e+00,\n",
       "            7.1533e+03,  7.3137e+03,  5.0760e+01,  5.0000e+01],\n",
       "          [ 6.5069e+03,  6.6937e+03,  6.5069e+03,  6.6659e+03,  2.0000e+00,\n",
       "            7.1387e+03,  7.2950e+03,  3.0660e+01,  5.0000e+01]],\n",
       " \n",
       "         [[ 6.4572e+03,  6.5830e+03,  6.3370e+03,  6.5795e+03,  1.0000e+00,\n",
       "            7.1874e+03,  7.3521e+03,  2.5130e+01,  4.2857e+01],\n",
       "          [ 6.6168e+03,  6.6842e+03,  6.5292e+03,  6.5845e+03,  1.0000e+00,\n",
       "            7.1693e+03,  7.3333e+03,  5.0298e+00,  4.2857e+01],\n",
       "          [ 6.6495e+03,  6.6600e+03,  6.5701e+03,  6.6353e+03,  3.0000e+00,\n",
       "            7.1533e+03,  7.3137e+03,  5.0760e+01,  5.0000e+01],\n",
       "          [ 6.5069e+03,  6.6937e+03,  6.5069e+03,  6.6659e+03,  2.0000e+00,\n",
       "            7.1387e+03,  7.2950e+03,  3.0660e+01,  5.0000e+01],\n",
       "          [ 6.5848e+03,  6.6002e+03,  6.4571e+03,  6.4635e+03,  1.0000e+00,\n",
       "            7.1184e+03,  7.2755e+03, -2.0244e+02,  5.0000e+01]]],\n",
       "        dtype=torch.float64))"
      ]
     },
     "execution_count": 16,
     "metadata": {},
     "output_type": "execute_result"
    }
   ],
   "source": [
    "sample = next(iter(ds_loader))\n",
    "sample.shape, sample"
   ]
  },
  {
   "cell_type": "markdown",
   "metadata": {},
   "source": [
    "## Uploading data\n",
    "We need to store our input files on S3 server."
   ]
  },
  {
   "cell_type": "code",
   "execution_count": 17,
   "metadata": {},
   "outputs": [],
   "source": [
    "import sagemaker\n",
    "\n",
    "sagemaker_session = sagemaker.Session()\n",
    "\n",
    "bucket = sagemaker_session.default_bucket()\n",
    "prefix = 'sagemaker/stock_forecasting'\n",
    "\n",
    "role = sagemaker.get_execution_role()"
   ]
  },
  {
   "cell_type": "code",
   "execution_count": 18,
   "metadata": {},
   "outputs": [
    {
     "data": {
      "text/plain": [
       "{'nasdaq_1d': 's3://sagemaker-us-east-1-236375122127/sagemaker/stock_forecasting/nasdaq_1d',\n",
       " 'eurusd_1d': 's3://sagemaker-us-east-1-236375122127/sagemaker/stock_forecasting/eurusd_1d'}"
      ]
     },
     "execution_count": 18,
     "metadata": {},
     "output_type": "execute_result"
    }
   ],
   "source": [
    "in_data = {}\n",
    "for directory in ['nasdaq_1d', 'eurusd_1d']:\n",
    "    in_data.update({directory: sagemaker_session.upload_data(path=os.path.join(data_dir,directory), bucket=bucket, key_prefix=os.path.join(prefix,directory))})\n",
    "in_data"
   ]
  },
  {
   "cell_type": "markdown",
   "metadata": {},
   "source": [
    "## Training\n",
    "Before we run training job let's make sure that everything works as expected.\n",
    "Here is a good place to test some different parameters as well."
   ]
  },
  {
   "cell_type": "code",
   "execution_count": 19,
   "metadata": {},
   "outputs": [],
   "source": [
    "import model.model as mdl"
   ]
  },
  {
   "cell_type": "code",
   "execution_count": 20,
   "metadata": {},
   "outputs": [],
   "source": [
    "def train(model, outputs, train_loader, use_cols, epochs, optimizer, loss_fn, device):\n",
    "    model.train()\n",
    "    for epoch in range(1, epochs + 1):\n",
    "        total_loss = 0\n",
    "        for batch in train_loader:         \n",
    "            # Slice dataset for input and output\n",
    "            batch_X = batch[:,:batch.shape[1]-outputs].to(device)\n",
    "            batch_Y = batch[:,-outputs:].to(device)\n",
    "            \n",
    "            raw_y = model(batch_X[:,:,use_cols])\n",
    "            y = mdl.denormalize(raw_y, batch_X[:,:,3])\n",
    "            loss = loss_fn(y, batch_Y[:,:,3])\n",
    "            loss.backward()\n",
    "\n",
    "            # Update weights and reset gradients\n",
    "            optimizer.step()\n",
    "            optimizer.zero_grad()\n",
    "\n",
    "            total_loss += loss.data.item()\n",
    "        print(\"Epoch: {}, Loss: {}\".format(epoch, total_loss / len(train_loader)))"
   ]
  },
  {
   "cell_type": "code",
   "execution_count": 21,
   "metadata": {},
   "outputs": [],
   "source": [
    "def get_data_loader(batch_size, sliding_window, dataframe):\n",
    "    train_ds = mdl.SlidingWindowDataset(dataframe.values, sliding_window)\n",
    "    return torch.utils.data.DataLoader(train_ds, batch_size=batch_size)"
   ]
  },
  {
   "cell_type": "code",
   "execution_count": 22,
   "metadata": {},
   "outputs": [],
   "source": [
    "inputs = 50\n",
    "outputs = 2\n",
    "\n",
    "model = mdl.LSTMRegressor(input_size=inputs, input_channels=9, c_filters=5, c_kernel_size=3, lstm_layers=2, lstm_hidden=64, dropout=0.4, output_size=outputs)\n",
    "model = model.double()"
   ]
  },
  {
   "cell_type": "code",
   "execution_count": 23,
   "metadata": {},
   "outputs": [],
   "source": [
    "loss_fn = torch.nn.MSELoss(reduction='sum')\n",
    "device = torch.device(\"cuda\" if torch.cuda.is_available() else \"cpu\")\n",
    "train_loader = get_data_loader(128, inputs+outputs, nasdaq_train)\n",
    "optimizer = torch.optim.Adam(model.parameters())"
   ]
  },
  {
   "cell_type": "code",
   "execution_count": 25,
   "metadata": {},
   "outputs": [
    {
     "name": "stdout",
     "output_type": "stream",
     "text": [
      "Epoch: 1, Loss: 1347166.5461886527\n",
      "Epoch: 2, Loss: 1300953.9833039716\n",
      "Epoch: 3, Loss: 1271589.8340885427\n",
      "Epoch: 4, Loss: 1255112.2789257788\n",
      "Epoch: 5, Loss: 1249303.7551345362\n",
      "Epoch: 6, Loss: 1234074.8232518279\n",
      "Epoch: 7, Loss: 1205985.1441262267\n",
      "Epoch: 8, Loss: 1206761.5937937335\n",
      "Epoch: 9, Loss: 1185693.159836284\n",
      "Epoch: 10, Loss: 1149101.9159412663\n"
     ]
    }
   ],
   "source": [
    "train(model, outputs, train_loader, list(range(0,9)), 10, optimizer, loss_fn, device)"
   ]
  },
  {
   "cell_type": "markdown",
   "metadata": {},
   "source": [
    "## Perform Training\n",
    "Here we will train a model with 9 channels on EURUSD dataset, then on NASDAQ (with Volume dropped) and finally we will evaluate its performance.\n",
    "\n",
    "Hyperparameters were set manually with some experimentation. Feel free to adjust them yourself."
   ]
  },
  {
   "cell_type": "code",
   "execution_count": 26,
   "metadata": {},
   "outputs": [],
   "source": [
    "from sagemaker.pytorch import PyTorch"
   ]
  },
  {
   "cell_type": "code",
   "execution_count": 27,
   "metadata": {},
   "outputs": [],
   "source": [
    "estimator = PyTorch(entry_point=\"train.py\",\n",
    "                    source_dir=\"model\",\n",
    "                    role=role,\n",
    "                    framework_version='1.2.0',\n",
    "                    train_instance_count=1,\n",
    "                    train_instance_type='ml.p2.xlarge',\n",
    "                    hyperparameters={\n",
    "                        'epochs': 100,\n",
    "                        'batch-size': 256,\n",
    "                        'input-size': 100,\n",
    "                        'input-channels': '0,1,2,3,4,5,6,7,8',\n",
    "                        'c-filters': 4,\n",
    "                        'lstm-hidden': 64,\n",
    "                        'lstm-layers': 2,\n",
    "                        'output-size': 1,\n",
    "                    })"
   ]
  },
  {
   "cell_type": "code",
   "execution_count": null,
   "metadata": {},
   "outputs": [],
   "source": [
    "estimator.fit({'training': in_data['nasdaq_1d']})"
   ]
  },
  {
   "cell_type": "code",
   "execution_count": null,
   "metadata": {},
   "outputs": [
    {
     "name": "stdout",
     "output_type": "stream",
     "text": [
      "2020-01-31 13:42:52 Starting - Starting the training job...\n",
      "2020-01-31 13:42:53 Starting - Launching requested ML instances."
     ]
    }
   ],
   "source": [
    "estimator.fit({'training': in_data['eurusd_1d']})"
   ]
  },
  {
   "cell_type": "markdown",
   "metadata": {},
   "source": [
    "### Model S3 Location\n",
    "For our web application deployment we will use S3 location of our estimator:\n",
    "\n",
    "**Copy result of the cell below - it is required in the next notebook!**"
   ]
  },
  {
   "cell_type": "code",
   "execution_count": 35,
   "metadata": {},
   "outputs": [
    {
     "data": {
      "text/plain": [
       "'s3://sagemaker-us-east-1-236375122127/pytorch-training-2020-01-30-14-22-50-179/output/model.tar.gz'"
      ]
     },
     "execution_count": 35,
     "metadata": {},
     "output_type": "execute_result"
    }
   ],
   "source": [
    "estimator.model_data"
   ]
  },
  {
   "cell_type": "markdown",
   "metadata": {},
   "source": [
    "## Evaluating\n",
    "Here we deploy our estimator, test how does it perform on both NASDAQ and EURUSD. After everything runs without errors, we will compare the result against our benchmark."
   ]
  },
  {
   "cell_type": "code",
   "execution_count": 101,
   "metadata": {},
   "outputs": [
    {
     "name": "stdout",
     "output_type": "stream",
     "text": [
      "---------------------!"
     ]
    }
   ],
   "source": [
    "predictor = estimator.deploy(instance_type='ml.p2.xlarge', initial_instance_count=1)"
   ]
  },
  {
   "cell_type": "code",
   "execution_count": 102,
   "metadata": {},
   "outputs": [],
   "source": [
    "ds_eurusd = SlidingWindowDataset(eurusd_test.values, 101)"
   ]
  },
  {
   "cell_type": "code",
   "execution_count": 103,
   "metadata": {},
   "outputs": [],
   "source": [
    "ds_nasdaq = SlidingWindowDataset(nasdaq_test.values, 101)"
   ]
  },
  {
   "cell_type": "code",
   "execution_count": 104,
   "metadata": {},
   "outputs": [
    {
     "data": {
      "text/plain": [
       "array([[-3.29624466],\n",
       "       [-5.34031215],\n",
       "       [-6.11904704]])"
      ]
     },
     "execution_count": 104,
     "metadata": {},
     "output_type": "execute_result"
    }
   ],
   "source": [
    "predictor.predict(ds_eurusd[:3][:,:100])"
   ]
  },
  {
   "cell_type": "code",
   "execution_count": 105,
   "metadata": {},
   "outputs": [
    {
     "data": {
      "text/plain": [
       "array([[ 6.89118796],\n",
       "       [17.91092558],\n",
       "       [29.85108291]])"
      ]
     },
     "execution_count": 105,
     "metadata": {},
     "output_type": "execute_result"
    }
   ],
   "source": [
    "predictor.predict(ds_nasdaq[:3][:,:100])"
   ]
  },
  {
   "cell_type": "markdown",
   "metadata": {},
   "source": [
    "## Benchmark vs LSTM Solution"
   ]
  },
  {
   "cell_type": "code",
   "execution_count": 110,
   "metadata": {},
   "outputs": [
    {
     "data": {
      "text/plain": [
       "((20, 101), (20, 100, 9))"
      ]
     },
     "execution_count": 110,
     "metadata": {},
     "output_type": "execute_result"
    }
   ],
   "source": [
    "test_y = ds_nasdaq[:20]\n",
    "x = test_y[:,:100]\n",
    "test_y = test_y[:,:,col2int['Close']]\n",
    "test_y.shape, x.shape"
   ]
  },
  {
   "cell_type": "code",
   "execution_count": 111,
   "metadata": {},
   "outputs": [],
   "source": [
    "ma_y = benchmark.predict(x, 1)"
   ]
  },
  {
   "cell_type": "raw",
   "metadata": {},
   "source": [
    "model_y = None\n",
    "with torch.no_grad():\n",
    "    model.eval()\n",
    "    model_y = model(torch.from_numpy(test_in))"
   ]
  },
  {
   "cell_type": "code",
   "execution_count": 112,
   "metadata": {},
   "outputs": [],
   "source": [
    "model_y = predictor.predict(x)"
   ]
  },
  {
   "cell_type": "code",
   "execution_count": 113,
   "metadata": {},
   "outputs": [
    {
     "ename": "AttributeError",
     "evalue": "module 'numpy' has no attribute 'cat'",
     "output_type": "error",
     "traceback": [
      "\u001b[0;31m---------------------------------------------------------------------------\u001b[0m",
      "\u001b[0;31mAttributeError\u001b[0m                            Traceback (most recent call last)",
      "\u001b[0;32m<ipython-input-113-85d49a310da9>\u001b[0m in \u001b[0;36m<module>\u001b[0;34m()\u001b[0m\n\u001b[1;32m      1\u001b[0m \u001b[0max\u001b[0m \u001b[0;34m=\u001b[0m \u001b[0mnp\u001b[0m\u001b[0;34m.\u001b[0m\u001b[0marange\u001b[0m\u001b[0;34m(\u001b[0m\u001b[0msum\u001b[0m\u001b[0;34m(\u001b[0m\u001b[0mtest_y\u001b[0m\u001b[0;34m.\u001b[0m\u001b[0mshape\u001b[0m\u001b[0;34m)\u001b[0m\u001b[0;34m)\u001b[0m\u001b[0;34m\u001b[0m\u001b[0m\n\u001b[0;32m----> 2\u001b[0;31m \u001b[0my\u001b[0m \u001b[0;34m=\u001b[0m \u001b[0mnp\u001b[0m\u001b[0;34m.\u001b[0m\u001b[0mcat\u001b[0m\u001b[0;34m(\u001b[0m\u001b[0;34m[\u001b[0m\u001b[0mtest_y\u001b[0m\u001b[0;34m[\u001b[0m\u001b[0mi\u001b[0m\u001b[0;34m,\u001b[0m\u001b[0;34m-\u001b[0m\u001b[0;36m1\u001b[0m\u001b[0;34m]\u001b[0m \u001b[0;32mfor\u001b[0m \u001b[0mi\u001b[0m \u001b[0;32min\u001b[0m \u001b[0mrange\u001b[0m\u001b[0;34m(\u001b[0m\u001b[0;36m0\u001b[0m\u001b[0;34m,\u001b[0m\u001b[0mtest_y\u001b[0m\u001b[0;34m.\u001b[0m\u001b[0mshape\u001b[0m\u001b[0;34m[\u001b[0m\u001b[0;36m0\u001b[0m\u001b[0;34m]\u001b[0m\u001b[0;34m)\u001b[0m\u001b[0;34m]\u001b[0m\u001b[0;34m)\u001b[0m\u001b[0;34m\u001b[0m\u001b[0m\n\u001b[0m",
      "\u001b[0;31mAttributeError\u001b[0m: module 'numpy' has no attribute 'cat'"
     ]
    }
   ],
   "source": [
    "ax = np.arange(sum(test_y.shape))\n",
    "y = np.cat([test_y[i,-1] for i in range(0,test_y.shape[0])])"
   ]
  },
  {
   "cell_type": "code",
   "execution_count": 114,
   "metadata": {},
   "outputs": [
    {
     "data": {
      "image/png": "[encoded data removed]",
      "text/plain": [
       "<Figure size 576x432 with 1 Axes>"
      ]
     },
     "metadata": {},
     "output_type": "display_data"
    }
   ],
   "source": [
    "plt.figure(figsize=(8,6))\n",
    "for pred_id in range(0,len(test_y)):\n",
    "    ax = np.arange(pred_id + len(test_y[pred_id]))\n",
    "    plt.plot(ax[-len(test_y[0]):], test_y[pred_id], 'b')\n",
    "    plt.plot(ax[-1:], ma_y[pred_id], 'gx')\n",
    "    plt.plot(ax[-1:], test_y[pred_id,-1] + model_y[pred_id], 'rx')"
   ]
  },
  {
   "cell_type": "markdown",
   "metadata": {},
   "source": [
    "## Clean-up\n",
    "We will not need this endpoint anymore, so let's remove it."
   ]
  },
  {
   "cell_type": "code",
   "execution_count": 115,
   "metadata": {},
   "outputs": [],
   "source": [
    "estimator.delete_endpoint()"
   ]
  },
  {
   "cell_type": "markdown",
   "metadata": {},
   "source": [
    "# Summary\n",
    "Model is ready to deploy. Final deployment steps will be performed in the `WebApp.ipynb` notebook."
   ]
  },
  {
   "cell_type": "code",
   "execution_count": null,
   "metadata": {},
   "outputs": [],
   "source": []
  }
 ],
 "metadata": {
  "kernelspec": {
   "display_name": "conda_pytorch_p36",
   "language": "python",
   "name": "conda_pytorch_p36"
  },
  "language_info": {
   "codemirror_mode": {
    "name": "ipython",
    "version": 3
   },
   "file_extension": ".py",
   "mimetype": "text/x-python",
   "name": "python",
   "nbconvert_exporter": "python",
   "pygments_lexer": "ipython3",
   "version": "3.6.5"
  }
 },
 "nbformat": 4,
 "nbformat_minor": 4
}
