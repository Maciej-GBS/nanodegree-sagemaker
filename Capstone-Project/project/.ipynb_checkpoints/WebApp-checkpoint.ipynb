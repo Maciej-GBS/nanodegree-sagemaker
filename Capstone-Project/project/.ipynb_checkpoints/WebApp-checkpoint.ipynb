{
 "cells": [
  {
   "cell_type": "markdown",
   "metadata": {},
   "source": [
    "# Web application\n",
    "Overview:\n",
    "- install yfinance\n",
    "- testing API\n",
    "- deploying web app\n",
    "\n",
    "## YFinance\n",
    "Source of yfinance module: https://pypi.org/project/yfinance/ and https://github.com/ranaroussi/yfinance\n",
    "\n",
    "Short usage instructions for our needs:\n",
    "`sym = yf.Ticker('YAHOOSYMBOL')` and data retrieval `sym.history(period, interval, auto_adjust=True)`\n",
    "\n",
    "- period : valid values 1d,5d,1mo,3mo,6mo,1y,2y,5y,10y,ytd,max\n",
    "- interval : valid values 1m,2m,5m,15m,30m,60m,90m,1h,1d,5d,1wk,1mo"
   ]
  },
  {
   "cell_type": "code",
   "execution_count": 6,
   "metadata": {},
   "outputs": [
    {
     "name": "stdout",
     "output_type": "stream",
     "text": [
      "Collecting yfinance\n",
      "  Downloading https://files.pythonhosted.org/packages/c2/31/8b374a12b90def92a4e27d0fc595fc43635f395984e36a075244d98bd265/yfinance-0.1.54.tar.gz\n",
      "Requirement already satisfied: pandas>=0.24 in /home/ec2-user/anaconda3/envs/pytorch_p36/lib/python3.6/site-packages (from yfinance) (0.24.2)\n",
      "Requirement already satisfied: numpy>=1.15 in /home/ec2-user/anaconda3/envs/pytorch_p36/lib/python3.6/site-packages (from yfinance) (1.15.4)\n",
      "Requirement already satisfied: requests>=2.20 in /home/ec2-user/anaconda3/envs/pytorch_p36/lib/python3.6/site-packages (from yfinance) (2.20.0)\n",
      "Collecting multitasking>=0.0.7 (from yfinance)\n",
      "  Downloading https://files.pythonhosted.org/packages/69/e7/e9f1661c28f7b87abfa08cb0e8f51dad2240a9f4f741f02ea839835e6d18/multitasking-0.0.9.tar.gz\n",
      "Requirement already satisfied: pytz>=2011k in /home/ec2-user/anaconda3/envs/pytorch_p36/lib/python3.6/site-packages (from pandas>=0.24->yfinance) (2018.4)\n",
      "Requirement already satisfied: python-dateutil>=2.5.0 in /home/ec2-user/anaconda3/envs/pytorch_p36/lib/python3.6/site-packages (from pandas>=0.24->yfinance) (2.7.3)\n",
      "Requirement already satisfied: urllib3<1.25,>=1.21.1 in /home/ec2-user/anaconda3/envs/pytorch_p36/lib/python3.6/site-packages (from requests>=2.20->yfinance) (1.23)\n",
      "Requirement already satisfied: chardet<3.1.0,>=3.0.2 in /home/ec2-user/anaconda3/envs/pytorch_p36/lib/python3.6/site-packages (from requests>=2.20->yfinance) (3.0.4)\n",
      "Requirement already satisfied: certifi>=2017.4.17 in /home/ec2-user/anaconda3/envs/pytorch_p36/lib/python3.6/site-packages (from requests>=2.20->yfinance) (2019.9.11)\n",
      "Requirement already satisfied: idna<2.8,>=2.5 in /home/ec2-user/anaconda3/envs/pytorch_p36/lib/python3.6/site-packages (from requests>=2.20->yfinance) (2.6)\n",
      "Requirement already satisfied: six>=1.5 in /home/ec2-user/anaconda3/envs/pytorch_p36/lib/python3.6/site-packages (from python-dateutil>=2.5.0->pandas>=0.24->yfinance) (1.11.0)\n",
      "Building wheels for collected packages: yfinance, multitasking\n",
      "  Running setup.py bdist_wheel for yfinance ... \u001b[?25ldone\n",
      "\u001b[?25h  Stored in directory: /home/ec2-user/.cache/pip/wheels/f9/e3/5b/ec24dd2984b12d61e0abf26289746c2436a0e7844f26f2515c\n",
      "  Running setup.py bdist_wheel for multitasking ... \u001b[?25ldone\n",
      "\u001b[?25h  Stored in directory: /home/ec2-user/.cache/pip/wheels/37/fa/73/d492849e319038eb4d986f5152e4b19ffb1bc0639da84d2677\n",
      "Successfully built yfinance multitasking\n",
      "\u001b[31mfastai 1.0.59 requires nvidia-ml-py3, which is not installed.\u001b[0m\n",
      "Installing collected packages: multitasking, yfinance\n",
      "Successfully installed multitasking-0.0.9 yfinance-0.1.54\n",
      "\u001b[33mYou are using pip version 10.0.1, however version 20.0.2 is available.\n",
      "You should consider upgrading via the 'pip install --upgrade pip' command.\u001b[0m\n"
     ]
    }
   ],
   "source": [
    "!pip install yfinance"
   ]
  },
  {
   "cell_type": "markdown",
   "metadata": {},
   "source": [
    "# Example\n",
    "A short example of collecting data from the 2 sources we are interested in."
   ]
  },
  {
   "cell_type": "code",
   "execution_count": 1,
   "metadata": {},
   "outputs": [],
   "source": [
    "import yfinance as yf"
   ]
  },
  {
   "cell_type": "code",
   "execution_count": 8,
   "metadata": {},
   "outputs": [],
   "source": [
    "sym_ixic = yf.Ticker('^IXIC')"
   ]
  },
  {
   "cell_type": "code",
   "execution_count": 9,
   "metadata": {},
   "outputs": [
    {
     "data": {
      "text/html": [
       "<div>\n",
       "<style scoped>\n",
       "    .dataframe tbody tr th:only-of-type {\n",
       "        vertical-align: middle;\n",
       "    }\n",
       "\n",
       "    .dataframe tbody tr th {\n",
       "        vertical-align: top;\n",
       "    }\n",
       "\n",
       "    .dataframe thead th {\n",
       "        text-align: right;\n",
       "    }\n",
       "</style>\n",
       "<table border=\"1\" class=\"dataframe\">\n",
       "  <thead>\n",
       "    <tr style=\"text-align: right;\">\n",
       "      <th></th>\n",
       "      <th>Open</th>\n",
       "      <th>High</th>\n",
       "      <th>Low</th>\n",
       "      <th>Close</th>\n",
       "      <th>Volume</th>\n",
       "      <th>Dividends</th>\n",
       "      <th>Stock Splits</th>\n",
       "    </tr>\n",
       "    <tr>\n",
       "      <th>Date</th>\n",
       "      <th></th>\n",
       "      <th></th>\n",
       "      <th></th>\n",
       "      <th></th>\n",
       "      <th></th>\n",
       "      <th></th>\n",
       "      <th></th>\n",
       "    </tr>\n",
       "  </thead>\n",
       "  <tbody>\n",
       "    <tr>\n",
       "      <th>2020-01-24</th>\n",
       "      <td>9446.21</td>\n",
       "      <td>9451.43</td>\n",
       "      <td>9273.23</td>\n",
       "      <td>9314.91</td>\n",
       "      <td>2611710000</td>\n",
       "      <td>0</td>\n",
       "      <td>0</td>\n",
       "    </tr>\n",
       "    <tr>\n",
       "      <th>2020-01-27</th>\n",
       "      <td>9092.46</td>\n",
       "      <td>9185.45</td>\n",
       "      <td>9088.04</td>\n",
       "      <td>9139.31</td>\n",
       "      <td>2583330000</td>\n",
       "      <td>0</td>\n",
       "      <td>0</td>\n",
       "    </tr>\n",
       "    <tr>\n",
       "      <th>2020-01-28</th>\n",
       "      <td>9201.82</td>\n",
       "      <td>9288.87</td>\n",
       "      <td>9182.33</td>\n",
       "      <td>9269.68</td>\n",
       "      <td>2157830000</td>\n",
       "      <td>0</td>\n",
       "      <td>0</td>\n",
       "    </tr>\n",
       "    <tr>\n",
       "      <th>2020-01-29</th>\n",
       "      <td>9318.26</td>\n",
       "      <td>9329.12</td>\n",
       "      <td>9249.04</td>\n",
       "      <td>9275.16</td>\n",
       "      <td>2223480000</td>\n",
       "      <td>0</td>\n",
       "      <td>0</td>\n",
       "    </tr>\n",
       "    <tr>\n",
       "      <th>2020-01-30</th>\n",
       "      <td>9211.15</td>\n",
       "      <td>9303.00</td>\n",
       "      <td>9185.18</td>\n",
       "      <td>9298.93</td>\n",
       "      <td>2333500000</td>\n",
       "      <td>0</td>\n",
       "      <td>0</td>\n",
       "    </tr>\n",
       "  </tbody>\n",
       "</table>\n",
       "</div>"
      ],
      "text/plain": [
       "               Open     High      Low    Close      Volume  Dividends  \\\n",
       "Date                                                                    \n",
       "2020-01-24  9446.21  9451.43  9273.23  9314.91  2611710000          0   \n",
       "2020-01-27  9092.46  9185.45  9088.04  9139.31  2583330000          0   \n",
       "2020-01-28  9201.82  9288.87  9182.33  9269.68  2157830000          0   \n",
       "2020-01-29  9318.26  9329.12  9249.04  9275.16  2223480000          0   \n",
       "2020-01-30  9211.15  9303.00  9185.18  9298.93  2333500000          0   \n",
       "\n",
       "            Stock Splits  \n",
       "Date                      \n",
       "2020-01-24             0  \n",
       "2020-01-27             0  \n",
       "2020-01-28             0  \n",
       "2020-01-29             0  \n",
       "2020-01-30             0  "
      ]
     },
     "execution_count": 9,
     "metadata": {},
     "output_type": "execute_result"
    }
   ],
   "source": [
    "sym_ixic.history(period='5d', interval='1d')"
   ]
  },
  {
   "cell_type": "code",
   "execution_count": 10,
   "metadata": {},
   "outputs": [],
   "source": [
    "sym_eurusd = yf.Ticker('EURUSD=X')"
   ]
  },
  {
   "cell_type": "code",
   "execution_count": 17,
   "metadata": {},
   "outputs": [
    {
     "data": {
      "text/html": [
       "<div>\n",
       "<style scoped>\n",
       "    .dataframe tbody tr th:only-of-type {\n",
       "        vertical-align: middle;\n",
       "    }\n",
       "\n",
       "    .dataframe tbody tr th {\n",
       "        vertical-align: top;\n",
       "    }\n",
       "\n",
       "    .dataframe thead th {\n",
       "        text-align: right;\n",
       "    }\n",
       "</style>\n",
       "<table border=\"1\" class=\"dataframe\">\n",
       "  <thead>\n",
       "    <tr style=\"text-align: right;\">\n",
       "      <th></th>\n",
       "      <th>Open</th>\n",
       "      <th>High</th>\n",
       "      <th>Low</th>\n",
       "      <th>Close</th>\n",
       "      <th>Volume</th>\n",
       "      <th>Dividends</th>\n",
       "      <th>Stock Splits</th>\n",
       "    </tr>\n",
       "    <tr>\n",
       "      <th>Date</th>\n",
       "      <th></th>\n",
       "      <th></th>\n",
       "      <th></th>\n",
       "      <th></th>\n",
       "      <th></th>\n",
       "      <th></th>\n",
       "      <th></th>\n",
       "    </tr>\n",
       "  </thead>\n",
       "  <tbody>\n",
       "    <tr>\n",
       "      <th>2020-01-27</th>\n",
       "      <td>1.1026</td>\n",
       "      <td>1.1040</td>\n",
       "      <td>1.1010</td>\n",
       "      <td>1.1025</td>\n",
       "      <td>0</td>\n",
       "      <td>0</td>\n",
       "      <td>0</td>\n",
       "    </tr>\n",
       "    <tr>\n",
       "      <th>2020-01-28</th>\n",
       "      <td>1.1020</td>\n",
       "      <td>1.1027</td>\n",
       "      <td>1.0999</td>\n",
       "      <td>1.1020</td>\n",
       "      <td>0</td>\n",
       "      <td>0</td>\n",
       "      <td>0</td>\n",
       "    </tr>\n",
       "    <tr>\n",
       "      <th>2020-01-29</th>\n",
       "      <td>1.1023</td>\n",
       "      <td>1.1030</td>\n",
       "      <td>1.0993</td>\n",
       "      <td>1.1023</td>\n",
       "      <td>0</td>\n",
       "      <td>0</td>\n",
       "      <td>0</td>\n",
       "    </tr>\n",
       "    <tr>\n",
       "      <th>2020-01-30</th>\n",
       "      <td>1.1014</td>\n",
       "      <td>1.1037</td>\n",
       "      <td>1.1008</td>\n",
       "      <td>1.1017</td>\n",
       "      <td>0</td>\n",
       "      <td>0</td>\n",
       "      <td>0</td>\n",
       "    </tr>\n",
       "    <tr>\n",
       "      <th>2020-01-31</th>\n",
       "      <td>1.1038</td>\n",
       "      <td>1.1058</td>\n",
       "      <td>1.1020</td>\n",
       "      <td>1.1055</td>\n",
       "      <td>0</td>\n",
       "      <td>0</td>\n",
       "      <td>0</td>\n",
       "    </tr>\n",
       "  </tbody>\n",
       "</table>\n",
       "</div>"
      ],
      "text/plain": [
       "              Open    High     Low   Close  Volume  Dividends  Stock Splits\n",
       "Date                                                                       \n",
       "2020-01-27  1.1026  1.1040  1.1010  1.1025       0          0             0\n",
       "2020-01-28  1.1020  1.1027  1.0999  1.1020       0          0             0\n",
       "2020-01-29  1.1023  1.1030  1.0993  1.1023       0          0             0\n",
       "2020-01-30  1.1014  1.1037  1.1008  1.1017       0          0             0\n",
       "2020-01-31  1.1038  1.1058  1.1020  1.1055       0          0             0"
      ]
     },
     "execution_count": 17,
     "metadata": {},
     "output_type": "execute_result"
    }
   ],
   "source": [
    "data = sym_eurusd.history(period='5d', interval='1d')\n",
    "data"
   ]
  },
  {
   "cell_type": "markdown",
   "metadata": {},
   "source": [
    "# Deployment For Web App\n",
    "Here are the final steps for deploying the app.\n",
    "\n",
    "Paste `model_data` from previous notebook, so correct model is loaded."
   ]
  },
  {
   "cell_type": "code",
   "execution_count": null,
   "metadata": {},
   "outputs": [],
   "source": [
    "# Below we specify which estimator we want to use - this should match estimator.model_data from previous notebook\n",
    "model_data = 's3://sagemaker-us-east-1-236375122127/pytorch-training-2020-01-31-13-42-51-752/output/model.tar.gz'"
   ]
  },
  {
   "cell_type": "code",
   "execution_count": 4,
   "metadata": {},
   "outputs": [],
   "source": [
    "import sagemaker\n",
    "\n",
    "sagemaker_session = sagemaker.Session()\n",
    "\n",
    "bucket = sagemaker_session.default_bucket()\n",
    "prefix = 'sagemaker/stock_forecasting'\n",
    "\n",
    "role = sagemaker.get_execution_role()"
   ]
  },
  {
   "cell_type": "code",
   "execution_count": 5,
   "metadata": {},
   "outputs": [],
   "source": [
    "from sagemaker.predictor import RealTimePredictor\n",
    "from sagemaker.pytorch import PyTorchModel\n",
    "\n",
    "class JsonPredictor(RealTimePredictor):\n",
    "    def __init__(self, endpoint_name, sagemaker_session):\n",
    "        super().__init__(endpoint_name, sagemaker_session, content_type='application/json')\n",
    "\n",
    "model = PyTorchModel(model_data=model_data,\n",
    "                     role = role,\n",
    "                     framework_version='1.2.0',\n",
    "                     entry_point='predict.py',\n",
    "                     source_dir='model',\n",
    "                     predictor_cls=JsonPredictor)"
   ]
  },
  {
   "cell_type": "code",
   "execution_count": 6,
   "metadata": {},
   "outputs": [
    {
     "name": "stdout",
     "output_type": "stream",
     "text": [
      "---------------------!"
     ]
    }
   ],
   "source": [
    "predictor = model.deploy(initial_instance_count=1, instance_type='ml.m4.xlarge')"
   ]
  },
  {
   "cell_type": "markdown",
   "metadata": {},
   "source": [
    "## Lambda\n",
    "We need to create a new lambda, to which we can connect our html page. Lambda will use runtime Python3.6 and requires User Role with Full SageMaker access.\n",
    "\n",
    "Paste the endpoint into the lambda function, which you can find inside `webapp/lambda.py` file with correct endpoint name and save.\n",
    "\n",
    "It is necessary to add a trigger. Select API Gateway HTTP and accept.\n",
    "The endpoint should be listed on the bottom of the page. After expanding there is API endpoint url, which we will need in the `index.html` file."
   ]
  },
  {
   "cell_type": "code",
   "execution_count": 8,
   "metadata": {},
   "outputs": [
    {
     "data": {
      "text/plain": [
       "'pytorch-inference-2020-01-31-18-14-54-141'"
      ]
     },
     "execution_count": 8,
     "metadata": {},
     "output_type": "execute_result"
    }
   ],
   "source": [
    "predictor.endpoint"
   ]
  },
  {
   "cell_type": "code",
   "execution_count": 7,
   "metadata": {},
   "outputs": [
    {
     "name": "stdout",
     "output_type": "stream",
     "text": [
      "\u001b[34mimport\u001b[39;49;00m \u001b[04m\u001b[36mjson\u001b[39;49;00m\n",
      "\u001b[34mimport\u001b[39;49;00m \u001b[04m\u001b[36mboto3\u001b[39;49;00m\n",
      "\n",
      "\u001b[34mdef\u001b[39;49;00m \u001b[32mlambda_handler\u001b[39;49;00m(event, context):\n",
      "    runtime = boto3.Session().client(\u001b[33m'\u001b[39;49;00m\u001b[33msagemaker-runtime\u001b[39;49;00m\u001b[33m'\u001b[39;49;00m)\n",
      "\n",
      "    response = runtime.invoke_endpoint(EndpointName = \u001b[33m'\u001b[39;49;00m\u001b[33m**ENDPOINT NAME**\u001b[39;49;00m\u001b[33m'\u001b[39;49;00m,\n",
      "                                       ContentType = \u001b[33m'\u001b[39;49;00m\u001b[33mtext/plain\u001b[39;49;00m\u001b[33m'\u001b[39;49;00m,\n",
      "                                       Body = event[\u001b[33m'\u001b[39;49;00m\u001b[33mbody\u001b[39;49;00m\u001b[33m'\u001b[39;49;00m])\n",
      "\n",
      "    result = json.loads(response[\u001b[33m'\u001b[39;49;00m\u001b[33mBody\u001b[39;49;00m\u001b[33m'\u001b[39;49;00m].read())\n",
      "\n",
      "    \u001b[34mreturn\u001b[39;49;00m {\n",
      "        \u001b[33m'\u001b[39;49;00m\u001b[33mstatusCode\u001b[39;49;00m\u001b[33m'\u001b[39;49;00m : \u001b[34m200\u001b[39;49;00m,\n",
      "        \u001b[33m'\u001b[39;49;00m\u001b[33mheaders\u001b[39;49;00m\u001b[33m'\u001b[39;49;00m : { \u001b[33m'\u001b[39;49;00m\u001b[33mContent-Type\u001b[39;49;00m\u001b[33m'\u001b[39;49;00m : \u001b[33m'\u001b[39;49;00m\u001b[33mapplication/json\u001b[39;49;00m\u001b[33m'\u001b[39;49;00m, \u001b[33m'\u001b[39;49;00m\u001b[33mAccess-Control-Allow-Origin\u001b[39;49;00m\u001b[33m'\u001b[39;49;00m : \u001b[33m'\u001b[39;49;00m\u001b[33m*\u001b[39;49;00m\u001b[33m'\u001b[39;49;00m },\n",
      "        \u001b[33m'\u001b[39;49;00m\u001b[33mbody\u001b[39;49;00m\u001b[33m'\u001b[39;49;00m : result\n",
      "    }\n"
     ]
    }
   ],
   "source": [
    "!pygmentize webapp/lambda.py"
   ]
  }
 ],
 "metadata": {
  "kernelspec": {
   "display_name": "conda_pytorch_p36",
   "language": "python",
   "name": "conda_pytorch_p36"
  },
  "language_info": {
   "codemirror_mode": {
    "name": "ipython",
    "version": 3
   },
   "file_extension": ".py",
   "mimetype": "text/x-python",
   "name": "python",
   "nbconvert_exporter": "python",
   "pygments_lexer": "ipython3",
   "version": "3.6.5"
  }
 },
 "nbformat": 4,
 "nbformat_minor": 4
}
