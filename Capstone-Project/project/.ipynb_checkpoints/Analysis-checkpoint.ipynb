{
 "cells": [
  {
   "cell_type": "markdown",
   "metadata": {},
   "source": [
    "# Data Analysis\n",
    "Notebook overview:\n",
    "- data loading\n",
    "- exploration\n",
    "- adding indicators\n",
    "\n",
    "First we start off with exploring and analysing our data.\n",
    "\n",
    "Using: pandas, numpy, seaborn."
   ]
  },
  {
   "cell_type": "code",
   "execution_count": 49,
   "metadata": {},
   "outputs": [],
   "source": [
    "import pandas as pd\n",
    "import numpy as np\n",
    "import seaborn as sns\n",
    "from utils import *"
   ]
  },
  {
   "cell_type": "markdown",
   "metadata": {},
   "source": [
    "# NASDAQ"
   ]
  },
  {
   "cell_type": "code",
   "execution_count": 40,
   "metadata": {},
   "outputs": [],
   "source": [
    "data_dir = '../data/'\n",
    "nasdaq = pd.read_csv(data_dir + 'NASDAQ/Composite-2015-2019-D1.csv')"
   ]
  },
  {
   "cell_type": "code",
   "execution_count": 41,
   "metadata": {},
   "outputs": [
    {
     "data": {
      "text/html": [
       "<div>\n",
       "<style scoped>\n",
       "    .dataframe tbody tr th:only-of-type {\n",
       "        vertical-align: middle;\n",
       "    }\n",
       "\n",
       "    .dataframe tbody tr th {\n",
       "        vertical-align: top;\n",
       "    }\n",
       "\n",
       "    .dataframe thead th {\n",
       "        text-align: right;\n",
       "    }\n",
       "</style>\n",
       "<table border=\"1\" class=\"dataframe\">\n",
       "  <thead>\n",
       "    <tr style=\"text-align: right;\">\n",
       "      <th></th>\n",
       "      <th>Date</th>\n",
       "      <th>Open</th>\n",
       "      <th>High</th>\n",
       "      <th>Low</th>\n",
       "      <th>Close</th>\n",
       "      <th>Adj Close</th>\n",
       "      <th>Volume</th>\n",
       "    </tr>\n",
       "  </thead>\n",
       "  <tbody>\n",
       "    <tr>\n",
       "      <th>0</th>\n",
       "      <td>2015-01-02</td>\n",
       "      <td>4760.240234</td>\n",
       "      <td>4777.009766</td>\n",
       "      <td>4698.109863</td>\n",
       "      <td>4726.810059</td>\n",
       "      <td>4726.810059</td>\n",
       "      <td>1435150000</td>\n",
       "    </tr>\n",
       "    <tr>\n",
       "      <th>1</th>\n",
       "      <td>2015-01-05</td>\n",
       "      <td>4700.339844</td>\n",
       "      <td>4702.770020</td>\n",
       "      <td>4641.459961</td>\n",
       "      <td>4652.569824</td>\n",
       "      <td>4652.569824</td>\n",
       "      <td>1794470000</td>\n",
       "    </tr>\n",
       "    <tr>\n",
       "      <th>2</th>\n",
       "      <td>2015-01-06</td>\n",
       "      <td>4666.850098</td>\n",
       "      <td>4667.330078</td>\n",
       "      <td>4567.589844</td>\n",
       "      <td>4592.740234</td>\n",
       "      <td>4592.740234</td>\n",
       "      <td>2167320000</td>\n",
       "    </tr>\n",
       "    <tr>\n",
       "      <th>3</th>\n",
       "      <td>2015-01-07</td>\n",
       "      <td>4626.839844</td>\n",
       "      <td>4652.720215</td>\n",
       "      <td>4613.899902</td>\n",
       "      <td>4650.470215</td>\n",
       "      <td>4650.470215</td>\n",
       "      <td>1957950000</td>\n",
       "    </tr>\n",
       "    <tr>\n",
       "      <th>4</th>\n",
       "      <td>2015-01-08</td>\n",
       "      <td>4689.540039</td>\n",
       "      <td>4741.379883</td>\n",
       "      <td>4688.020020</td>\n",
       "      <td>4736.189941</td>\n",
       "      <td>4736.189941</td>\n",
       "      <td>2105450000</td>\n",
       "    </tr>\n",
       "  </tbody>\n",
       "</table>\n",
       "</div>"
      ],
      "text/plain": [
       "         Date         Open         High          Low        Close  \\\n",
       "0  2015-01-02  4760.240234  4777.009766  4698.109863  4726.810059   \n",
       "1  2015-01-05  4700.339844  4702.770020  4641.459961  4652.569824   \n",
       "2  2015-01-06  4666.850098  4667.330078  4567.589844  4592.740234   \n",
       "3  2015-01-07  4626.839844  4652.720215  4613.899902  4650.470215   \n",
       "4  2015-01-08  4689.540039  4741.379883  4688.020020  4736.189941   \n",
       "\n",
       "     Adj Close      Volume  \n",
       "0  4726.810059  1435150000  \n",
       "1  4652.569824  1794470000  \n",
       "2  4592.740234  2167320000  \n",
       "3  4650.470215  1957950000  \n",
       "4  4736.189941  2105450000  "
      ]
     },
     "execution_count": 41,
     "metadata": {},
     "output_type": "execute_result"
    }
   ],
   "source": [
    "nasdaq.head()"
   ]
  },
  {
   "cell_type": "markdown",
   "metadata": {},
   "source": [
    "## Adj Close\n",
    "According to Yahoo! Finance specification:\n",
    "- *Close* -- Close price adjusted for splits.\n",
    "- *Adj Close* -- Adjusted close price adjusted for both dividends and splits.\n",
    "\n",
    "We can see that these two columns have exact same values. Let's check whether it is true for the whole dataset."
   ]
  },
  {
   "cell_type": "code",
   "execution_count": 42,
   "metadata": {},
   "outputs": [
    {
     "data": {
      "text/plain": [
       "1259"
      ]
     },
     "execution_count": 42,
     "metadata": {},
     "output_type": "execute_result"
    }
   ],
   "source": [
    "len(nasdaq)"
   ]
  },
  {
   "cell_type": "code",
   "execution_count": 43,
   "metadata": {},
   "outputs": [],
   "source": [
    "close = np.array(nasdaq['Adj Close'])\n",
    "adj_close = np.array(nasdaq['Close'])"
   ]
  },
  {
   "cell_type": "code",
   "execution_count": 44,
   "metadata": {},
   "outputs": [
    {
     "data": {
      "text/plain": [
       "1259"
      ]
     },
     "execution_count": 44,
     "metadata": {},
     "output_type": "execute_result"
    }
   ],
   "source": [
    "(close == adj_close).sum()"
   ]
  },
  {
   "cell_type": "code",
   "execution_count": 45,
   "metadata": {},
   "outputs": [],
   "source": [
    "nasdaq.drop(['Adj Close'], axis=1, inplace=True)"
   ]
  },
  {
   "cell_type": "code",
   "execution_count": 46,
   "metadata": {},
   "outputs": [
    {
     "data": {
      "text/html": [
       "<div>\n",
       "<style scoped>\n",
       "    .dataframe tbody tr th:only-of-type {\n",
       "        vertical-align: middle;\n",
       "    }\n",
       "\n",
       "    .dataframe tbody tr th {\n",
       "        vertical-align: top;\n",
       "    }\n",
       "\n",
       "    .dataframe thead th {\n",
       "        text-align: right;\n",
       "    }\n",
       "</style>\n",
       "<table border=\"1\" class=\"dataframe\">\n",
       "  <thead>\n",
       "    <tr style=\"text-align: right;\">\n",
       "      <th></th>\n",
       "      <th>Date</th>\n",
       "      <th>Open</th>\n",
       "      <th>High</th>\n",
       "      <th>Low</th>\n",
       "      <th>Close</th>\n",
       "      <th>Volume</th>\n",
       "    </tr>\n",
       "  </thead>\n",
       "  <tbody>\n",
       "    <tr>\n",
       "      <th>0</th>\n",
       "      <td>2015-01-02</td>\n",
       "      <td>4760.240234</td>\n",
       "      <td>4777.009766</td>\n",
       "      <td>4698.109863</td>\n",
       "      <td>4726.810059</td>\n",
       "      <td>1435150000</td>\n",
       "    </tr>\n",
       "    <tr>\n",
       "      <th>1</th>\n",
       "      <td>2015-01-05</td>\n",
       "      <td>4700.339844</td>\n",
       "      <td>4702.770020</td>\n",
       "      <td>4641.459961</td>\n",
       "      <td>4652.569824</td>\n",
       "      <td>1794470000</td>\n",
       "    </tr>\n",
       "    <tr>\n",
       "      <th>2</th>\n",
       "      <td>2015-01-06</td>\n",
       "      <td>4666.850098</td>\n",
       "      <td>4667.330078</td>\n",
       "      <td>4567.589844</td>\n",
       "      <td>4592.740234</td>\n",
       "      <td>2167320000</td>\n",
       "    </tr>\n",
       "    <tr>\n",
       "      <th>3</th>\n",
       "      <td>2015-01-07</td>\n",
       "      <td>4626.839844</td>\n",
       "      <td>4652.720215</td>\n",
       "      <td>4613.899902</td>\n",
       "      <td>4650.470215</td>\n",
       "      <td>1957950000</td>\n",
       "    </tr>\n",
       "    <tr>\n",
       "      <th>4</th>\n",
       "      <td>2015-01-08</td>\n",
       "      <td>4689.540039</td>\n",
       "      <td>4741.379883</td>\n",
       "      <td>4688.020020</td>\n",
       "      <td>4736.189941</td>\n",
       "      <td>2105450000</td>\n",
       "    </tr>\n",
       "  </tbody>\n",
       "</table>\n",
       "</div>"
      ],
      "text/plain": [
       "         Date         Open         High          Low        Close      Volume\n",
       "0  2015-01-02  4760.240234  4777.009766  4698.109863  4726.810059  1435150000\n",
       "1  2015-01-05  4700.339844  4702.770020  4641.459961  4652.569824  1794470000\n",
       "2  2015-01-06  4666.850098  4667.330078  4567.589844  4592.740234  2167320000\n",
       "3  2015-01-07  4626.839844  4652.720215  4613.899902  4650.470215  1957950000\n",
       "4  2015-01-08  4689.540039  4741.379883  4688.020020  4736.189941  2105450000"
      ]
     },
     "execution_count": 46,
     "metadata": {},
     "output_type": "execute_result"
    }
   ],
   "source": [
    "nasdaq.head()"
   ]
  },
  {
   "cell_type": "markdown",
   "metadata": {},
   "source": [
    "# EURUSD"
   ]
  },
  {
   "cell_type": "code",
   "execution_count": 50,
   "metadata": {},
   "outputs": [],
   "source": [
    "eurusd = load_file_split(data_dir + 'EURUSD/')"
   ]
  },
  {
   "cell_type": "code",
   "execution_count": 51,
   "metadata": {},
   "outputs": [
    {
     "data": {
      "text/html": [
       "<div>\n",
       "<style scoped>\n",
       "    .dataframe tbody tr th:only-of-type {\n",
       "        vertical-align: middle;\n",
       "    }\n",
       "\n",
       "    .dataframe tbody tr th {\n",
       "        vertical-align: top;\n",
       "    }\n",
       "\n",
       "    .dataframe thead th {\n",
       "        text-align: right;\n",
       "    }\n",
       "</style>\n",
       "<table border=\"1\" class=\"dataframe\">\n",
       "  <thead>\n",
       "    <tr style=\"text-align: right;\">\n",
       "      <th></th>\n",
       "      <th>Date</th>\n",
       "      <th>Time</th>\n",
       "      <th>Open</th>\n",
       "      <th>High</th>\n",
       "      <th>Low</th>\n",
       "      <th>Close</th>\n",
       "      <th>Ticks</th>\n",
       "    </tr>\n",
       "  </thead>\n",
       "  <tbody>\n",
       "    <tr>\n",
       "      <th>0</th>\n",
       "      <td>2018.01.01</td>\n",
       "      <td>17:00</td>\n",
       "      <td>1.20037</td>\n",
       "      <td>1.201</td>\n",
       "      <td>1.20037</td>\n",
       "      <td>1.201</td>\n",
       "      <td>0</td>\n",
       "    </tr>\n",
       "  </tbody>\n",
       "</table>\n",
       "</div>"
      ],
      "text/plain": [
       "         Date   Time     Open   High      Low  Close  Ticks\n",
       "0  2018.01.01  17:00  1.20037  1.201  1.20037  1.201      0"
      ]
     },
     "execution_count": 51,
     "metadata": {},
     "output_type": "execute_result"
    }
   ],
   "source": [
    "eurusd"
   ]
  },
  {
   "cell_type": "code",
   "execution_count": null,
   "metadata": {},
   "outputs": [],
   "source": []
  }
 ],
 "metadata": {
  "kernelspec": {
   "display_name": "conda_pytorch_p36",
   "language": "python",
   "name": "conda_pytorch_p36"
  },
  "language_info": {
   "codemirror_mode": {
    "name": "ipython",
    "version": 3
   },
   "file_extension": ".py",
   "mimetype": "text/x-python",
   "name": "python",
   "nbconvert_exporter": "python",
   "pygments_lexer": "ipython3",
   "version": "3.6.5"
  }
 },
 "nbformat": 4,
 "nbformat_minor": 4
}
