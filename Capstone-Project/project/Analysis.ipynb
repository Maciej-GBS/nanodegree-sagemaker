{
 "cells": [
  {
   "cell_type": "markdown",
   "metadata": {},
   "source": [
    "# Data Analysis\n",
    "Notebook overview:\n",
    "- data loading\n",
    "- visualization\n",
    "- adding indicators\n",
    "\n",
    "First we start off with exploring and analysing our data.\n",
    "\n",
    "Using: pandas, numpy, seaborn."
   ]
  },
  {
   "cell_type": "code",
   "execution_count": 1,
   "metadata": {},
   "outputs": [],
   "source": [
    "import pandas as pd\n",
    "import numpy as np\n",
    "import seaborn as sns\n",
    "from utils import *"
   ]
  },
  {
   "cell_type": "markdown",
   "metadata": {},
   "source": [
    "# NASDAQ"
   ]
  },
  {
   "cell_type": "code",
   "execution_count": 2,
   "metadata": {},
   "outputs": [],
   "source": [
    "data_dir = '../data/'\n",
    "nasdaq = pd.read_csv(data_dir + 'NASDAQ/Composite-2015-2019-D1.csv')"
   ]
  },
  {
   "cell_type": "code",
   "execution_count": 3,
   "metadata": {},
   "outputs": [
    {
     "data": {
      "text/html": [
       "<div>\n",
       "<style scoped>\n",
       "    .dataframe tbody tr th:only-of-type {\n",
       "        vertical-align: middle;\n",
       "    }\n",
       "\n",
       "    .dataframe tbody tr th {\n",
       "        vertical-align: top;\n",
       "    }\n",
       "\n",
       "    .dataframe thead th {\n",
       "        text-align: right;\n",
       "    }\n",
       "</style>\n",
       "<table border=\"1\" class=\"dataframe\">\n",
       "  <thead>\n",
       "    <tr style=\"text-align: right;\">\n",
       "      <th></th>\n",
       "      <th>Date</th>\n",
       "      <th>Open</th>\n",
       "      <th>High</th>\n",
       "      <th>Low</th>\n",
       "      <th>Close</th>\n",
       "      <th>Adj Close</th>\n",
       "      <th>Volume</th>\n",
       "    </tr>\n",
       "  </thead>\n",
       "  <tbody>\n",
       "    <tr>\n",
       "      <th>0</th>\n",
       "      <td>2015-01-02</td>\n",
       "      <td>4760.240234</td>\n",
       "      <td>4777.009766</td>\n",
       "      <td>4698.109863</td>\n",
       "      <td>4726.810059</td>\n",
       "      <td>4726.810059</td>\n",
       "      <td>1435150000</td>\n",
       "    </tr>\n",
       "    <tr>\n",
       "      <th>1</th>\n",
       "      <td>2015-01-05</td>\n",
       "      <td>4700.339844</td>\n",
       "      <td>4702.770020</td>\n",
       "      <td>4641.459961</td>\n",
       "      <td>4652.569824</td>\n",
       "      <td>4652.569824</td>\n",
       "      <td>1794470000</td>\n",
       "    </tr>\n",
       "    <tr>\n",
       "      <th>2</th>\n",
       "      <td>2015-01-06</td>\n",
       "      <td>4666.850098</td>\n",
       "      <td>4667.330078</td>\n",
       "      <td>4567.589844</td>\n",
       "      <td>4592.740234</td>\n",
       "      <td>4592.740234</td>\n",
       "      <td>2167320000</td>\n",
       "    </tr>\n",
       "    <tr>\n",
       "      <th>3</th>\n",
       "      <td>2015-01-07</td>\n",
       "      <td>4626.839844</td>\n",
       "      <td>4652.720215</td>\n",
       "      <td>4613.899902</td>\n",
       "      <td>4650.470215</td>\n",
       "      <td>4650.470215</td>\n",
       "      <td>1957950000</td>\n",
       "    </tr>\n",
       "    <tr>\n",
       "      <th>4</th>\n",
       "      <td>2015-01-08</td>\n",
       "      <td>4689.540039</td>\n",
       "      <td>4741.379883</td>\n",
       "      <td>4688.020020</td>\n",
       "      <td>4736.189941</td>\n",
       "      <td>4736.189941</td>\n",
       "      <td>2105450000</td>\n",
       "    </tr>\n",
       "  </tbody>\n",
       "</table>\n",
       "</div>"
      ],
      "text/plain": [
       "         Date         Open         High          Low        Close  \\\n",
       "0  2015-01-02  4760.240234  4777.009766  4698.109863  4726.810059   \n",
       "1  2015-01-05  4700.339844  4702.770020  4641.459961  4652.569824   \n",
       "2  2015-01-06  4666.850098  4667.330078  4567.589844  4592.740234   \n",
       "3  2015-01-07  4626.839844  4652.720215  4613.899902  4650.470215   \n",
       "4  2015-01-08  4689.540039  4741.379883  4688.020020  4736.189941   \n",
       "\n",
       "     Adj Close      Volume  \n",
       "0  4726.810059  1435150000  \n",
       "1  4652.569824  1794470000  \n",
       "2  4592.740234  2167320000  \n",
       "3  4650.470215  1957950000  \n",
       "4  4736.189941  2105450000  "
      ]
     },
     "execution_count": 3,
     "metadata": {},
     "output_type": "execute_result"
    }
   ],
   "source": [
    "nasdaq.head()"
   ]
  },
  {
   "cell_type": "markdown",
   "metadata": {},
   "source": [
    "## Adj Close\n",
    "According to Yahoo! Finance specification:\n",
    "- *Close* -- Close price adjusted for splits.\n",
    "- *Adj Close* -- Adjusted close price adjusted for both dividends and splits.\n",
    "\n",
    "We can see that these two columns have exact same values. Let's check whether it is true for the whole dataset."
   ]
  },
  {
   "cell_type": "code",
   "execution_count": 4,
   "metadata": {},
   "outputs": [],
   "source": [
    "close = np.array(nasdaq['Adj Close'])\n",
    "adj_close = np.array(nasdaq['Close'])"
   ]
  },
  {
   "cell_type": "markdown",
   "metadata": {},
   "source": [
    "Not matching values:"
   ]
  },
  {
   "cell_type": "code",
   "execution_count": 5,
   "metadata": {},
   "outputs": [
    {
     "data": {
      "text/plain": [
       "0"
      ]
     },
     "execution_count": 5,
     "metadata": {},
     "output_type": "execute_result"
    }
   ],
   "source": [
    "len(nasdaq) - (close == adj_close).sum()"
   ]
  },
  {
   "cell_type": "markdown",
   "metadata": {},
   "source": [
    "Drop unnecessary column"
   ]
  },
  {
   "cell_type": "code",
   "execution_count": 6,
   "metadata": {},
   "outputs": [],
   "source": [
    "nasdaq.drop(['Adj Close'], axis=1, inplace=True)"
   ]
  },
  {
   "cell_type": "code",
   "execution_count": 55,
   "metadata": {},
   "outputs": [],
   "source": [
    "nasdaq = nasdaq.set_index('Date')"
   ]
  },
  {
   "cell_type": "code",
   "execution_count": 78,
   "metadata": {},
   "outputs": [],
   "source": [
    "nasdaq.index = pd.to_datetime(nasdaq.index)"
   ]
  },
  {
   "cell_type": "code",
   "execution_count": 79,
   "metadata": {},
   "outputs": [
    {
     "data": {
      "text/html": [
       "<div>\n",
       "<style scoped>\n",
       "    .dataframe tbody tr th:only-of-type {\n",
       "        vertical-align: middle;\n",
       "    }\n",
       "\n",
       "    .dataframe tbody tr th {\n",
       "        vertical-align: top;\n",
       "    }\n",
       "\n",
       "    .dataframe thead th {\n",
       "        text-align: right;\n",
       "    }\n",
       "</style>\n",
       "<table border=\"1\" class=\"dataframe\">\n",
       "  <thead>\n",
       "    <tr style=\"text-align: right;\">\n",
       "      <th></th>\n",
       "      <th>Open</th>\n",
       "      <th>High</th>\n",
       "      <th>Low</th>\n",
       "      <th>Close</th>\n",
       "      <th>Volume</th>\n",
       "    </tr>\n",
       "    <tr>\n",
       "      <th>Date</th>\n",
       "      <th></th>\n",
       "      <th></th>\n",
       "      <th></th>\n",
       "      <th></th>\n",
       "      <th></th>\n",
       "    </tr>\n",
       "  </thead>\n",
       "  <tbody>\n",
       "    <tr>\n",
       "      <th>2015-01-02</th>\n",
       "      <td>4760.240234</td>\n",
       "      <td>4777.009766</td>\n",
       "      <td>4698.109863</td>\n",
       "      <td>4726.810059</td>\n",
       "      <td>1.43515</td>\n",
       "    </tr>\n",
       "    <tr>\n",
       "      <th>2015-01-05</th>\n",
       "      <td>4700.339844</td>\n",
       "      <td>4702.770020</td>\n",
       "      <td>4641.459961</td>\n",
       "      <td>4652.569824</td>\n",
       "      <td>1.79447</td>\n",
       "    </tr>\n",
       "    <tr>\n",
       "      <th>2015-01-06</th>\n",
       "      <td>4666.850098</td>\n",
       "      <td>4667.330078</td>\n",
       "      <td>4567.589844</td>\n",
       "      <td>4592.740234</td>\n",
       "      <td>2.16732</td>\n",
       "    </tr>\n",
       "    <tr>\n",
       "      <th>2015-01-07</th>\n",
       "      <td>4626.839844</td>\n",
       "      <td>4652.720215</td>\n",
       "      <td>4613.899902</td>\n",
       "      <td>4650.470215</td>\n",
       "      <td>1.95795</td>\n",
       "    </tr>\n",
       "    <tr>\n",
       "      <th>2015-01-08</th>\n",
       "      <td>4689.540039</td>\n",
       "      <td>4741.379883</td>\n",
       "      <td>4688.020020</td>\n",
       "      <td>4736.189941</td>\n",
       "      <td>2.10545</td>\n",
       "    </tr>\n",
       "  </tbody>\n",
       "</table>\n",
       "</div>"
      ],
      "text/plain": [
       "                   Open         High          Low        Close   Volume\n",
       "Date                                                                   \n",
       "2015-01-02  4760.240234  4777.009766  4698.109863  4726.810059  1.43515\n",
       "2015-01-05  4700.339844  4702.770020  4641.459961  4652.569824  1.79447\n",
       "2015-01-06  4666.850098  4667.330078  4567.589844  4592.740234  2.16732\n",
       "2015-01-07  4626.839844  4652.720215  4613.899902  4650.470215  1.95795\n",
       "2015-01-08  4689.540039  4741.379883  4688.020020  4736.189941  2.10545"
      ]
     },
     "execution_count": 79,
     "metadata": {},
     "output_type": "execute_result"
    }
   ],
   "source": [
    "nasdaq.head()"
   ]
  },
  {
   "cell_type": "markdown",
   "metadata": {},
   "source": [
    "# EURUSD"
   ]
  },
  {
   "cell_type": "code",
   "execution_count": 58,
   "metadata": {},
   "outputs": [],
   "source": [
    "eurusd = load_file_split(data_dir + 'EURUSD/')"
   ]
  },
  {
   "cell_type": "code",
   "execution_count": 59,
   "metadata": {},
   "outputs": [
    {
     "data": {
      "text/html": [
       "<div>\n",
       "<style scoped>\n",
       "    .dataframe tbody tr th:only-of-type {\n",
       "        vertical-align: middle;\n",
       "    }\n",
       "\n",
       "    .dataframe tbody tr th {\n",
       "        vertical-align: top;\n",
       "    }\n",
       "\n",
       "    .dataframe thead th {\n",
       "        text-align: right;\n",
       "    }\n",
       "</style>\n",
       "<table border=\"1\" class=\"dataframe\">\n",
       "  <thead>\n",
       "    <tr style=\"text-align: right;\">\n",
       "      <th></th>\n",
       "      <th>Date</th>\n",
       "      <th>Time</th>\n",
       "      <th>Open</th>\n",
       "      <th>High</th>\n",
       "      <th>Low</th>\n",
       "      <th>Close</th>\n",
       "      <th>Ticks</th>\n",
       "    </tr>\n",
       "  </thead>\n",
       "  <tbody>\n",
       "    <tr>\n",
       "      <th>1458710</th>\n",
       "      <td>2019.11.29</td>\n",
       "      <td>16:54</td>\n",
       "      <td>1.10176</td>\n",
       "      <td>1.10202</td>\n",
       "      <td>1.10174</td>\n",
       "      <td>1.10200</td>\n",
       "      <td>0</td>\n",
       "    </tr>\n",
       "    <tr>\n",
       "      <th>1458711</th>\n",
       "      <td>2019.11.29</td>\n",
       "      <td>16:55</td>\n",
       "      <td>1.10199</td>\n",
       "      <td>1.10218</td>\n",
       "      <td>1.10149</td>\n",
       "      <td>1.10149</td>\n",
       "      <td>0</td>\n",
       "    </tr>\n",
       "    <tr>\n",
       "      <th>1458712</th>\n",
       "      <td>2019.11.29</td>\n",
       "      <td>16:56</td>\n",
       "      <td>1.10173</td>\n",
       "      <td>1.10174</td>\n",
       "      <td>1.10173</td>\n",
       "      <td>1.10173</td>\n",
       "      <td>0</td>\n",
       "    </tr>\n",
       "    <tr>\n",
       "      <th>1458713</th>\n",
       "      <td>2019.11.29</td>\n",
       "      <td>16:57</td>\n",
       "      <td>1.10173</td>\n",
       "      <td>1.10174</td>\n",
       "      <td>1.10173</td>\n",
       "      <td>1.10173</td>\n",
       "      <td>0</td>\n",
       "    </tr>\n",
       "    <tr>\n",
       "      <th>1458714</th>\n",
       "      <td>2019.11.29</td>\n",
       "      <td>16:58</td>\n",
       "      <td>1.10157</td>\n",
       "      <td>1.10174</td>\n",
       "      <td>1.10157</td>\n",
       "      <td>1.10158</td>\n",
       "      <td>0</td>\n",
       "    </tr>\n",
       "  </tbody>\n",
       "</table>\n",
       "</div>"
      ],
      "text/plain": [
       "               Date   Time     Open     High      Low    Close  Ticks\n",
       "1458710  2019.11.29  16:54  1.10176  1.10202  1.10174  1.10200      0\n",
       "1458711  2019.11.29  16:55  1.10199  1.10218  1.10149  1.10149      0\n",
       "1458712  2019.11.29  16:56  1.10173  1.10174  1.10173  1.10173      0\n",
       "1458713  2019.11.29  16:57  1.10173  1.10174  1.10173  1.10173      0\n",
       "1458714  2019.11.29  16:58  1.10157  1.10174  1.10157  1.10158      0"
      ]
     },
     "execution_count": 59,
     "metadata": {},
     "output_type": "execute_result"
    }
   ],
   "source": [
    "eurusd.tail()"
   ]
  },
  {
   "cell_type": "markdown",
   "metadata": {},
   "source": [
    "Do we need Ticks column?"
   ]
  },
  {
   "cell_type": "code",
   "execution_count": 60,
   "metadata": {},
   "outputs": [
    {
     "data": {
      "text/html": [
       "<div>\n",
       "<style scoped>\n",
       "    .dataframe tbody tr th:only-of-type {\n",
       "        vertical-align: middle;\n",
       "    }\n",
       "\n",
       "    .dataframe tbody tr th {\n",
       "        vertical-align: top;\n",
       "    }\n",
       "\n",
       "    .dataframe thead th {\n",
       "        text-align: right;\n",
       "    }\n",
       "</style>\n",
       "<table border=\"1\" class=\"dataframe\">\n",
       "  <thead>\n",
       "    <tr style=\"text-align: right;\">\n",
       "      <th></th>\n",
       "      <th>Date</th>\n",
       "      <th>Time</th>\n",
       "      <th>Open</th>\n",
       "      <th>High</th>\n",
       "      <th>Low</th>\n",
       "      <th>Close</th>\n",
       "      <th>Ticks</th>\n",
       "    </tr>\n",
       "  </thead>\n",
       "  <tbody>\n",
       "  </tbody>\n",
       "</table>\n",
       "</div>"
      ],
      "text/plain": [
       "Empty DataFrame\n",
       "Columns: [Date, Time, Open, High, Low, Close, Ticks]\n",
       "Index: []"
      ]
     },
     "execution_count": 60,
     "metadata": {},
     "output_type": "execute_result"
    }
   ],
   "source": [
    "eurusd[eurusd['Ticks'] != 0]"
   ]
  },
  {
   "cell_type": "code",
   "execution_count": 61,
   "metadata": {},
   "outputs": [],
   "source": [
    "eurusd.drop(['Ticks'], axis=1, inplace=True)"
   ]
  },
  {
   "cell_type": "code",
   "execution_count": 62,
   "metadata": {},
   "outputs": [],
   "source": [
    "eurusd.loc[:,'Date'] = eurusd.loc[:,'Date'] + ' ' + eurusd.loc[:,'Time']\n",
    "eurusd.drop(['Time'], inplace=True, axis=1)\n",
    "eurusd = eurusd.set_index('Date')"
   ]
  },
  {
   "cell_type": "code",
   "execution_count": 75,
   "metadata": {},
   "outputs": [],
   "source": [
    "eurusd.index = pd.to_datetime(eurusd.index)"
   ]
  },
  {
   "cell_type": "code",
   "execution_count": 76,
   "metadata": {},
   "outputs": [
    {
     "data": {
      "text/html": [
       "<div>\n",
       "<style scoped>\n",
       "    .dataframe tbody tr th:only-of-type {\n",
       "        vertical-align: middle;\n",
       "    }\n",
       "\n",
       "    .dataframe tbody tr th {\n",
       "        vertical-align: top;\n",
       "    }\n",
       "\n",
       "    .dataframe thead th {\n",
       "        text-align: right;\n",
       "    }\n",
       "</style>\n",
       "<table border=\"1\" class=\"dataframe\">\n",
       "  <thead>\n",
       "    <tr style=\"text-align: right;\">\n",
       "      <th></th>\n",
       "      <th>Open</th>\n",
       "      <th>High</th>\n",
       "      <th>Low</th>\n",
       "      <th>Close</th>\n",
       "    </tr>\n",
       "    <tr>\n",
       "      <th>Date</th>\n",
       "      <th></th>\n",
       "      <th></th>\n",
       "      <th></th>\n",
       "      <th></th>\n",
       "    </tr>\n",
       "  </thead>\n",
       "  <tbody>\n",
       "    <tr>\n",
       "      <th>2016-01-03 17:00:00</th>\n",
       "      <td>1.08701</td>\n",
       "      <td>1.08713</td>\n",
       "      <td>1.08701</td>\n",
       "      <td>1.08713</td>\n",
       "    </tr>\n",
       "    <tr>\n",
       "      <th>2016-01-03 17:01:00</th>\n",
       "      <td>1.08712</td>\n",
       "      <td>1.08712</td>\n",
       "      <td>1.08712</td>\n",
       "      <td>1.08712</td>\n",
       "    </tr>\n",
       "    <tr>\n",
       "      <th>2016-01-03 17:02:00</th>\n",
       "      <td>1.08708</td>\n",
       "      <td>1.08722</td>\n",
       "      <td>1.08708</td>\n",
       "      <td>1.08722</td>\n",
       "    </tr>\n",
       "    <tr>\n",
       "      <th>2016-01-03 17:03:00</th>\n",
       "      <td>1.08717</td>\n",
       "      <td>1.08723</td>\n",
       "      <td>1.08717</td>\n",
       "      <td>1.08723</td>\n",
       "    </tr>\n",
       "    <tr>\n",
       "      <th>2016-01-03 17:04:00</th>\n",
       "      <td>1.08718</td>\n",
       "      <td>1.08718</td>\n",
       "      <td>1.08711</td>\n",
       "      <td>1.08711</td>\n",
       "    </tr>\n",
       "  </tbody>\n",
       "</table>\n",
       "</div>"
      ],
      "text/plain": [
       "                        Open     High      Low    Close\n",
       "Date                                                   \n",
       "2016-01-03 17:00:00  1.08701  1.08713  1.08701  1.08713\n",
       "2016-01-03 17:01:00  1.08712  1.08712  1.08712  1.08712\n",
       "2016-01-03 17:02:00  1.08708  1.08722  1.08708  1.08722\n",
       "2016-01-03 17:03:00  1.08717  1.08723  1.08717  1.08723\n",
       "2016-01-03 17:04:00  1.08718  1.08718  1.08711  1.08711"
      ]
     },
     "execution_count": 76,
     "metadata": {},
     "output_type": "execute_result"
    }
   ],
   "source": [
    "eurusd.head()"
   ]
  },
  {
   "cell_type": "markdown",
   "metadata": {},
   "source": [
    "# Visualization & exploration"
   ]
  },
  {
   "cell_type": "code",
   "execution_count": 34,
   "metadata": {},
   "outputs": [
    {
     "name": "stdout",
     "output_type": "stream",
     "text": [
      "Collecting mplfinance\n",
      "  Downloading https://files.pythonhosted.org/packages/f8/d8/6709e135d5255824d99d178044c368b0c307ee70ffb1dcd049287e0d05a8/mplfinance-0.12.0a3-py3-none-any.whl\n",
      "Requirement already satisfied: pandas in /home/ec2-user/anaconda3/envs/pytorch_p36/lib/python3.6/site-packages (from mplfinance) (0.24.2)\n",
      "Requirement already satisfied: matplotlib in /home/ec2-user/anaconda3/envs/pytorch_p36/lib/python3.6/site-packages (from mplfinance) (3.0.3)\n",
      "Requirement already satisfied: numpy>=1.12.0 in /home/ec2-user/anaconda3/envs/pytorch_p36/lib/python3.6/site-packages (from pandas->mplfinance) (1.15.4)\n",
      "Requirement already satisfied: pytz>=2011k in /home/ec2-user/anaconda3/envs/pytorch_p36/lib/python3.6/site-packages (from pandas->mplfinance) (2018.4)\n",
      "Requirement already satisfied: python-dateutil>=2.5.0 in /home/ec2-user/anaconda3/envs/pytorch_p36/lib/python3.6/site-packages (from pandas->mplfinance) (2.7.3)\n",
      "Requirement already satisfied: cycler>=0.10 in /home/ec2-user/anaconda3/envs/pytorch_p36/lib/python3.6/site-packages (from matplotlib->mplfinance) (0.10.0)\n",
      "Requirement already satisfied: kiwisolver>=1.0.1 in /home/ec2-user/anaconda3/envs/pytorch_p36/lib/python3.6/site-packages (from matplotlib->mplfinance) (1.0.1)\n",
      "Requirement already satisfied: pyparsing!=2.0.4,!=2.1.2,!=2.1.6,>=2.0.1 in /home/ec2-user/anaconda3/envs/pytorch_p36/lib/python3.6/site-packages (from matplotlib->mplfinance) (2.2.0)\n",
      "Requirement already satisfied: six>=1.5 in /home/ec2-user/anaconda3/envs/pytorch_p36/lib/python3.6/site-packages (from python-dateutil>=2.5.0->pandas->mplfinance) (1.11.0)\n",
      "Requirement already satisfied: setuptools in /home/ec2-user/anaconda3/envs/pytorch_p36/lib/python3.6/site-packages (from kiwisolver>=1.0.1->matplotlib->mplfinance) (39.1.0)\n",
      "\u001b[31mfastai 1.0.59 requires nvidia-ml-py3, which is not installed.\u001b[0m\n",
      "Installing collected packages: mplfinance\n",
      "Successfully installed mplfinance-0.12.0a3\n",
      "\u001b[33mYou are using pip version 10.0.1, however version 19.3.1 is available.\n",
      "You should consider upgrading via the 'pip install --upgrade pip' command.\u001b[0m\n"
     ]
    }
   ],
   "source": [
    "!pip install mplfinance"
   ]
  },
  {
   "cell_type": "code",
   "execution_count": 35,
   "metadata": {},
   "outputs": [],
   "source": [
    "import matplotlib.pyplot as plt\n",
    "import mplfinance as mpf\n",
    "%matplotlib inline"
   ]
  },
  {
   "cell_type": "code",
   "execution_count": 26,
   "metadata": {},
   "outputs": [],
   "source": [
    "nasdaq.loc[:, 'Volume'] = nasdaq.loc[:,'Volume'] / 1e9"
   ]
  },
  {
   "cell_type": "code",
   "execution_count": 31,
   "metadata": {},
   "outputs": [
    {
     "data": {
      "text/plain": [
       "[<matplotlib.lines.Line2D at 0x7f4897635630>]"
      ]
     },
     "execution_count": 31,
     "metadata": {},
     "output_type": "execute_result"
    },
    {
     "data": {
      "image/png": "[encoded data removed]",
      "text/plain": [
       "<Figure size 432x288 with 1 Axes>"
      ]
     },
     "metadata": {},
     "output_type": "display_data"
    }
   ],
   "source": [
    "plt.plot(nasdaq.loc[:,'Volume'])"
   ]
  },
  {
   "cell_type": "code",
   "execution_count": 99,
   "metadata": {},
   "outputs": [
    {
     "data": {
      "image/png": "[encoded data removed]",
      "text/plain": [
       "<Figure size 594x459 with 1 Axes>"
      ]
     },
     "metadata": {},
     "output_type": "display_data"
    }
   ],
   "source": [
    "mpf.plot(nasdaq.iloc[100:300], type='candle')"
   ]
  },
  {
   "cell_type": "code",
   "execution_count": 85,
   "metadata": {},
   "outputs": [
    {
     "data": {
      "image/png": "[encoded data removed]",
      "text/plain": [
       "<Figure size 594x459 with 1 Axes>"
      ]
     },
     "metadata": {},
     "output_type": "display_data"
    }
   ],
   "source": [
    "mpf.plot(eurusd.iloc[100:300], type='candle')"
   ]
  },
  {
   "cell_type": "code",
   "execution_count": 100,
   "metadata": {},
   "outputs": [
    {
     "data": {
      "text/plain": [
       "array(['2015-01-02T00:00:00.000000000', '2015-01-05T00:00:00.000000000',\n",
       "       '2015-01-06T00:00:00.000000000', ...,\n",
       "       '2019-12-30T00:00:00.000000000', '2019-12-31T00:00:00.000000000',\n",
       "       '2020-01-02T00:00:00.000000000'], dtype='datetime64[ns]')"
      ]
     },
     "execution_count": 100,
     "metadata": {},
     "output_type": "execute_result"
    }
   ],
   "source": [
    "np.array(nasdaq.index)"
   ]
  },
  {
   "cell_type": "code",
   "execution_count": null,
   "metadata": {},
   "outputs": [],
   "source": []
  }
 ],
 "metadata": {
  "kernelspec": {
   "display_name": "conda_pytorch_p36",
   "language": "python",
   "name": "conda_pytorch_p36"
  },
  "language_info": {
   "codemirror_mode": {
    "name": "ipython",
    "version": 3
   },
   "file_extension": ".py",
   "mimetype": "text/x-python",
   "name": "python",
   "nbconvert_exporter": "python",
   "pygments_lexer": "ipython3",
   "version": "3.6.5"
  }
 },
 "nbformat": 4,
 "nbformat_minor": 4
}
