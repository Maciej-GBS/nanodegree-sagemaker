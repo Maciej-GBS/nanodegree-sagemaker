{
 "cells": [
  {
   "cell_type": "markdown",
   "metadata": {},
   "source": [
    "# Web application\n",
    "Overview:\n",
    "- install yfinance\n",
    "- testing API\n",
    "- deploying web app\n",
    "\n",
    "## YFinance\n",
    "Source of yfinance module: https://pypi.org/project/yfinance/ and https://github.com/ranaroussi/yfinance\n",
    "\n",
    "Short usage instructions for our needs:\n",
    "`sym = yf.Ticker('YAHOOSYMBOL')` and data retrieval `sym.history(period, interval, auto_adjust=True)`\n",
    "\n",
    "- period : valid values 1d,5d,1mo,3mo,6mo,1y,2y,5y,10y,ytd,max\n",
    "- interval : valid values 1m,2m,5m,15m,30m,60m,90m,1h,1d,5d,1wk,1mo\n",
    "\n",
    "## Getting it locally\n",
    "SageMaker endpoint preserves the source_dir specified, so just copy the source code of yfinance there and use it that way."
   ]
  },
  {
   "cell_type": "code",
   "execution_count": 11,
   "metadata": {},
   "outputs": [
    {
     "name": "stdout",
     "output_type": "stream",
     "text": [
      "Cloning into 'model/yfinance'...\n",
      "remote: Enumerating objects: 897, done.\u001b[K\n",
      "remote: Total 897 (delta 0), reused 0 (delta 0), pack-reused 897\u001b[K\n",
      "Receiving objects: 100% (897/897), 633.68 KiB | 24.37 MiB/s, done.\n",
      "Resolving deltas: 100% (543/543), done.\n"
     ]
    }
   ],
   "source": [
    "!git clone https://github.com/ranaroussi/yfinance.git model/yf"
   ]
  },
  {
   "cell_type": "code",
   "execution_count": 11,
   "metadata": {},
   "outputs": [
    {
     "name": "stdout",
     "output_type": "stream",
     "text": [
      "Cloning into 'model/mt'...\n",
      "remote: Enumerating objects: 43, done.\u001b[K\n",
      "remote: Counting objects: 100% (43/43), done.\u001b[K\n",
      "remote: Compressing objects: 100% (25/25), done.\u001b[K\n",
      "remote: Total 121 (delta 20), reused 28 (delta 13), pack-reused 78\u001b[K\n",
      "Receiving objects: 100% (121/121), 29.06 KiB | 29.06 MiB/s, done.\n",
      "Resolving deltas: 100% (58/58), done.\n"
     ]
    }
   ],
   "source": [
    "!git clone https://github.com/ranaroussi/multitasking.git model/mt"
   ]
  },
  {
   "cell_type": "code",
   "execution_count": 14,
   "metadata": {},
   "outputs": [],
   "source": [
    "!mv model/yf/yfinance model/yfinance && rm -Rf model/yf"
   ]
  },
  {
   "cell_type": "code",
   "execution_count": 12,
   "metadata": {},
   "outputs": [],
   "source": [
    "!mv model/mt/multitasking model/multitasking && rm -Rf model/mt"
   ]
  },
  {
   "cell_type": "markdown",
   "metadata": {},
   "source": [
    "# Example\n",
    "A short example of collecting data from the 2 sources we are interested in."
   ]
  },
  {
   "cell_type": "code",
   "execution_count": 1,
   "metadata": {},
   "outputs": [],
   "source": [
    "import model.yfinance as yf"
   ]
  },
  {
   "cell_type": "code",
   "execution_count": 2,
   "metadata": {},
   "outputs": [],
   "source": [
    "sym_ixic = yf.Ticker('^IXIC')"
   ]
  },
  {
   "cell_type": "code",
   "execution_count": 3,
   "metadata": {},
   "outputs": [
    {
     "data": {
      "text/html": [
       "<div>\n",
       "<style scoped>\n",
       "    .dataframe tbody tr th:only-of-type {\n",
       "        vertical-align: middle;\n",
       "    }\n",
       "\n",
       "    .dataframe tbody tr th {\n",
       "        vertical-align: top;\n",
       "    }\n",
       "\n",
       "    .dataframe thead th {\n",
       "        text-align: right;\n",
       "    }\n",
       "</style>\n",
       "<table border=\"1\" class=\"dataframe\">\n",
       "  <thead>\n",
       "    <tr style=\"text-align: right;\">\n",
       "      <th></th>\n",
       "      <th>Open</th>\n",
       "      <th>High</th>\n",
       "      <th>Low</th>\n",
       "      <th>Close</th>\n",
       "      <th>Volume</th>\n",
       "      <th>Dividends</th>\n",
       "      <th>Stock Splits</th>\n",
       "    </tr>\n",
       "    <tr>\n",
       "      <th>Date</th>\n",
       "      <th></th>\n",
       "      <th></th>\n",
       "      <th></th>\n",
       "      <th></th>\n",
       "      <th></th>\n",
       "      <th></th>\n",
       "      <th></th>\n",
       "    </tr>\n",
       "  </thead>\n",
       "  <tbody>\n",
       "    <tr>\n",
       "      <th>2020-01-27</th>\n",
       "      <td>9092.46</td>\n",
       "      <td>9185.45</td>\n",
       "      <td>9088.04</td>\n",
       "      <td>9139.31</td>\n",
       "      <td>2583330000</td>\n",
       "      <td>0</td>\n",
       "      <td>0</td>\n",
       "    </tr>\n",
       "    <tr>\n",
       "      <th>2020-01-28</th>\n",
       "      <td>9201.82</td>\n",
       "      <td>9288.87</td>\n",
       "      <td>9182.33</td>\n",
       "      <td>9269.68</td>\n",
       "      <td>2157830000</td>\n",
       "      <td>0</td>\n",
       "      <td>0</td>\n",
       "    </tr>\n",
       "    <tr>\n",
       "      <th>2020-01-29</th>\n",
       "      <td>9318.26</td>\n",
       "      <td>9329.12</td>\n",
       "      <td>9249.04</td>\n",
       "      <td>9275.16</td>\n",
       "      <td>2223480000</td>\n",
       "      <td>0</td>\n",
       "      <td>0</td>\n",
       "    </tr>\n",
       "    <tr>\n",
       "      <th>2020-01-30</th>\n",
       "      <td>9211.15</td>\n",
       "      <td>9303.00</td>\n",
       "      <td>9185.18</td>\n",
       "      <td>9298.93</td>\n",
       "      <td>2333500000</td>\n",
       "      <td>0</td>\n",
       "      <td>0</td>\n",
       "    </tr>\n",
       "    <tr>\n",
       "      <th>2020-01-31</th>\n",
       "      <td>9324.32</td>\n",
       "      <td>9324.80</td>\n",
       "      <td>9123.22</td>\n",
       "      <td>9150.94</td>\n",
       "      <td>2300804290</td>\n",
       "      <td>0</td>\n",
       "      <td>0</td>\n",
       "    </tr>\n",
       "  </tbody>\n",
       "</table>\n",
       "</div>"
      ],
      "text/plain": [
       "               Open     High      Low    Close      Volume  Dividends  \\\n",
       "Date                                                                    \n",
       "2020-01-27  9092.46  9185.45  9088.04  9139.31  2583330000          0   \n",
       "2020-01-28  9201.82  9288.87  9182.33  9269.68  2157830000          0   \n",
       "2020-01-29  9318.26  9329.12  9249.04  9275.16  2223480000          0   \n",
       "2020-01-30  9211.15  9303.00  9185.18  9298.93  2333500000          0   \n",
       "2020-01-31  9324.32  9324.80  9123.22  9150.94  2300804290          0   \n",
       "\n",
       "            Stock Splits  \n",
       "Date                      \n",
       "2020-01-27             0  \n",
       "2020-01-28             0  \n",
       "2020-01-29             0  \n",
       "2020-01-30             0  \n",
       "2020-01-31             0  "
      ]
     },
     "execution_count": 3,
     "metadata": {},
     "output_type": "execute_result"
    }
   ],
   "source": [
    "sym_ixic.history(period='5d', interval='1d')"
   ]
  },
  {
   "cell_type": "code",
   "execution_count": 4,
   "metadata": {},
   "outputs": [],
   "source": [
    "sym_eurusd = yf.Ticker('EURUSD=X')"
   ]
  },
  {
   "cell_type": "code",
   "execution_count": 5,
   "metadata": {},
   "outputs": [
    {
     "data": {
      "text/html": [
       "<div>\n",
       "<style scoped>\n",
       "    .dataframe tbody tr th:only-of-type {\n",
       "        vertical-align: middle;\n",
       "    }\n",
       "\n",
       "    .dataframe tbody tr th {\n",
       "        vertical-align: top;\n",
       "    }\n",
       "\n",
       "    .dataframe thead th {\n",
       "        text-align: right;\n",
       "    }\n",
       "</style>\n",
       "<table border=\"1\" class=\"dataframe\">\n",
       "  <thead>\n",
       "    <tr style=\"text-align: right;\">\n",
       "      <th></th>\n",
       "      <th>Open</th>\n",
       "      <th>High</th>\n",
       "      <th>Low</th>\n",
       "      <th>Close</th>\n",
       "      <th>Volume</th>\n",
       "      <th>Dividends</th>\n",
       "      <th>Stock Splits</th>\n",
       "    </tr>\n",
       "    <tr>\n",
       "      <th>Date</th>\n",
       "      <th></th>\n",
       "      <th></th>\n",
       "      <th></th>\n",
       "      <th></th>\n",
       "      <th></th>\n",
       "      <th></th>\n",
       "      <th></th>\n",
       "    </tr>\n",
       "  </thead>\n",
       "  <tbody>\n",
       "    <tr>\n",
       "      <th>2020-01-27</th>\n",
       "      <td>1.1026</td>\n",
       "      <td>1.1040</td>\n",
       "      <td>1.1010</td>\n",
       "      <td>1.1025</td>\n",
       "      <td>0</td>\n",
       "      <td>0</td>\n",
       "      <td>0</td>\n",
       "    </tr>\n",
       "    <tr>\n",
       "      <th>2020-01-28</th>\n",
       "      <td>1.1020</td>\n",
       "      <td>1.1027</td>\n",
       "      <td>1.0999</td>\n",
       "      <td>1.1020</td>\n",
       "      <td>0</td>\n",
       "      <td>0</td>\n",
       "      <td>0</td>\n",
       "    </tr>\n",
       "    <tr>\n",
       "      <th>2020-01-29</th>\n",
       "      <td>1.1023</td>\n",
       "      <td>1.1030</td>\n",
       "      <td>1.0993</td>\n",
       "      <td>1.1023</td>\n",
       "      <td>0</td>\n",
       "      <td>0</td>\n",
       "      <td>0</td>\n",
       "    </tr>\n",
       "    <tr>\n",
       "      <th>2020-01-30</th>\n",
       "      <td>1.1014</td>\n",
       "      <td>1.1037</td>\n",
       "      <td>1.1008</td>\n",
       "      <td>1.1017</td>\n",
       "      <td>0</td>\n",
       "      <td>0</td>\n",
       "      <td>0</td>\n",
       "    </tr>\n",
       "    <tr>\n",
       "      <th>2020-01-31</th>\n",
       "      <td>1.1029</td>\n",
       "      <td>1.1090</td>\n",
       "      <td>1.1018</td>\n",
       "      <td>1.1029</td>\n",
       "      <td>0</td>\n",
       "      <td>0</td>\n",
       "      <td>0</td>\n",
       "    </tr>\n",
       "  </tbody>\n",
       "</table>\n",
       "</div>"
      ],
      "text/plain": [
       "              Open    High     Low   Close  Volume  Dividends  Stock Splits\n",
       "Date                                                                       \n",
       "2020-01-27  1.1026  1.1040  1.1010  1.1025       0          0             0\n",
       "2020-01-28  1.1020  1.1027  1.0999  1.1020       0          0             0\n",
       "2020-01-29  1.1023  1.1030  1.0993  1.1023       0          0             0\n",
       "2020-01-30  1.1014  1.1037  1.1008  1.1017       0          0             0\n",
       "2020-01-31  1.1029  1.1090  1.1018  1.1029       0          0             0"
      ]
     },
     "execution_count": 5,
     "metadata": {},
     "output_type": "execute_result"
    }
   ],
   "source": [
    "data = sym_eurusd.history(period='5d', interval='1d')\n",
    "data"
   ]
  },
  {
   "cell_type": "markdown",
   "metadata": {},
   "source": [
    "# Deployment For Web App\n",
    "Here are the final steps for deploying the app.\n",
    "\n",
    "Paste `model_data` from previous notebook, so correct model is loaded."
   ]
  },
  {
   "cell_type": "code",
   "execution_count": 14,
   "metadata": {},
   "outputs": [],
   "source": [
    "# Below we specify which estimator we want to use - this should match estimator.model_data from previous notebook\n",
    "model_data = 's3://sagemaker-us-east-1-236375122127/pytorch-training-2020-01-31-13-42-51-752/output/model.tar.gz'"
   ]
  },
  {
   "cell_type": "code",
   "execution_count": 15,
   "metadata": {},
   "outputs": [],
   "source": [
    "import sagemaker\n",
    "\n",
    "sagemaker_session = sagemaker.Session()\n",
    "\n",
    "bucket = sagemaker_session.default_bucket()\n",
    "prefix = 'sagemaker/stock_forecasting'\n",
    "\n",
    "role = sagemaker.get_execution_role()"
   ]
  },
  {
   "cell_type": "code",
   "execution_count": 21,
   "metadata": {},
   "outputs": [],
   "source": [
    "from sagemaker.predictor import RealTimePredictor\n",
    "from sagemaker.pytorch import PyTorchModel\n",
    "\n",
    "class JsonPredictor(RealTimePredictor):\n",
    "    def __init__(self, endpoint_name, sagemaker_session):\n",
    "        super().__init__(endpoint_name, sagemaker_session, content_type='application/json')\n",
    "\n",
    "model = PyTorchModel(model_data=model_data,\n",
    "                     role = role,\n",
    "                     framework_version='1.2.0',\n",
    "                     entry_point='predict.py',\n",
    "                     source_dir='model',\n",
    "                     predictor_cls=JsonPredictor)"
   ]
  },
  {
   "cell_type": "code",
   "execution_count": 22,
   "metadata": {},
   "outputs": [
    {
     "name": "stdout",
     "output_type": "stream",
     "text": [
      "-------------------!"
     ]
    }
   ],
   "source": [
    "predictor = model.deploy(initial_instance_count=1, instance_type='ml.m4.xlarge')"
   ]
  },
  {
   "cell_type": "markdown",
   "metadata": {},
   "source": [
    "## Lambda\n",
    "We need to create a new lambda, to which we can connect our html page. Lambda will use runtime Python3.6 and requires User Role with Full SageMaker access.\n",
    "\n",
    "Paste the endpoint into the lambda function, which you can find inside `webapp/lambda.py` file with correct endpoint name and save.\n",
    "\n",
    "It is necessary to add a trigger. Select API Gateway HTTP and accept.\n",
    "The endpoint should be listed on the bottom of the page. After expanding there is API endpoint url, which we will need in the `index.html` file."
   ]
  },
  {
   "cell_type": "code",
   "execution_count": 23,
   "metadata": {},
   "outputs": [
    {
     "data": {
      "text/plain": [
       "'pytorch-inference-2020-01-31-21-44-28-013'"
      ]
     },
     "execution_count": 23,
     "metadata": {},
     "output_type": "execute_result"
    }
   ],
   "source": [
    "predictor.endpoint"
   ]
  },
  {
   "cell_type": "code",
   "execution_count": 7,
   "metadata": {},
   "outputs": [
    {
     "name": "stdout",
     "output_type": "stream",
     "text": [
      "\u001b[34mimport\u001b[39;49;00m \u001b[04m\u001b[36mjson\u001b[39;49;00m\n",
      "\u001b[34mimport\u001b[39;49;00m \u001b[04m\u001b[36mboto3\u001b[39;49;00m\n",
      "\n",
      "\u001b[34mdef\u001b[39;49;00m \u001b[32mlambda_handler\u001b[39;49;00m(event, context):\n",
      "    runtime = boto3.Session().client(\u001b[33m'\u001b[39;49;00m\u001b[33msagemaker-runtime\u001b[39;49;00m\u001b[33m'\u001b[39;49;00m)\n",
      "\n",
      "    response = runtime.invoke_endpoint(EndpointName = \u001b[33m'\u001b[39;49;00m\u001b[33m**ENDPOINT NAME**\u001b[39;49;00m\u001b[33m'\u001b[39;49;00m,\n",
      "                                       ContentType = \u001b[33m'\u001b[39;49;00m\u001b[33mtext/plain\u001b[39;49;00m\u001b[33m'\u001b[39;49;00m,\n",
      "                                       Body = event[\u001b[33m'\u001b[39;49;00m\u001b[33mbody\u001b[39;49;00m\u001b[33m'\u001b[39;49;00m])\n",
      "\n",
      "    result = json.loads(response[\u001b[33m'\u001b[39;49;00m\u001b[33mBody\u001b[39;49;00m\u001b[33m'\u001b[39;49;00m].read())\n",
      "\n",
      "    \u001b[34mreturn\u001b[39;49;00m {\n",
      "        \u001b[33m'\u001b[39;49;00m\u001b[33mstatusCode\u001b[39;49;00m\u001b[33m'\u001b[39;49;00m : \u001b[34m200\u001b[39;49;00m,\n",
      "        \u001b[33m'\u001b[39;49;00m\u001b[33mheaders\u001b[39;49;00m\u001b[33m'\u001b[39;49;00m : { \u001b[33m'\u001b[39;49;00m\u001b[33mContent-Type\u001b[39;49;00m\u001b[33m'\u001b[39;49;00m : \u001b[33m'\u001b[39;49;00m\u001b[33mapplication/json\u001b[39;49;00m\u001b[33m'\u001b[39;49;00m, \u001b[33m'\u001b[39;49;00m\u001b[33mAccess-Control-Allow-Origin\u001b[39;49;00m\u001b[33m'\u001b[39;49;00m : \u001b[33m'\u001b[39;49;00m\u001b[33m*\u001b[39;49;00m\u001b[33m'\u001b[39;49;00m },\n",
      "        \u001b[33m'\u001b[39;49;00m\u001b[33mbody\u001b[39;49;00m\u001b[33m'\u001b[39;49;00m : result\n",
      "    }\n"
     ]
    }
   ],
   "source": [
    "!pygmentize webapp/lambda.py"
   ]
  },
  {
   "cell_type": "markdown",
   "metadata": {},
   "source": [
    "# Clean up\n",
    "To close the app, delete the endpoint."
   ]
  },
  {
   "cell_type": "code",
   "execution_count": 24,
   "metadata": {},
   "outputs": [],
   "source": [
    "predictor.delete_endpoint()"
   ]
  },
  {
   "cell_type": "code",
   "execution_count": null,
   "metadata": {},
   "outputs": [],
   "source": []
  }
 ],
 "metadata": {
  "kernelspec": {
   "display_name": "conda_pytorch_p36",
   "language": "python",
   "name": "conda_pytorch_p36"
  },
  "language_info": {
   "codemirror_mode": {
    "name": "ipython",
    "version": 3
   },
   "file_extension": ".py",
   "mimetype": "text/x-python",
   "name": "python",
   "nbconvert_exporter": "python",
   "pygments_lexer": "ipython3",
   "version": "3.6.5"
  }
 },
 "nbformat": 4,
 "nbformat_minor": 4
}
