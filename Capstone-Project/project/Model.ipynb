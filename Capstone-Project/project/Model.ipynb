{
 "cells": [
  {
   "cell_type": "markdown",
   "metadata": {},
   "source": [
    "# Model development\n",
    "Notebook overview:\n",
    "- create benchmark model\n",
    "- error metrics\n",
    "- create and test data loader\n",
    "- train\n",
    "- evaluate"
   ]
  },
  {
   "cell_type": "code",
   "execution_count": 1,
   "metadata": {},
   "outputs": [],
   "source": [
    "import os.path\n",
    "import pandas as pd\n",
    "import numpy as np\n",
    "import matplotlib.pyplot as plt\n",
    "import torch\n",
    "import torch.utils.data\n",
    "\n",
    "%matplotlib inline"
   ]
  },
  {
   "cell_type": "code",
   "execution_count": 2,
   "metadata": {},
   "outputs": [],
   "source": [
    "data_dir = '../data/'"
   ]
  },
  {
   "cell_type": "code",
   "execution_count": 3,
   "metadata": {},
   "outputs": [],
   "source": [
    "nasdaq_train = pd.read_csv(os.path.join(data_dir,'nasdaq_export','train.csv'), index_col=0, header=None)\n",
    "nasdaq_test = pd.read_csv(os.path.join(data_dir,'nasdaq_export','test.csv'), index_col=0, header=None)"
   ]
  },
  {
   "cell_type": "code",
   "execution_count": 4,
   "metadata": {},
   "outputs": [],
   "source": [
    "eurusd_train = pd.read_csv(os.path.join(data_dir,'eurusd_export','train.csv'), index_col=0, header=None)\n",
    "eurusd_test = pd.read_csv(os.path.join(data_dir,'eurusd_export','test.csv'), index_col=0, header=None)"
   ]
  },
  {
   "cell_type": "code",
   "execution_count": 5,
   "metadata": {},
   "outputs": [
    {
     "data": {
      "text/plain": [
       "{'Open': 0,\n",
       " 'High': 1,\n",
       " 'Low': 2,\n",
       " 'Close': 3,\n",
       " 'Gap': 4,\n",
       " 'EMA': 5,\n",
       " 'SMA': 6,\n",
       " 'Momentum': 7,\n",
       " 'RSI': 8}"
      ]
     },
     "execution_count": 5,
     "metadata": {},
     "output_type": "execute_result"
    }
   ],
   "source": [
    "col2int = {k:v for k,v in zip(['Open','High','Low','Close','Gap','EMA','SMA','Momentum','RSI'], range(0,9))}\n",
    "col2int"
   ]
  },
  {
   "cell_type": "markdown",
   "metadata": {},
   "source": [
    "# Benchmark\n",
    "Because the benchmark model is very simple and needed only in this notebook, I will define it here.\n",
    "\n",
    "Simple Moving Average forecasting implementation:"
   ]
  },
  {
   "cell_type": "code",
   "execution_count": 6,
   "metadata": {},
   "outputs": [],
   "source": [
    "class MA_regressor:\n",
    "    def __init__(self, N=5):\n",
    "        self.N = N\n",
    "    \n",
    "    def forward(self, price):\n",
    "        return price[-self.N:].sum() / self.N\n",
    "    \n",
    "    def predict(self, data, steps=10):\n",
    "        predictions = np.zeros((len(data),steps))\n",
    "        for i in range(0,len(data)):\n",
    "            d = data[i][:,col2int[\"Close\"]]\n",
    "            for j in range(0,steps):\n",
    "                predictions[i][j] = self.forward(np.append(d, predictions[i][:j]))\n",
    "        return predictions"
   ]
  },
  {
   "cell_type": "code",
   "execution_count": 7,
   "metadata": {},
   "outputs": [],
   "source": [
    "sample, steps = 30, 1\n",
    "benchmark = MA_regressor(10)\n",
    "y = benchmark.predict([nasdaq_train.iloc[:sample].values], steps)[0]"
   ]
  },
  {
   "cell_type": "code",
   "execution_count": 8,
   "metadata": {},
   "outputs": [
    {
     "data": {
      "text/plain": [
       "[<matplotlib.lines.Line2D at 0x7fe8b64e6f60>]"
      ]
     },
     "execution_count": 8,
     "metadata": {},
     "output_type": "execute_result"
    },
    {
     "data": {
      "image/png": "[encoded data removed]",
      "text/plain": [
       "<Figure size 864x432 with 1 Axes>"
      ]
     },
     "metadata": {},
     "output_type": "display_data"
    }
   ],
   "source": [
    "plt.figure(figsize=(12,6))\n",
    "plt.xticks(rotation='vertical')\n",
    "plt.plot(nasdaq_train.iloc[:sample+steps,3])\n",
    "# Reconstruct index\n",
    "y_series = nasdaq_train.iloc[sample-1:sample+steps,3].copy()\n",
    "y_series.iloc[1:] = y\n",
    "plt.plot(y_series)"
   ]
  },
  {
   "cell_type": "markdown",
   "metadata": {},
   "source": [
    "# Metrics\n",
    "The sample prediction is not successfull at all, we need some metric to optimize it.\n",
    "\n",
    "Because this is an regression problem, we need a loss function describing how far we are from the correct answer.\n",
    "I propose an $MSE$ metric with a sum reduction:\n",
    "\n",
    "\\begin{equation}\n",
    "MSE = \\frac{1}{2} \\left( y - \\hat{y} \\right)^2\n",
    "\\end{equation}\n",
    "\n",
    "It will allow us to compute a gradient that moves towards a better solution."
   ]
  },
  {
   "cell_type": "code",
   "execution_count": 9,
   "metadata": {},
   "outputs": [],
   "source": [
    "def loss_mse(y_hat, y):\n",
    "    mse = 0.0\n",
    "    for a,b in zip(y_hat, y):\n",
    "        mse += 0.5 * (a - b)**2\n",
    "    return mse"
   ]
  },
  {
   "cell_type": "markdown",
   "metadata": {},
   "source": [
    "## Optimizing our benchmark"
   ]
  },
  {
   "cell_type": "code",
   "execution_count": 10,
   "metadata": {},
   "outputs": [
    {
     "data": {
      "text/plain": [
       "330.11198505653476"
      ]
     },
     "execution_count": 10,
     "metadata": {},
     "output_type": "execute_result"
    }
   ],
   "source": [
    "target = nasdaq_train.iloc[sample:sample+steps,3].values\n",
    "loss_mse(target, y)"
   ]
  },
  {
   "cell_type": "code",
   "execution_count": 11,
   "metadata": {},
   "outputs": [],
   "source": [
    "def test(in_data, target, w=1):\n",
    "    loss = [[], []]\n",
    "    for i in range(2, 90):\n",
    "        benchmark = MA_regressor(i)\n",
    "        y = benchmark.predict([in_data.values], 10)[0]\n",
    "        loss[0].append(i)\n",
    "        loss[1].append(loss_mse(target, y) / w)\n",
    "    return np.array(loss)"
   ]
  },
  {
   "cell_type": "code",
   "execution_count": 12,
   "metadata": {},
   "outputs": [
    {
     "data": {
      "text/plain": [
       "[<matplotlib.lines.Line2D at 0x7fe8b6457358>]"
      ]
     },
     "execution_count": 12,
     "metadata": {},
     "output_type": "execute_result"
    },
    {
     "data": {
      "image/png": "[encoded data removed]",
      "text/plain": [
       "<Figure size 432x288 with 1 Axes>"
      ]
     },
     "metadata": {},
     "output_type": "display_data"
    }
   ],
   "source": [
    "sample = 100\n",
    "tests = 500\n",
    "\n",
    "loss = test(nasdaq_train.iloc[:sample], nasdaq_train.iloc[sample:sample+steps,3].values, w=tests)\n",
    "for offset in range(1,tests,2):\n",
    "    loss[1] += test(nasdaq_train.iloc[offset:offset+sample],\n",
    "                 nasdaq_train.iloc[offset+sample:offset+sample+steps,3].values, w=tests)[1]\n",
    "\n",
    "plt.plot(*loss, 'x')"
   ]
  },
  {
   "cell_type": "markdown",
   "metadata": {},
   "source": [
    "### Best benchmark model\n",
    "It is clear that the lowest value of `N = 2` gives the best results over half of the NASDAQ train dataset.\n",
    "\n",
    "Let's save it as our final benchmark."
   ]
  },
  {
   "cell_type": "code",
   "execution_count": 13,
   "metadata": {},
   "outputs": [],
   "source": [
    "benchmark = MA_regressor(N=2)"
   ]
  },
  {
   "cell_type": "markdown",
   "metadata": {},
   "source": [
    "# LSTM model\n",
    "Great, now that we know what the performance of our benchmark is, we can start developing a better solution.\n",
    "Inside `model/model.py` there is an LSTMRegressor class, which is the model we will train.\n",
    "\n",
    "I will train both of them and compare the results.\n",
    "\n",
    "## Data Loader\n",
    "Before we start we need to create a data loader for our problem.\n",
    "The best approach is to use a sliding window over the dataset."
   ]
  },
  {
   "cell_type": "code",
   "execution_count": 14,
   "metadata": {},
   "outputs": [],
   "source": [
    "class SlidingWindowDataset(torch.utils.data.Dataset):\n",
    "    def __init__(self, data, window_size):\n",
    "        super().__init__()\n",
    "        self.timeseries = data\n",
    "        self.window = window_size\n",
    "        self.length = len(self.timeseries)\n",
    "    \n",
    "    def __len__(self):\n",
    "        return self.length - self.window + 1\n",
    "        \n",
    "    def __getitem__(self, index):\n",
    "        if type(index) is slice:\n",
    "            start = 0\n",
    "            stop = self.length - self.window\n",
    "            step = 1\n",
    "            if index.start is not None:\n",
    "                start = index.start\n",
    "            if index.stop is not None:\n",
    "                stop = index.stop\n",
    "            if index.step is not None:\n",
    "                step = index.step\n",
    "            return np.array([self.timeseries[i:i+self.window] for i in range(start,stop,step)])\n",
    "        else:\n",
    "            last = index + self.window\n",
    "            if index < 0 or last > self.length:\n",
    "                raise IndexError\n",
    "            return self.timeseries[index:last]"
   ]
  },
  {
   "cell_type": "code",
   "execution_count": 15,
   "metadata": {},
   "outputs": [],
   "source": [
    "ds = SlidingWindowDataset(nasdaq_test.values, 5)\n",
    "ds_loader = torch.utils.data.DataLoader(ds, batch_size=4)"
   ]
  },
  {
   "cell_type": "code",
   "execution_count": 16,
   "metadata": {},
   "outputs": [
    {
     "data": {
      "text/plain": [
       "(torch.Size([4, 5, 9]),\n",
       " tensor([[[ 6.5735e+03,  6.5867e+03,  6.3046e+03,  6.3330e+03,  1.0000e+00,\n",
       "            7.2584e+03,  7.4221e+03, -1.9542e+02,  5.0000e+01],\n",
       "          [ 6.2785e+03,  6.3552e+03,  6.1902e+03,  6.1929e+03,  3.0000e+00,\n",
       "            7.2264e+03,  7.3989e+03, -1.4007e+02,  4.2857e+01],\n",
       "          [ 6.2579e+03,  6.5555e+03,  6.2143e+03,  6.5544e+03,  2.0000e+00,\n",
       "            7.2062e+03,  7.3729e+03,  3.6144e+02,  3.5714e+01],\n",
       "          [ 6.4572e+03,  6.5830e+03,  6.3370e+03,  6.5795e+03,  1.0000e+00,\n",
       "            7.1874e+03,  7.3521e+03,  2.5130e+01,  4.2857e+01],\n",
       "          [ 6.6168e+03,  6.6842e+03,  6.5292e+03,  6.5845e+03,  1.0000e+00,\n",
       "            7.1693e+03,  7.3333e+03,  5.0298e+00,  4.2857e+01]],\n",
       " \n",
       "         [[ 6.2785e+03,  6.3552e+03,  6.1902e+03,  6.1929e+03,  3.0000e+00,\n",
       "            7.2264e+03,  7.3989e+03, -1.4007e+02,  4.2857e+01],\n",
       "          [ 6.2579e+03,  6.5555e+03,  6.2143e+03,  6.5544e+03,  2.0000e+00,\n",
       "            7.2062e+03,  7.3729e+03,  3.6144e+02,  3.5714e+01],\n",
       "          [ 6.4572e+03,  6.5830e+03,  6.3370e+03,  6.5795e+03,  1.0000e+00,\n",
       "            7.1874e+03,  7.3521e+03,  2.5130e+01,  4.2857e+01],\n",
       "          [ 6.6168e+03,  6.6842e+03,  6.5292e+03,  6.5845e+03,  1.0000e+00,\n",
       "            7.1693e+03,  7.3333e+03,  5.0298e+00,  4.2857e+01],\n",
       "          [ 6.6495e+03,  6.6600e+03,  6.5701e+03,  6.6353e+03,  3.0000e+00,\n",
       "            7.1533e+03,  7.3137e+03,  5.0760e+01,  5.0000e+01]],\n",
       " \n",
       "         [[ 6.2579e+03,  6.5555e+03,  6.2143e+03,  6.5544e+03,  2.0000e+00,\n",
       "            7.2062e+03,  7.3729e+03,  3.6144e+02,  3.5714e+01],\n",
       "          [ 6.4572e+03,  6.5830e+03,  6.3370e+03,  6.5795e+03,  1.0000e+00,\n",
       "            7.1874e+03,  7.3521e+03,  2.5130e+01,  4.2857e+01],\n",
       "          [ 6.6168e+03,  6.6842e+03,  6.5292e+03,  6.5845e+03,  1.0000e+00,\n",
       "            7.1693e+03,  7.3333e+03,  5.0298e+00,  4.2857e+01],\n",
       "          [ 6.6495e+03,  6.6600e+03,  6.5701e+03,  6.6353e+03,  3.0000e+00,\n",
       "            7.1533e+03,  7.3137e+03,  5.0760e+01,  5.0000e+01],\n",
       "          [ 6.5069e+03,  6.6937e+03,  6.5069e+03,  6.6659e+03,  2.0000e+00,\n",
       "            7.1387e+03,  7.2950e+03,  3.0660e+01,  5.0000e+01]],\n",
       " \n",
       "         [[ 6.4572e+03,  6.5830e+03,  6.3370e+03,  6.5795e+03,  1.0000e+00,\n",
       "            7.1874e+03,  7.3521e+03,  2.5130e+01,  4.2857e+01],\n",
       "          [ 6.6168e+03,  6.6842e+03,  6.5292e+03,  6.5845e+03,  1.0000e+00,\n",
       "            7.1693e+03,  7.3333e+03,  5.0298e+00,  4.2857e+01],\n",
       "          [ 6.6495e+03,  6.6600e+03,  6.5701e+03,  6.6353e+03,  3.0000e+00,\n",
       "            7.1533e+03,  7.3137e+03,  5.0760e+01,  5.0000e+01],\n",
       "          [ 6.5069e+03,  6.6937e+03,  6.5069e+03,  6.6659e+03,  2.0000e+00,\n",
       "            7.1387e+03,  7.2950e+03,  3.0660e+01,  5.0000e+01],\n",
       "          [ 6.5848e+03,  6.6002e+03,  6.4571e+03,  6.4635e+03,  1.0000e+00,\n",
       "            7.1184e+03,  7.2755e+03, -2.0244e+02,  5.0000e+01]]],\n",
       "        dtype=torch.float64))"
      ]
     },
     "execution_count": 16,
     "metadata": {},
     "output_type": "execute_result"
    }
   ],
   "source": [
    "sample = next(iter(ds_loader))\n",
    "sample.shape, sample"
   ]
  },
  {
   "cell_type": "markdown",
   "metadata": {},
   "source": [
    "## Uploading data\n",
    "We need to store our input files on S3 server."
   ]
  },
  {
   "cell_type": "code",
   "execution_count": 17,
   "metadata": {},
   "outputs": [],
   "source": [
    "import sagemaker\n",
    "\n",
    "sagemaker_session = sagemaker.Session()\n",
    "\n",
    "bucket = sagemaker_session.default_bucket()\n",
    "prefix = 'sagemaker/stock_forecasting'\n",
    "\n",
    "role = sagemaker.get_execution_role()"
   ]
  },
  {
   "cell_type": "code",
   "execution_count": 18,
   "metadata": {},
   "outputs": [
    {
     "data": {
      "text/plain": [
       "{'nasdaq_export': 's3://sagemaker-us-east-1-236375122127/sagemaker/stock_forecasting/nasdaq_export',\n",
       " 'eurusd_export': 's3://sagemaker-us-east-1-236375122127/sagemaker/stock_forecasting/eurusd_export'}"
      ]
     },
     "execution_count": 18,
     "metadata": {},
     "output_type": "execute_result"
    }
   ],
   "source": [
    "in_data = {}\n",
    "for directory in ['nasdaq_export', 'eurusd_export']:\n",
    "    in_data.update({directory: sagemaker_session.upload_data(path=os.path.join(data_dir,directory), bucket=bucket, key_prefix=os.path.join(prefix,directory))})\n",
    "in_data"
   ]
  },
  {
   "cell_type": "markdown",
   "metadata": {},
   "source": [
    "## Training\n",
    "Before we run training job let's make sure that everything works as expected.\n",
    "Here is a good place to test some different parameters as well."
   ]
  },
  {
   "cell_type": "code",
   "execution_count": 19,
   "metadata": {},
   "outputs": [],
   "source": [
    "import model.model as mdl\n",
    "import model.train as trn"
   ]
  },
  {
   "cell_type": "code",
   "execution_count": 20,
   "metadata": {},
   "outputs": [],
   "source": [
    "def get_data_loader(batch_size, sliding_window, dataframe):\n",
    "    train_ds = mdl.SlidingWindowDataset(dataframe.values, sliding_window)\n",
    "    return torch.utils.data.DataLoader(train_ds, batch_size=batch_size)"
   ]
  },
  {
   "cell_type": "code",
   "execution_count": 29,
   "metadata": {},
   "outputs": [],
   "source": [
    "inputs = 100\n",
    "outputs = 1\n",
    "\n",
    "model = mdl.LSTMRegressor(input_size=inputs, input_channels=9, c_filters=5, c_kernel_size=3, lstm_layers=2, lstm_hidden=64, dropout=0.4, output_size=outputs)\n",
    "model = model.double()"
   ]
  },
  {
   "cell_type": "code",
   "execution_count": 30,
   "metadata": {},
   "outputs": [],
   "source": [
    "loss_fn = torch.nn.MSELoss(reduction='sum')\n",
    "device = torch.device(\"cuda\" if torch.cuda.is_available() else \"cpu\")\n",
    "train_loader = get_data_loader(128, inputs+outputs, eurusd_train)\n",
    "optimizer = torch.optim.Adam(model.parameters())"
   ]
  },
  {
   "cell_type": "code",
   "execution_count": 31,
   "metadata": {},
   "outputs": [
    {
     "name": "stdout",
     "output_type": "stream",
     "text": [
      "Epoch: 1, Loss: 0.07156045192516795\n",
      "Epoch: 2, Loss: 0.008054071832158255\n",
      "Epoch: 3, Loss: 0.0029416292775597823\n",
      "Epoch: 4, Loss: 0.001456123153839118\n",
      "Epoch: 5, Loss: 0.0008216218586893258\n"
     ]
    }
   ],
   "source": [
    "trn.train(model, outputs, train_loader, list(range(0,9)), 5, optimizer, loss_fn, device)"
   ]
  },
  {
   "cell_type": "markdown",
   "metadata": {},
   "source": [
    "## Perform Training\n",
    "Here we will train a model with 9 channels on EURUSD dataset, then on NASDAQ (with Volume dropped) and finally we will evaluate its performance.\n",
    "\n",
    "Hyperparameters were set manually with some experimentation. Feel free to adjust them yourself."
   ]
  },
  {
   "cell_type": "code",
   "execution_count": 32,
   "metadata": {},
   "outputs": [],
   "source": [
    "from sagemaker.pytorch import PyTorch"
   ]
  },
  {
   "cell_type": "code",
   "execution_count": 33,
   "metadata": {},
   "outputs": [],
   "source": [
    "estimator = PyTorch(entry_point=\"train.py\",\n",
    "                    source_dir=\"model\",\n",
    "                    role=role,\n",
    "                    framework_version='1.2.0',\n",
    "                    train_instance_count=1,\n",
    "                    train_instance_type='ml.p2.xlarge',\n",
    "                    hyperparameters={\n",
    "                        'epochs': 20,\n",
    "                        'batch-size': 256,\n",
    "                        'input-size': 100,\n",
    "                        'input-channels': '0,1,2,3,4,5,6,7,8',\n",
    "                        'c-filters': 4,\n",
    "                        'lstm-hidden': 64,\n",
    "                        'lstm-layers': 2,\n",
    "                        'output-size': 1,\n",
    "                    })"
   ]
  },
  {
   "cell_type": "code",
   "execution_count": 34,
   "metadata": {},
   "outputs": [
    {
     "name": "stdout",
     "output_type": "stream",
     "text": [
      "2020-01-30 14:22:51 Starting - Starting the training job...\n",
      "2020-01-30 14:22:53 Starting - Launching requested ML instances......\n",
      "2020-01-30 14:23:57 Starting - Preparing the instances for training......\n",
      "2020-01-30 14:25:17 Downloading - Downloading input data......\n",
      "2020-01-30 14:26:15 Training - Downloading the training image............\n",
      "2020-01-30 14:28:19 Training - Training image download completed. Training in progress..\u001b[34mbash: cannot set terminal process group (-1): Inappropriate ioctl for device\u001b[0m\n",
      "\u001b[34mbash: no job control in this shell\u001b[0m\n",
      "\u001b[34m2020-01-30 14:28:21,011 sagemaker-containers INFO     Imported framework sagemaker_pytorch_container.training\u001b[0m\n",
      "\u001b[34m2020-01-30 14:28:21,037 sagemaker_pytorch_container.training INFO     Block until all host DNS lookups succeed.\u001b[0m\n",
      "\u001b[34m2020-01-30 14:28:22,449 sagemaker_pytorch_container.training INFO     Invoking user training script.\u001b[0m\n",
      "\u001b[34m2020-01-30 14:28:22,702 sagemaker-containers INFO     Module train does not provide a setup.py. \u001b[0m\n",
      "\u001b[34mGenerating setup.py\u001b[0m\n",
      "\u001b[34m2020-01-30 14:28:22,702 sagemaker-containers INFO     Generating setup.cfg\u001b[0m\n",
      "\u001b[34m2020-01-30 14:28:22,702 sagemaker-containers INFO     Generating MANIFEST.in\u001b[0m\n",
      "\u001b[34m2020-01-30 14:28:22,702 sagemaker-containers INFO     Installing module with the following command:\u001b[0m\n",
      "\u001b[34m/opt/conda/bin/python -m pip install . \u001b[0m\n",
      "\u001b[34mProcessing /opt/ml/code\u001b[0m\n",
      "\u001b[34mBuilding wheels for collected packages: train\n",
      "  Building wheel for train (setup.py): started\n",
      "  Building wheel for train (setup.py): finished with status 'done'\n",
      "  Created wheel for train: filename=train-1.0.0-py2.py3-none-any.whl size=20433 sha256=26da0b9e1f5dd3440f61f325ded2f423eabc3991fd3ffc52bb037d786789b332\n",
      "  Stored in directory: /tmp/pip-ephem-wheel-cache-tdkdyfh8/wheels/35/24/16/37574d11bf9bde50616c67372a334f94fa8356bc7164af8ca3\u001b[0m\n",
      "\u001b[34mSuccessfully built train\u001b[0m\n",
      "\u001b[34mInstalling collected packages: train\u001b[0m\n",
      "\u001b[34mSuccessfully installed train-1.0.0\u001b[0m\n",
      "\u001b[34mWARNING: You are using pip version 19.3; however, version 20.0.2 is available.\u001b[0m\n",
      "\u001b[34mYou should consider upgrading via the 'pip install --upgrade pip' command.\u001b[0m\n",
      "\u001b[34m2020-01-30 14:28:24,770 sagemaker-containers INFO     Invoking user script\n",
      "\u001b[0m\n",
      "\u001b[34mTraining Env:\n",
      "\u001b[0m\n",
      "\u001b[34m{\n",
      "    \"additional_framework_parameters\": {},\n",
      "    \"channel_input_dirs\": {\n",
      "        \"training\": \"/opt/ml/input/data/training\"\n",
      "    },\n",
      "    \"current_host\": \"algo-1\",\n",
      "    \"framework_module\": \"sagemaker_pytorch_container.training:main\",\n",
      "    \"hosts\": [\n",
      "        \"algo-1\"\n",
      "    ],\n",
      "    \"hyperparameters\": {\n",
      "        \"input-size\": 100,\n",
      "        \"lstm-layers\": 2,\n",
      "        \"input-channels\": \"0,1,2,3,4,5,6,7,8\",\n",
      "        \"c-filters\": 4,\n",
      "        \"batch-size\": 256,\n",
      "        \"lstm-hidden\": 64,\n",
      "        \"output-size\": 1,\n",
      "        \"epochs\": 20\n",
      "    },\n",
      "    \"input_config_dir\": \"/opt/ml/input/config\",\n",
      "    \"input_data_config\": {\n",
      "        \"training\": {\n",
      "            \"TrainingInputMode\": \"File\",\n",
      "            \"S3DistributionType\": \"FullyReplicated\",\n",
      "            \"RecordWrapperType\": \"None\"\n",
      "        }\n",
      "    },\n",
      "    \"input_dir\": \"/opt/ml/input\",\n",
      "    \"is_master\": true,\n",
      "    \"job_name\": \"pytorch-training-2020-01-30-14-22-50-179\",\n",
      "    \"log_level\": 20,\n",
      "    \"master_hostname\": \"algo-1\",\n",
      "    \"model_dir\": \"/opt/ml/model\",\n",
      "    \"module_dir\": \"s3://sagemaker-us-east-1-236375122127/pytorch-training-2020-01-30-14-22-50-179/source/sourcedir.tar.gz\",\n",
      "    \"module_name\": \"train\",\n",
      "    \"network_interface_name\": \"eth0\",\n",
      "    \"num_cpus\": 4,\n",
      "    \"num_gpus\": 1,\n",
      "    \"output_data_dir\": \"/opt/ml/output/data\",\n",
      "    \"output_dir\": \"/opt/ml/output\",\n",
      "    \"output_intermediate_dir\": \"/opt/ml/output/intermediate\",\n",
      "    \"resource_config\": {\n",
      "        \"current_host\": \"algo-1\",\n",
      "        \"hosts\": [\n",
      "            \"algo-1\"\n",
      "        ],\n",
      "        \"network_interface_name\": \"eth0\"\n",
      "    },\n",
      "    \"user_entry_point\": \"train.py\"\u001b[0m\n",
      "\u001b[34m}\n",
      "\u001b[0m\n",
      "\u001b[34mEnvironment variables:\n",
      "\u001b[0m\n",
      "\u001b[34mSM_HOSTS=[\"algo-1\"]\u001b[0m\n",
      "\u001b[34mSM_NETWORK_INTERFACE_NAME=eth0\u001b[0m\n",
      "\u001b[34mSM_HPS={\"batch-size\":256,\"c-filters\":4,\"epochs\":20,\"input-channels\":\"0,1,2,3,4,5,6,7,8\",\"input-size\":100,\"lstm-hidden\":64,\"lstm-layers\":2,\"output-size\":1}\u001b[0m\n",
      "\u001b[34mSM_USER_ENTRY_POINT=train.py\u001b[0m\n",
      "\u001b[34mSM_FRAMEWORK_PARAMS={}\u001b[0m\n",
      "\u001b[34mSM_RESOURCE_CONFIG={\"current_host\":\"algo-1\",\"hosts\":[\"algo-1\"],\"network_interface_name\":\"eth0\"}\u001b[0m\n",
      "\u001b[34mSM_INPUT_DATA_CONFIG={\"training\":{\"RecordWrapperType\":\"None\",\"S3DistributionType\":\"FullyReplicated\",\"TrainingInputMode\":\"File\"}}\u001b[0m\n",
      "\u001b[34mSM_OUTPUT_DATA_DIR=/opt/ml/output/data\u001b[0m\n",
      "\u001b[34mSM_CHANNELS=[\"training\"]\u001b[0m\n",
      "\u001b[34mSM_CURRENT_HOST=algo-1\u001b[0m\n",
      "\u001b[34mSM_MODULE_NAME=train\u001b[0m\n",
      "\u001b[34mSM_LOG_LEVEL=20\u001b[0m\n",
      "\u001b[34mSM_FRAMEWORK_MODULE=sagemaker_pytorch_container.training:main\u001b[0m\n",
      "\u001b[34mSM_INPUT_DIR=/opt/ml/input\u001b[0m\n",
      "\u001b[34mSM_INPUT_CONFIG_DIR=/opt/ml/input/config\u001b[0m\n",
      "\u001b[34mSM_OUTPUT_DIR=/opt/ml/output\u001b[0m\n",
      "\u001b[34mSM_NUM_CPUS=4\u001b[0m\n",
      "\u001b[34mSM_NUM_GPUS=1\u001b[0m\n",
      "\u001b[34mSM_MODEL_DIR=/opt/ml/model\u001b[0m\n",
      "\u001b[34mSM_MODULE_DIR=s3://sagemaker-us-east-1-236375122127/pytorch-training-2020-01-30-14-22-50-179/source/sourcedir.tar.gz\u001b[0m\n",
      "\u001b[34mSM_TRAINING_ENV={\"additional_framework_parameters\":{},\"channel_input_dirs\":{\"training\":\"/opt/ml/input/data/training\"},\"current_host\":\"algo-1\",\"framework_module\":\"sagemaker_pytorch_container.training:main\",\"hosts\":[\"algo-1\"],\"hyperparameters\":{\"batch-size\":256,\"c-filters\":4,\"epochs\":20,\"input-channels\":\"0,1,2,3,4,5,6,7,8\",\"input-size\":100,\"lstm-hidden\":64,\"lstm-layers\":2,\"output-size\":1},\"input_config_dir\":\"/opt/ml/input/config\",\"input_data_config\":{\"training\":{\"RecordWrapperType\":\"None\",\"S3DistributionType\":\"FullyReplicated\",\"TrainingInputMode\":\"File\"}},\"input_dir\":\"/opt/ml/input\",\"is_master\":true,\"job_name\":\"pytorch-training-2020-01-30-14-22-50-179\",\"log_level\":20,\"master_hostname\":\"algo-1\",\"model_dir\":\"/opt/ml/model\",\"module_dir\":\"s3://sagemaker-us-east-1-236375122127/pytorch-training-2020-01-30-14-22-50-179/source/sourcedir.tar.gz\",\"module_name\":\"train\",\"network_interface_name\":\"eth0\",\"num_cpus\":4,\"num_gpus\":1,\"output_data_dir\":\"/opt/ml/output/data\",\"output_dir\":\"/opt/ml/output\",\"output_intermediate_dir\":\"/opt/ml/output/intermediate\",\"resource_config\":{\"current_host\":\"algo-1\",\"hosts\":[\"algo-1\"],\"network_interface_name\":\"eth0\"},\"user_entry_point\":\"train.py\"}\u001b[0m\n",
      "\u001b[34mSM_USER_ARGS=[\"--batch-size\",\"256\",\"--c-filters\",\"4\",\"--epochs\",\"20\",\"--input-channels\",\"0,1,2,3,4,5,6,7,8\",\"--input-size\",\"100\",\"--lstm-hidden\",\"64\",\"--lstm-layers\",\"2\",\"--output-size\",\"1\"]\u001b[0m\n",
      "\u001b[34mSM_OUTPUT_INTERMEDIATE_DIR=/opt/ml/output/intermediate\u001b[0m\n",
      "\u001b[34mSM_CHANNEL_TRAINING=/opt/ml/input/data/training\u001b[0m\n",
      "\u001b[34mSM_HP_INPUT-SIZE=100\u001b[0m\n",
      "\u001b[34mSM_HP_LSTM-LAYERS=2\u001b[0m\n",
      "\u001b[34mSM_HP_INPUT-CHANNELS=0,1,2,3,4,5,6,7,8\u001b[0m\n",
      "\u001b[34mSM_HP_C-FILTERS=4\u001b[0m\n",
      "\u001b[34mSM_HP_BATCH-SIZE=256\u001b[0m\n",
      "\u001b[34mSM_HP_LSTM-HIDDEN=64\u001b[0m\n",
      "\u001b[34mSM_HP_OUTPUT-SIZE=1\u001b[0m\n",
      "\u001b[34mSM_HP_EPOCHS=20\u001b[0m\n",
      "\u001b[34mPYTHONPATH=/opt/conda/bin:/opt/conda/lib/python36.zip:/opt/conda/lib/python3.6:/opt/conda/lib/python3.6/lib-dynload:/opt/conda/lib/python3.6/site-packages\n",
      "\u001b[0m\n",
      "\u001b[34mInvoking script with the following command:\n",
      "\u001b[0m\n",
      "\u001b[34m/opt/conda/bin/python -m train --batch-size 256 --c-filters 4 --epochs 20 --input-channels 0,1,2,3,4,5,6,7,8 --input-size 100 --lstm-hidden 64 --lstm-layers 2 --output-size 1\n",
      "\n",
      "\u001b[0m\n",
      "\u001b[34mUsing device cuda.\u001b[0m\n",
      "\u001b[34mEpoch: 1, Loss: 0.20912076384075404\u001b[0m\n",
      "\u001b[34mEpoch: 2, Loss: 0.027024452231702186\u001b[0m\n",
      "\u001b[34mEpoch: 3, Loss: 0.01764836994148494\u001b[0m\n",
      "\u001b[34mEpoch: 4, Loss: 0.012124737973527608\u001b[0m\n",
      "\u001b[34mEpoch: 5, Loss: 0.008537339021446254\u001b[0m\n",
      "\u001b[34mEpoch: 6, Loss: 0.006445545979161126\u001b[0m\n",
      "\u001b[34mEpoch: 7, Loss: 0.005024752378509947\u001b[0m\n",
      "\u001b[34mEpoch: 8, Loss: 0.00406754789359199\u001b[0m\n",
      "\u001b[34mEpoch: 9, Loss: 0.0033623341009799633\u001b[0m\n",
      "\u001b[34mEpoch: 10, Loss: 0.002717379341901151\u001b[0m\n",
      "\u001b[34mEpoch: 11, Loss: 0.002347105449917637\u001b[0m\n",
      "\u001b[34mEpoch: 12, Loss: 0.001970988870564533\u001b[0m\n",
      "\u001b[34mEpoch: 13, Loss: 0.0017293860445135995\u001b[0m\n",
      "\u001b[34mEpoch: 14, Loss: 0.001541923996892972\u001b[0m\n",
      "\u001b[34mEpoch: 15, Loss: 0.001359685597596538\u001b[0m\n",
      "\u001b[34mEpoch: 16, Loss: 0.0012527813625069467\u001b[0m\n",
      "\u001b[34mEpoch: 17, Loss: 0.001158168441386901\u001b[0m\n",
      "\u001b[34mEpoch: 18, Loss: 0.00104794177537049\u001b[0m\n",
      "\u001b[34mEpoch: 19, Loss: 0.0010045284479367042\u001b[0m\n",
      "\u001b[34mEpoch: 20, Loss: 0.0009401199282189754\u001b[0m\n",
      "\u001b[34m2020-01-30 14:30:25,517 sagemaker-containers INFO     Reporting training SUCCESS\u001b[0m\n",
      "\n",
      "2020-01-30 14:30:33 Uploading - Uploading generated training model\n",
      "2020-01-30 14:30:33 Completed - Training job completed\n",
      "Training seconds: 316\n",
      "Billable seconds: 316\n"
     ]
    }
   ],
   "source": [
    "estimator.fit({'training': in_data['eurusd_export']})"
   ]
  },
  {
   "cell_type": "markdown",
   "metadata": {},
   "source": [
    "### Model S3 Location\n",
    "For our web application deployment we will use S3 location of our estimator:\n",
    "\n",
    "**Copy result of the cell below - it is required in the next notebook!**"
   ]
  },
  {
   "cell_type": "code",
   "execution_count": 35,
   "metadata": {},
   "outputs": [
    {
     "data": {
      "text/plain": [
       "'s3://sagemaker-us-east-1-236375122127/pytorch-training-2020-01-30-14-22-50-179/output/model.tar.gz'"
      ]
     },
     "execution_count": 35,
     "metadata": {},
     "output_type": "execute_result"
    }
   ],
   "source": [
    "estimator.model_data"
   ]
  },
  {
   "cell_type": "markdown",
   "metadata": {},
   "source": [
    "## Evaluating\n",
    "Here we deploy our estimator, test how does it perform on both NASDAQ and EURUSD. After everything runs without errors, we will compare the result against our benchmark."
   ]
  },
  {
   "cell_type": "code",
   "execution_count": 36,
   "metadata": {},
   "outputs": [
    {
     "name": "stdout",
     "output_type": "stream",
     "text": [
      "---------------------!"
     ]
    }
   ],
   "source": [
    "predictor = estimator.deploy(instance_type='ml.p2.xlarge', initial_instance_count=1)"
   ]
  },
  {
   "cell_type": "code",
   "execution_count": 37,
   "metadata": {},
   "outputs": [],
   "source": [
    "ds_eurusd = SlidingWindowDataset(eurusd_test.values, 101)"
   ]
  },
  {
   "cell_type": "code",
   "execution_count": 38,
   "metadata": {},
   "outputs": [],
   "source": [
    "ds_nasdaq = SlidingWindowDataset(nasdaq_test.values, 101)"
   ]
  },
  {
   "cell_type": "code",
   "execution_count": 40,
   "metadata": {},
   "outputs": [
    {
     "data": {
      "text/plain": [
       "array([[ 9.33097428e-05],\n",
       "       [-3.33403295e-04],\n",
       "       [-3.89211781e-04]])"
      ]
     },
     "execution_count": 40,
     "metadata": {},
     "output_type": "execute_result"
    }
   ],
   "source": [
    "predictor.predict(ds_eurusd[:3][:,:100])"
   ]
  },
  {
   "cell_type": "code",
   "execution_count": 41,
   "metadata": {},
   "outputs": [
    {
     "data": {
      "text/plain": [
       "array([[0.00141651],\n",
       "       [0.00121836],\n",
       "       [0.00119983]])"
      ]
     },
     "execution_count": 41,
     "metadata": {},
     "output_type": "execute_result"
    }
   ],
   "source": [
    "predictor.predict(ds_nasdaq[:3][:,:100])"
   ]
  },
  {
   "cell_type": "markdown",
   "metadata": {},
   "source": [
    "## Benchmark vs LSTM Solution"
   ]
  },
  {
   "cell_type": "code",
   "execution_count": 54,
   "metadata": {},
   "outputs": [
    {
     "data": {
      "text/plain": [
       "((20, 101), (20, 100, 9))"
      ]
     },
     "execution_count": 54,
     "metadata": {},
     "output_type": "execute_result"
    }
   ],
   "source": [
    "test_y = ds_eurusd[:20]\n",
    "x = test_y[:,:100]\n",
    "test_y = test_y[:,:,col2int['Close']]\n",
    "test_y.shape, x.shape"
   ]
  },
  {
   "cell_type": "code",
   "execution_count": 55,
   "metadata": {},
   "outputs": [],
   "source": [
    "ma_y = benchmark.predict(x, 1)"
   ]
  },
  {
   "cell_type": "raw",
   "metadata": {},
   "source": [
    "model_y = None\n",
    "with torch.no_grad():\n",
    "    model.eval()\n",
    "    model_y = model(torch.from_numpy(test_in))"
   ]
  },
  {
   "cell_type": "code",
   "execution_count": 56,
   "metadata": {},
   "outputs": [],
   "source": [
    "model_y = predictor.predict(x)"
   ]
  },
  {
   "cell_type": "code",
   "execution_count": 67,
   "metadata": {},
   "outputs": [
    {
     "ename": "AttributeError",
     "evalue": "module 'numpy' has no attribute 'cat'",
     "output_type": "error",
     "traceback": [
      "\u001b[0;31m---------------------------------------------------------------------------\u001b[0m",
      "\u001b[0;31mAttributeError\u001b[0m                            Traceback (most recent call last)",
      "\u001b[0;32m<ipython-input-67-85d49a310da9>\u001b[0m in \u001b[0;36m<module>\u001b[0;34m()\u001b[0m\n\u001b[1;32m      1\u001b[0m \u001b[0max\u001b[0m \u001b[0;34m=\u001b[0m \u001b[0mnp\u001b[0m\u001b[0;34m.\u001b[0m\u001b[0marange\u001b[0m\u001b[0;34m(\u001b[0m\u001b[0msum\u001b[0m\u001b[0;34m(\u001b[0m\u001b[0mtest_y\u001b[0m\u001b[0;34m.\u001b[0m\u001b[0mshape\u001b[0m\u001b[0;34m)\u001b[0m\u001b[0;34m)\u001b[0m\u001b[0;34m\u001b[0m\u001b[0m\n\u001b[0;32m----> 2\u001b[0;31m \u001b[0my\u001b[0m \u001b[0;34m=\u001b[0m \u001b[0mnp\u001b[0m\u001b[0;34m.\u001b[0m\u001b[0mcat\u001b[0m\u001b[0;34m(\u001b[0m\u001b[0;34m[\u001b[0m\u001b[0mtest_y\u001b[0m\u001b[0;34m[\u001b[0m\u001b[0mi\u001b[0m\u001b[0;34m,\u001b[0m\u001b[0;34m-\u001b[0m\u001b[0;36m1\u001b[0m\u001b[0;34m]\u001b[0m \u001b[0;32mfor\u001b[0m \u001b[0mi\u001b[0m \u001b[0;32min\u001b[0m \u001b[0mrange\u001b[0m\u001b[0;34m(\u001b[0m\u001b[0;36m0\u001b[0m\u001b[0;34m,\u001b[0m\u001b[0mtest_y\u001b[0m\u001b[0;34m.\u001b[0m\u001b[0mshape\u001b[0m\u001b[0;34m[\u001b[0m\u001b[0;36m0\u001b[0m\u001b[0;34m]\u001b[0m\u001b[0;34m)\u001b[0m\u001b[0;34m]\u001b[0m\u001b[0;34m)\u001b[0m\u001b[0;34m\u001b[0m\u001b[0m\n\u001b[0m",
      "\u001b[0;31mAttributeError\u001b[0m: module 'numpy' has no attribute 'cat'"
     ]
    }
   ],
   "source": [
    "ax = np.arange(sum(test_y.shape))\n",
    "y = np.cat([test_y[i,-1] for i in range(0,test_y.shape[0])])"
   ]
  },
  {
   "cell_type": "code",
   "execution_count": 63,
   "metadata": {},
   "outputs": [
    {
     "data": {
      "image/png": "[encoded data removed]",
      "text/plain": [
       "<Figure size 576x432 with 1 Axes>"
      ]
     },
     "metadata": {},
     "output_type": "display_data"
    }
   ],
   "source": [
    "plt.figure(figsize=(8,6))\n",
    "for pred_id in range(0,len(test_y)):\n",
    "    ax = np.arange(pred_id + len(test_y[pred_id]))\n",
    "    plt.plot(ax[-len(test_y[0]):], test_y[pred_id], 'b')\n",
    "    plt.plot(ax[-1:], ma_y[pred_id], 'gx')\n",
    "    plt.plot(ax[-1:], test_y[pred_id,-1] + model_y[pred_id], 'rx')"
   ]
  },
  {
   "cell_type": "markdown",
   "metadata": {},
   "source": [
    "## Clean-up\n",
    "We will not need this endpoint anymore, so let's remove it."
   ]
  },
  {
   "cell_type": "code",
   "execution_count": 68,
   "metadata": {},
   "outputs": [],
   "source": [
    "estimator.delete_endpoint()"
   ]
  },
  {
   "cell_type": "markdown",
   "metadata": {},
   "source": [
    "# Summary\n",
    "Model is ready to deploy. Final deployment steps will be performed in the `WebApp.ipynb` notebook."
   ]
  },
  {
   "cell_type": "code",
   "execution_count": null,
   "metadata": {},
   "outputs": [],
   "source": []
  }
 ],
 "metadata": {
  "kernelspec": {
   "display_name": "conda_pytorch_p36",
   "language": "python",
   "name": "conda_pytorch_p36"
  },
  "language_info": {
   "codemirror_mode": {
    "name": "ipython",
    "version": 3
   },
   "file_extension": ".py",
   "mimetype": "text/x-python",
   "name": "python",
   "nbconvert_exporter": "python",
   "pygments_lexer": "ipython3",
   "version": "3.6.5"
  }
 },
 "nbformat": 4,
 "nbformat_minor": 4
}
